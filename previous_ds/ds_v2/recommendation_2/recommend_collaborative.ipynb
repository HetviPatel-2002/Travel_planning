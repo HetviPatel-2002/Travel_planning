{
 "cells": [
  {
   "cell_type": "code",
   "execution_count": 1,
   "metadata": {},
   "outputs": [],
   "source": [
    "import pandas as pd\n",
    "import numpy as np"
   ]
  },
  {
   "cell_type": "code",
   "execution_count": 2,
   "metadata": {},
   "outputs": [
    {
     "name": "stdout",
     "output_type": "stream",
     "text": [
      "\n",
      "Car Table:\n",
      "<class 'pandas.core.frame.DataFrame'>\n",
      "RangeIndex: 10800 entries, 0 to 10799\n",
      "Data columns (total 11 columns):\n",
      " #   Column               Non-Null Count  Dtype  \n",
      "---  ------               --------------  -----  \n",
      " 0   CarID                10800 non-null  int64  \n",
      " 1   Make                 10800 non-null  object \n",
      " 2   Model                10800 non-null  object \n",
      " 3   CarType              10800 non-null  object \n",
      " 4   Mileage_kmpl         10800 non-null  int64  \n",
      " 5   Year_Of_Manufacture  10800 non-null  int64  \n",
      " 6   Price_Per_Day        10800 non-null  float64\n",
      " 7   City                 10800 non-null  object \n",
      " 8   Car_Agency           10800 non-null  object \n",
      " 9   Agency_Price         10800 non-null  float64\n",
      " 10  LocationID           10800 non-null  int64  \n",
      "dtypes: float64(2), int64(4), object(5)\n",
      "memory usage: 928.3+ KB\n",
      "\n",
      "Car Rental Table:\n",
      "<class 'pandas.core.frame.DataFrame'>\n",
      "RangeIndex: 39979 entries, 0 to 39978\n",
      "Data columns (total 8 columns):\n",
      " #   Column           Non-Null Count  Dtype  \n",
      "---  ------           --------------  -----  \n",
      " 0   RentalID         39979 non-null  int64  \n",
      " 1   UserID           39979 non-null  int64  \n",
      " 2   Pickup_Location  39979 non-null  object \n",
      " 3   RentalDate       39979 non-null  object \n",
      " 4   Duration         39979 non-null  int64  \n",
      " 5   ReturnDate       39979 non-null  object \n",
      " 6   CarID            39979 non-null  int64  \n",
      " 7   TotalAmount      39979 non-null  float64\n",
      "dtypes: float64(1), int64(4), object(3)\n",
      "memory usage: 2.4+ MB\n"
     ]
    }
   ],
   "source": [
    "import os\n",
    "from sqlalchemy import create_engine\n",
    "from urllib.parse import quote_plus\n",
    "\n",
    "# ✅ Fetch database credentials from environment variables\n",
    "db_config = {\n",
    "    \"host\": os.getenv(\"DB_HOST\"),\n",
    "    \"user\": os.getenv(\"DB_USER\"),\n",
    "    \"password\": os.getenv(\"DB_PASSWORD\"),\n",
    "    \"database\": \"mmt\"\n",
    "}\n",
    "\n",
    "# ✅ Encode the password (handles special characters like '@', ':', etc.)\n",
    "encoded_password = quote_plus(db_config[\"password\"])\n",
    "\n",
    "# ✅ Create SQLAlchemy engine\n",
    "engine = create_engine(f\"mysql+pymysql://{db_config['user']}:{encoded_password}@{db_config['host']}/{db_config['database']}\")\n",
    "\n",
    "try:\n",
    "    # ✅ Fetch car table data\n",
    "    query_car = \"SELECT * FROM car\"\n",
    "    car_df = pd.read_sql(query_car, engine)\n",
    "    print(\"\\nCar Table:\")\n",
    "    car_df.info()\n",
    "\n",
    "    # ✅ Fetch car_rental table data\n",
    "    query_car_rental = \"SELECT * FROM rentals\"\n",
    "    car_rental_df = pd.read_sql(query_car_rental, engine)\n",
    "    print(\"\\nCar Rental Table:\")\n",
    "    car_rental_df.info()\n",
    "\n",
    "except Exception as e:\n",
    "    print(f\"Error: {e}\")\n"
   ]
  },
  {
   "cell_type": "code",
   "execution_count": 3,
   "metadata": {},
   "outputs": [],
   "source": [
    "car_df.rename(columns={\"CarID\":\"car_id\"},inplace=True)"
   ]
  },
  {
   "cell_type": "code",
   "execution_count": 4,
   "metadata": {},
   "outputs": [
    {
     "data": {
      "text/plain": [
       "Index(['car_id', 'Make', 'Model', 'CarType', 'Mileage_kmpl',\n",
       "       'Year_Of_Manufacture', 'Price_Per_Day', 'City', 'Car_Agency',\n",
       "       'Agency_Price', 'LocationID'],\n",
       "      dtype='object')"
      ]
     },
     "execution_count": 4,
     "metadata": {},
     "output_type": "execute_result"
    }
   ],
   "source": [
    "car_df.columns"
   ]
  },
  {
   "cell_type": "code",
   "execution_count": 5,
   "metadata": {},
   "outputs": [
    {
     "data": {
      "text/html": [
       "<div>\n",
       "<style scoped>\n",
       "    .dataframe tbody tr th:only-of-type {\n",
       "        vertical-align: middle;\n",
       "    }\n",
       "\n",
       "    .dataframe tbody tr th {\n",
       "        vertical-align: top;\n",
       "    }\n",
       "\n",
       "    .dataframe thead th {\n",
       "        text-align: right;\n",
       "    }\n",
       "</style>\n",
       "<table border=\"1\" class=\"dataframe\">\n",
       "  <thead>\n",
       "    <tr style=\"text-align: right;\">\n",
       "      <th></th>\n",
       "      <th>RentalID</th>\n",
       "      <th>UserID</th>\n",
       "      <th>Pickup_Location</th>\n",
       "      <th>RentalDate</th>\n",
       "      <th>Duration</th>\n",
       "      <th>ReturnDate</th>\n",
       "      <th>CarID</th>\n",
       "      <th>TotalAmount</th>\n",
       "      <th>Make</th>\n",
       "      <th>Model</th>\n",
       "      <th>CarType</th>\n",
       "      <th>Mileage_kmpl</th>\n",
       "      <th>Year_Of_Manufacture</th>\n",
       "      <th>Price_Per_Day</th>\n",
       "      <th>City</th>\n",
       "      <th>Car_Agency</th>\n",
       "      <th>Agency_Price</th>\n",
       "      <th>LocationID</th>\n",
       "    </tr>\n",
       "  </thead>\n",
       "  <tbody>\n",
       "    <tr>\n",
       "      <th>0</th>\n",
       "      <td>1</td>\n",
       "      <td>0</td>\n",
       "      <td>Visakhapatnam</td>\n",
       "      <td>2019-09-26</td>\n",
       "      <td>3</td>\n",
       "      <td>2019-09-29</td>\n",
       "      <td>9818</td>\n",
       "      <td>28350.0</td>\n",
       "      <td>Ford</td>\n",
       "      <td>Ford Bronco</td>\n",
       "      <td>SUV</td>\n",
       "      <td>10</td>\n",
       "      <td>2024</td>\n",
       "      <td>8500.0</td>\n",
       "      <td>Visakhapatnam</td>\n",
       "      <td>Smart Rides Vizag</td>\n",
       "      <td>950.0</td>\n",
       "      <td>50</td>\n",
       "    </tr>\n",
       "    <tr>\n",
       "      <th>1</th>\n",
       "      <td>2</td>\n",
       "      <td>0</td>\n",
       "      <td>Shillong</td>\n",
       "      <td>2019-10-10</td>\n",
       "      <td>3</td>\n",
       "      <td>2019-10-13</td>\n",
       "      <td>6755</td>\n",
       "      <td>25200.0</td>\n",
       "      <td>Hyundai</td>\n",
       "      <td>Hyundai Verna</td>\n",
       "      <td>Sedan</td>\n",
       "      <td>19</td>\n",
       "      <td>2018</td>\n",
       "      <td>5500.0</td>\n",
       "      <td>Shillong</td>\n",
       "      <td>Elite Auto Shillong</td>\n",
       "      <td>2900.0</td>\n",
       "      <td>34</td>\n",
       "    </tr>\n",
       "    <tr>\n",
       "      <th>2</th>\n",
       "      <td>3</td>\n",
       "      <td>0</td>\n",
       "      <td>Ranchi</td>\n",
       "      <td>2019-11-14</td>\n",
       "      <td>6</td>\n",
       "      <td>2019-11-20</td>\n",
       "      <td>331</td>\n",
       "      <td>56400.0</td>\n",
       "      <td>Toyota</td>\n",
       "      <td>Toyota Camry</td>\n",
       "      <td>Sedan</td>\n",
       "      <td>19</td>\n",
       "      <td>2017</td>\n",
       "      <td>6500.0</td>\n",
       "      <td>Ranchi</td>\n",
       "      <td>Elite Wheels Ranchi</td>\n",
       "      <td>2900.0</td>\n",
       "      <td>2</td>\n",
       "    </tr>\n",
       "    <tr>\n",
       "      <th>3</th>\n",
       "      <td>4</td>\n",
       "      <td>0</td>\n",
       "      <td>Raigarh</td>\n",
       "      <td>2019-12-12</td>\n",
       "      <td>3</td>\n",
       "      <td>2019-12-15</td>\n",
       "      <td>4288</td>\n",
       "      <td>18600.0</td>\n",
       "      <td>Volkswagen</td>\n",
       "      <td>Volkswagen Golf</td>\n",
       "      <td>Hatchback</td>\n",
       "      <td>17</td>\n",
       "      <td>2005</td>\n",
       "      <td>4500.0</td>\n",
       "      <td>Raigarh</td>\n",
       "      <td>Midway Car Rentals Raigarh</td>\n",
       "      <td>1700.0</td>\n",
       "      <td>22</td>\n",
       "    </tr>\n",
       "    <tr>\n",
       "      <th>4</th>\n",
       "      <td>5</td>\n",
       "      <td>0</td>\n",
       "      <td>Kolkata</td>\n",
       "      <td>2019-12-26</td>\n",
       "      <td>5</td>\n",
       "      <td>2019-12-31</td>\n",
       "      <td>6287</td>\n",
       "      <td>29500.0</td>\n",
       "      <td>Volkswagen</td>\n",
       "      <td>Volkswagen Polo</td>\n",
       "      <td>Hatchback</td>\n",
       "      <td>18</td>\n",
       "      <td>2019</td>\n",
       "      <td>4000.0</td>\n",
       "      <td>Kolkata</td>\n",
       "      <td>Midway Auto Kolkata</td>\n",
       "      <td>1900.0</td>\n",
       "      <td>32</td>\n",
       "    </tr>\n",
       "  </tbody>\n",
       "</table>\n",
       "</div>"
      ],
      "text/plain": [
       "   RentalID  UserID Pickup_Location  RentalDate  Duration  ReturnDate  CarID  \\\n",
       "0         1       0   Visakhapatnam  2019-09-26         3  2019-09-29   9818   \n",
       "1         2       0        Shillong  2019-10-10         3  2019-10-13   6755   \n",
       "2         3       0          Ranchi  2019-11-14         6  2019-11-20    331   \n",
       "3         4       0         Raigarh  2019-12-12         3  2019-12-15   4288   \n",
       "4         5       0         Kolkata  2019-12-26         5  2019-12-31   6287   \n",
       "\n",
       "   TotalAmount        Make            Model    CarType  Mileage_kmpl  \\\n",
       "0      28350.0        Ford      Ford Bronco        SUV            10   \n",
       "1      25200.0     Hyundai    Hyundai Verna      Sedan            19   \n",
       "2      56400.0      Toyota     Toyota Camry      Sedan            19   \n",
       "3      18600.0  Volkswagen  Volkswagen Golf  Hatchback            17   \n",
       "4      29500.0  Volkswagen  Volkswagen Polo  Hatchback            18   \n",
       "\n",
       "   Year_Of_Manufacture  Price_Per_Day           City  \\\n",
       "0                 2024         8500.0  Visakhapatnam   \n",
       "1                 2018         5500.0       Shillong   \n",
       "2                 2017         6500.0         Ranchi   \n",
       "3                 2005         4500.0        Raigarh   \n",
       "4                 2019         4000.0        Kolkata   \n",
       "\n",
       "                   Car_Agency  Agency_Price  LocationID  \n",
       "0           Smart Rides Vizag         950.0          50  \n",
       "1         Elite Auto Shillong        2900.0          34  \n",
       "2         Elite Wheels Ranchi        2900.0           2  \n",
       "3  Midway Car Rentals Raigarh        1700.0          22  \n",
       "4         Midway Auto Kolkata        1900.0          32  "
      ]
     },
     "execution_count": 5,
     "metadata": {},
     "output_type": "execute_result"
    }
   ],
   "source": [
    "merged_df = car_rental_df.merge(car_df, left_on=\"CarID\", right_on=\"car_id\", how=\"left\")\n",
    "\n",
    "# Drop the duplicate 'Car_id' column from car_df after merging\n",
    "merged_df.drop(columns=[\"car_id\"], inplace=True)\n",
    "merged_df.head()"
   ]
  },
  {
   "cell_type": "code",
   "execution_count": 6,
   "metadata": {},
   "outputs": [
    {
     "name": "stdout",
     "output_type": "stream",
     "text": [
      "<class 'pandas.core.frame.DataFrame'>\n",
      "RangeIndex: 39979 entries, 0 to 39978\n",
      "Data columns (total 18 columns):\n",
      " #   Column               Non-Null Count  Dtype  \n",
      "---  ------               --------------  -----  \n",
      " 0   RentalID             39979 non-null  int64  \n",
      " 1   UserID               39979 non-null  int64  \n",
      " 2   Pickup_Location      39979 non-null  object \n",
      " 3   RentalDate           39979 non-null  object \n",
      " 4   Duration             39979 non-null  int64  \n",
      " 5   ReturnDate           39979 non-null  object \n",
      " 6   CarID                39979 non-null  int64  \n",
      " 7   TotalAmount          39979 non-null  float64\n",
      " 8   Make                 39979 non-null  object \n",
      " 9   Model                39979 non-null  object \n",
      " 10  CarType              39979 non-null  object \n",
      " 11  Mileage_kmpl         39979 non-null  int64  \n",
      " 12  Year_Of_Manufacture  39979 non-null  int64  \n",
      " 13  Price_Per_Day        39979 non-null  float64\n",
      " 14  City                 39979 non-null  object \n",
      " 15  Car_Agency           39979 non-null  object \n",
      " 16  Agency_Price         39979 non-null  float64\n",
      " 17  LocationID           39979 non-null  int64  \n",
      "dtypes: float64(3), int64(7), object(8)\n",
      "memory usage: 5.5+ MB\n",
      "None\n"
     ]
    }
   ],
   "source": [
    "print(merged_df.info())"
   ]
  },
  {
   "cell_type": "code",
   "execution_count": 7,
   "metadata": {},
   "outputs": [
    {
     "name": "stdout",
     "output_type": "stream",
     "text": [
      "Updated Columns: Index(['RentalID', 'UserID', 'Pickup_Location', 'RentalDate', 'Duration',\n",
      "       'ReturnDate', 'CarID', 'TotalAmount', 'Make', 'Model', 'CarType',\n",
      "       'Mileage_kmpl', 'Year_Of_Manufacture', 'Price_Per_Day', 'Car_Agency',\n",
      "       'Agency_Price', 'LocationID'],\n",
      "      dtype='object')\n"
     ]
    }
   ],
   "source": [
    "# Drop the redundant 'City' column\n",
    "merged_df.drop(columns=[\"City\"], inplace=True)\n",
    "\n",
    "# Verify the remaining columns\n",
    "print(\"Updated Columns:\", merged_df.columns)\n"
   ]
  },
  {
   "cell_type": "code",
   "execution_count": 16,
   "metadata": {},
   "outputs": [
    {
     "name": "stdout",
     "output_type": "stream",
     "text": [
      "   RentalID  UserID  RentalDate  Duration  ReturnDate  CarID  TotalAmount  \\\n",
      "0         1       0  2019-09-26         3  2019-09-29   9818      28350.0   \n",
      "1         2       0  2019-10-10         3  2019-10-13   6755      25200.0   \n",
      "2         3       0  2019-11-14         6  2019-11-20    331      56400.0   \n",
      "3         4       0  2019-12-12         3  2019-12-15   4288      18600.0   \n",
      "4         5       0  2019-12-26         5  2019-12-31   6287      29500.0   \n",
      "\n",
      "   Mileage_kmpl  Year_Of_Manufacture  Price_Per_Day  Agency_Price  LocationID  \\\n",
      "0            10                 2024         8500.0         950.0          50   \n",
      "1            19                 2018         5500.0        2900.0          34   \n",
      "2            19                 2017         6500.0        2900.0           2   \n",
      "3            17                 2005         4500.0        1700.0          22   \n",
      "4            18                 2019         4000.0        1900.0          32   \n",
      "\n",
      "   Pickup_Location_encoded  Make_encoded  Model_encoded  CarType_encoded  \\\n",
      "0                       53             0              0                2   \n",
      "1                       43             2             22                3   \n",
      "2                       42             3             24                3   \n",
      "3                       40             4             33                0   \n",
      "4                       26             4             35                0   \n",
      "\n",
      "   Car_Agency_encoded  \n",
      "0                 252  \n",
      "1                  75  \n",
      "2                  83  \n",
      "3                 170  \n",
      "4                 153  \n"
     ]
    }
   ],
   "source": [
    "from sklearn.preprocessing import LabelEncoder\n",
    "\n",
    "# Create a dictionary to store the encoders\n",
    "label_encoders = {}\n",
    "encoded_columns = {}\n",
    "\n",
    "# Categorical columns to encode\n",
    "categorical_columns = [\"Pickup_Location\", \"Make\", \"Model\", \"CarType\", \"Car_Agency\"]\n",
    "\n",
    "for col in categorical_columns:\n",
    "    # Initialize LabelEncoder\n",
    "    le = LabelEncoder()\n",
    "    \n",
    "    # Fit and transform the column\n",
    "    merged_df[f\"{col}_encoded\"] = le.fit_transform(merged_df[col])\n",
    "    \n",
    "    # Store the encoder and mappings\n",
    "    label_encoders[col] = le\n",
    "    encoded_columns[col] = dict(zip(le.classes_, le.transform(le.classes_)))  # Store mapping\n",
    "\n",
    "# Drop original categorical columns\n",
    "merged_df = merged_df.drop(columns=categorical_columns)\n",
    "\n",
    "# Check encoded dataframe\n",
    "print(merged_df.head())"
   ]
  },
  {
   "cell_type": "code",
   "execution_count": 17,
   "metadata": {},
   "outputs": [],
   "source": [
    "df=merged_df"
   ]
  },
  {
   "cell_type": "code",
   "execution_count": 19,
   "metadata": {},
   "outputs": [
    {
     "name": "stderr",
     "output_type": "stream",
     "text": [
      "C:\\Users\\hetvi\\AppData\\Local\\Temp\\ipykernel_18572\\3760651377.py:4: FutureWarning: The provided callable <function sum at 0x0000016AED8CEB60> is currently using DataFrameGroupBy.sum. In a future version of pandas, the provided callable will be used directly. To keep current behavior pass the string \"sum\" instead.\n",
      "  interaction_matrix = df.pivot_table(index=\"UserID\", columns=\"CarID\", values=\"TotalAmount\", aggfunc=np.sum, fill_value=0)\n"
     ]
    },
    {
     "name": "stdout",
     "output_type": "stream",
     "text": [
      "(1310, 10559)\n",
      "CarID   1      2      3      4      5      6      7      8      9      10     \\\n",
      "UserID                                                                         \n",
      "0         0.0    0.0    0.0    0.0    0.0    0.0    0.0    0.0    0.0    0.0   \n",
      "1         0.0    0.0    0.0    0.0    0.0    0.0    0.0    0.0    0.0    0.0   \n",
      "2         0.0    0.0    0.0    0.0    0.0    0.0    0.0    0.0    0.0    0.0   \n",
      "3         0.0    0.0    0.0    0.0    0.0    0.0    0.0    0.0    0.0    0.0   \n",
      "4         0.0    0.0    0.0    0.0    0.0    0.0    0.0    0.0    0.0    0.0   \n",
      "\n",
      "CarID   ...  10791  10792  10793  10794  10795  10796  10797  10798  10799  \\\n",
      "UserID  ...                                                                  \n",
      "0       ...    0.0    0.0    0.0    0.0    0.0    0.0    0.0    0.0    0.0   \n",
      "1       ...    0.0    0.0    0.0    0.0    0.0    0.0    0.0    0.0    0.0   \n",
      "2       ...    0.0    0.0    0.0    0.0    0.0    0.0    0.0    0.0    0.0   \n",
      "3       ...    0.0    0.0    0.0    0.0    0.0    0.0    0.0    0.0    0.0   \n",
      "4       ...    0.0    0.0    0.0    0.0    0.0    0.0    0.0    0.0    0.0   \n",
      "\n",
      "CarID   10800  \n",
      "UserID         \n",
      "0         0.0  \n",
      "1         0.0  \n",
      "2         0.0  \n",
      "3         0.0  \n",
      "4         0.0  \n",
      "\n",
      "[5 rows x 10559 columns]\n"
     ]
    }
   ],
   "source": [
    "import numpy as np\n",
    "\n",
    "# Create the user-item interaction matrix (users x cars)\n",
    "interaction_matrix = df.pivot_table(index=\"UserID\", columns=\"CarID\", values=\"TotalAmount\", aggfunc=np.sum, fill_value=0)\n",
    "\n",
    "# Check the matrix\n",
    "print(interaction_matrix.shape)\n",
    "print(interaction_matrix.head())\n"
   ]
  },
  {
   "cell_type": "code",
   "execution_count": 20,
   "metadata": {},
   "outputs": [
    {
     "name": "stderr",
     "output_type": "stream",
     "text": [
      "C:\\Users\\hetvi\\AppData\\Local\\Temp\\ipykernel_18572\\3820214659.py:4: FutureWarning: The provided callable <function sum at 0x0000016AED8CEB60> is currently using DataFrameGroupBy.sum. In a future version of pandas, the provided callable will be used directly. To keep current behavior pass the string \"sum\" instead.\n",
      "  interaction_matrix = df.pivot_table(index=\"UserID\", columns=\"CarID\", values=\"TotalAmount\", aggfunc=np.sum, fill_value=0)\n"
     ]
    }
   ],
   "source": [
    "from scipy.sparse import csr_matrix\n",
    "\n",
    "# Pivot table: Users as rows, Cars as columns, TotalAmount as values\n",
    "interaction_matrix = df.pivot_table(index=\"UserID\", columns=\"CarID\", values=\"TotalAmount\", aggfunc=np.sum, fill_value=0)\n",
    "\n",
    "# Convert to sparse matrix to save memory\n",
    "interaction_sparse = csr_matrix(interaction_matrix.values)"
   ]
  },
  {
   "cell_type": "code",
   "execution_count": 21,
   "metadata": {},
   "outputs": [],
   "source": [
    "from sklearn.metrics.pairwise import cosine_similarity\n",
    "\n",
    "# Use cosine similarity with sparse matrix\n",
    "user_similarity = cosine_similarity(interaction_sparse, dense_output=False)"
   ]
  },
  {
   "cell_type": "code",
   "execution_count": 22,
   "metadata": {},
   "outputs": [],
   "source": [
    "# Convert similarity matrix to dictionary for efficient lookup\n",
    "user_sim_dict = {i: user_similarity[i].toarray().flatten() for i in range(user_similarity.shape[0])}\n",
    "\n",
    "# Get top-10 similar users for each user\n",
    "top_n_users = {user: np.argsort(-similarities)[:10] for user, similarities in user_sim_dict.items()}\n"
   ]
  },
  {
   "cell_type": "code",
   "execution_count": 61,
   "metadata": {},
   "outputs": [],
   "source": [
    "def recommend_cars(user_id, df, top_n_users, interaction_matrix, label_encoders, num_recommendations=5):\n",
    "    \"\"\"\n",
    "    Recommend cars for a given user based on similar users.\n",
    "    Ensures that recommended cars are from the same pickup location.\n",
    "    \"\"\"\n",
    "    if user_id not in interaction_matrix.index:\n",
    "        print(\"User not found in dataset.\")\n",
    "        return []\n",
    "\n",
    "    # Get similar users\n",
    "    similar_users = top_n_users[user_id]\n",
    "\n",
    "    # Get user's pickup location (FIXED)\n",
    "    user_pickup_location = df.loc[df[\"UserID\"] == user_id, \"Pickup_Location_encoded\"].values\n",
    "    if len(user_pickup_location) == 0:\n",
    "        print(\"No pickup location found for user.\")\n",
    "        return []\n",
    "    \n",
    "    user_pickup_location = user_pickup_location[0]\n",
    "\n",
    "    # Get cars rented by similar users from the same location\n",
    "    recommended_cars = []\n",
    "    for sim_user in similar_users:\n",
    "        sim_user_cars = df[(df[\"UserID\"] == sim_user) & (df[\"Pickup_Location_encoded\"] == user_pickup_location)][\"CarID\"].unique()\n",
    "        recommended_cars.extend(sim_user_cars)\n",
    "\n",
    "    # Remove duplicates and limit recommendations\n",
    "    recommended_cars = list(set(recommended_cars))[:num_recommendations]\n",
    "\n",
    "    if not recommended_cars:\n",
    "        print(\"No similar users found with cars from the same pickup location.\")\n",
    "        return []\n",
    "\n",
    "    # Get car details (INCLUDING ENCODED VALUES)\n",
    "    car_details = df[df[\"CarID\"].isin(recommended_cars)][[\"CarID\", \"Make_encoded\", \"Model_encoded\", \"CarType_encoded\", \"Pickup_Location_encoded\"]].drop_duplicates()\n",
    "\n",
    "    # Decode categorical values\n",
    "    car_details[\"Make\"] = label_encoders[\"Make\"].inverse_transform(car_details[\"Make_encoded\"])\n",
    "    car_details[\"Model\"] = label_encoders[\"Model\"].inverse_transform(car_details[\"Model_encoded\"])\n",
    "    car_details[\"CarType\"] = label_encoders[\"CarType\"].inverse_transform(car_details[\"CarType_encoded\"])\n",
    "    car_details[\"Pickup_Location\"] = label_encoders[\"Pickup_Location\"].inverse_transform(car_details[\"Pickup_Location_encoded\"])\n",
    "\n",
    "    # Drop encoded columns before displaying\n",
    "    car_details = car_details.drop(columns=[\"Make_encoded\", \"Model_encoded\", \"CarType_encoded\", \"Pickup_Location_encoded\"])\n",
    "\n",
    "    return car_details\n"
   ]
  },
  {
   "cell_type": "code",
   "execution_count": 62,
   "metadata": {},
   "outputs": [
    {
     "name": "stdout",
     "output_type": "stream",
     "text": [
      "\n",
      "Recommended Cars for User 0\n",
      "      CarID    Make            Model    CarType Pickup_Location\n",
      "20     9901    Ford     Ford Mustang     Luxury   Visakhapatnam\n",
      "180    9988   Honda       Honda City      Sedan   Visakhapatnam\n",
      "402    9865   Honda       Honda CR-V        SUV   Visakhapatnam\n",
      "1109   9809  Toyota  Toyota Fortuner        SUV   Visakhapatnam\n",
      "2164   9991   Honda       Honda Jazz  Hatchback   Visakhapatnam\n"
     ]
    }
   ],
   "source": [
    "user_id = 0  # Change this to any user ID you want to test\n",
    "recommended_cars = recommend_cars(user_id, df, top_n_users, interaction_matrix, label_encoders)\n",
    "\n",
    "print(\"\\nRecommended Cars for User\", user_id)\n",
    "print(recommended_cars)\n"
   ]
  },
  {
   "cell_type": "code",
   "execution_count": 63,
   "metadata": {},
   "outputs": [],
   "source": [
    "from sklearn.metrics import precision_score, recall_score\n",
    "import numpy as np\n",
    "\n",
    "def evaluate_recommendations(user_id, df, recommended_cars, interaction_matrix, k=5):\n",
    "    \"\"\"\n",
    "    Evaluate the recommendation system using Precision@K, Recall@K, and MRR.\n",
    "    \"\"\"\n",
    "\n",
    "    # Get actual cars rented by the user\n",
    "    actual_rented_cars = df[df[\"UserID\"] == user_id][\"CarID\"].unique()\n",
    "\n",
    "    if len(actual_rented_cars) == 0:\n",
    "        print(\"No historical rentals for this user. Evaluation not possible.\")\n",
    "        return {}\n",
    "\n",
    "    # Convert recommendations to set for easy comparison\n",
    "    recommended_set = set(recommended_cars[\"CarID\"]) if not recommended_cars.empty else set()\n",
    "    actual_set = set(actual_rented_cars)\n",
    "\n",
    "    # Calculate Precision@K\n",
    "    precision_at_k = len(recommended_set & actual_set) / k\n",
    "\n",
    "    # Calculate Recall@K\n",
    "    recall_at_k = len(recommended_set & actual_set) / len(actual_set)\n",
    "\n",
    "    # Calculate F1-Score\n",
    "    if precision_at_k + recall_at_k > 0:\n",
    "        f1_score = 2 * (precision_at_k * recall_at_k) / (precision_at_k + recall_at_k)\n",
    "    else:\n",
    "        f1_score = 0.0\n",
    "\n",
    "    # Calculate Mean Reciprocal Rank (MRR)\n",
    "    ranks = [i + 1 for i, car in enumerate(recommended_cars[\"CarID\"]) if car in actual_set]\n",
    "    mrr = 1 / min(ranks) if ranks else 0.0\n",
    "\n",
    "    # Print evaluation metrics\n",
    "    metrics = {\n",
    "        \"Precision@K\": precision_at_k,\n",
    "        \"Recall@K\": recall_at_k,\n",
    "        \"F1-Score@K\": f1_score,\n",
    "        \"MRR\": mrr\n",
    "    }\n",
    "\n",
    "    return metrics\n"
   ]
  },
  {
   "cell_type": "code",
   "execution_count": null,
   "metadata": {},
   "outputs": [
    {
     "name": "stdout",
     "output_type": "stream",
     "text": [
      "\n",
      "🔍 Evaluation Metrics for User 5\n",
      "Precision@K: 0.2000\n",
      "Recall@K: 0.0769\n",
      "F1-Score@K: 0.1111\n",
      "MRR: 0.5000\n"
     ]
    }
   ],
   "source": [
    "user_id =5 # Change this to any user ID you want to evaluate\n",
    "\n",
    "metrics = evaluate_recommendations(user_id, df, recommended_cars, interaction_matrix)\n",
    "print(\"\\n🔍 Evaluation Metrics for User\", user_id)\n",
    "for metric, value in metrics.items():\n",
    "    print(f\"{metric}: {value:.4f}\")"
   ]
  },
  {
   "cell_type": "code",
   "execution_count": null,
   "metadata": {},
   "outputs": [
    {
     "name": "stdout",
     "output_type": "stream",
     "text": [
      "count    1310.000000\n",
      "mean       30.518321\n",
      "std        17.622366\n",
      "min         1.000000\n",
      "25%        15.000000\n",
      "50%        29.500000\n",
      "75%        45.000000\n",
      "max        72.000000\n",
      "Name: count, dtype: float64\n"
     ]
    },
    {
     "ename": "",
     "evalue": "",
     "output_type": "error",
     "traceback": [
      "\u001b[1;31mThe Kernel crashed while executing code in the current cell or a previous cell. \n",
      "\u001b[1;31mPlease review the code in the cell(s) to identify a possible cause of the failure. \n",
      "\u001b[1;31mClick <a href='https://aka.ms/vscodeJupyterKernelCrash'>here</a> for more info. \n",
      "\u001b[1;31mView Jupyter <a href='command:jupyter.viewOutput'>log</a> for further details."
     ]
    }
   ],
   "source": [
    "print(df[\"UserID\"].value_counts().describe())  # Summary stats for number of rentals per user"
   ]
  },
  {
   "cell_type": "markdown",
   "metadata": {},
   "source": [
    "# Global city cars are recommended:"
   ]
  },
  {
   "cell_type": "code",
   "execution_count": 23,
   "metadata": {},
   "outputs": [],
   "source": [
    "df_pivot=merged_df"
   ]
  },
  {
   "cell_type": "code",
   "execution_count": 24,
   "metadata": {},
   "outputs": [
    {
     "name": "stdout",
     "output_type": "stream",
     "text": [
      "<class 'pandas.core.frame.DataFrame'>\n",
      "RangeIndex: 39979 entries, 0 to 39978\n",
      "Data columns (total 24 columns):\n",
      " #   Column               Non-Null Count  Dtype         \n",
      "---  ------               --------------  -----         \n",
      " 0   RentalID             39979 non-null  int64         \n",
      " 1   UserID               39979 non-null  int64         \n",
      " 2   Pickup_Location      39979 non-null  int64         \n",
      " 3   RentalDate           39979 non-null  datetime64[ns]\n",
      " 4   Duration             39979 non-null  float64       \n",
      " 5   ReturnDate           39979 non-null  datetime64[ns]\n",
      " 6   CarID                39979 non-null  int64         \n",
      " 7   TotalAmount          39979 non-null  float64       \n",
      " 8   Model                39979 non-null  int64         \n",
      " 9   Mileage_kmpl         39979 non-null  float64       \n",
      " 10  Year_Of_Manufacture  39979 non-null  float64       \n",
      " 11  Price_Per_Day        39979 non-null  float64       \n",
      " 12  Car_Agency           39979 non-null  int64         \n",
      " 13  Agency_Price         39979 non-null  float64       \n",
      " 14  LocationID           39979 non-null  int64         \n",
      " 15  Make_Ford            39979 non-null  bool          \n",
      " 16  Make_Honda           39979 non-null  bool          \n",
      " 17  Make_Hyundai         39979 non-null  bool          \n",
      " 18  Make_Toyota          39979 non-null  bool          \n",
      " 19  Make_Volkswagen      39979 non-null  bool          \n",
      " 20  CarType_Hatchback    39979 non-null  bool          \n",
      " 21  CarType_Luxury       39979 non-null  bool          \n",
      " 22  CarType_SUV          39979 non-null  bool          \n",
      " 23  CarType_Sedan        39979 non-null  bool          \n",
      "dtypes: bool(9), datetime64[ns](2), float64(6), int64(7)\n",
      "memory usage: 4.9 MB\n"
     ]
    }
   ],
   "source": [
    "merged_df.info()"
   ]
  },
  {
   "cell_type": "markdown",
   "metadata": {},
   "source": [
    "## Check for Duplicates & Summary Statistics"
   ]
  },
  {
   "cell_type": "code",
   "execution_count": 7,
   "metadata": {},
   "outputs": [
    {
     "name": "stdout",
     "output_type": "stream",
     "text": [
      "Number of duplicate rows: 0\n",
      "\n",
      "Numerical Data Summary:\n",
      "           RentalID        UserID      Duration         CarID    TotalAmount  \\\n",
      "count  39979.000000  39979.000000  39979.000000  39979.000000   39979.000000   \n",
      "mean   19990.000000    667.424773      3.996248   5395.497636   35704.578654   \n",
      "std    11541.087543    391.225730      2.004506   3119.151219   22237.211967   \n",
      "min        1.000000      0.000000      1.000000      1.000000    4300.000000   \n",
      "25%     9995.500000    323.000000      2.000000   2694.000000   18300.000000   \n",
      "50%    19990.000000    658.000000      4.000000   5392.000000   32400.000000   \n",
      "75%    29984.500000   1014.000000      6.000000   8109.000000   48650.000000   \n",
      "max    39979.000000   1339.000000      7.000000  10800.000000  147000.000000   \n",
      "\n",
      "       Mileage_kmpl  Year_Of_Manufacture  Price_Per_Day  Agency_Price  \\\n",
      "count  39979.000000         39979.000000   39979.000000  39979.000000   \n",
      "mean      15.527127          2010.875234    6882.918532   2055.006378   \n",
      "std        3.725422            10.203845    2781.148550   1046.005752   \n",
      "min        7.000000          1964.000000    3500.000000    800.000000   \n",
      "25%       12.000000          2005.000000    4500.000000   1050.000000   \n",
      "50%       17.000000          2013.000000    6000.000000   1750.000000   \n",
      "75%       19.000000          2018.000000    8500.000000   2900.000000   \n",
      "max       21.000000          2024.000000   17000.000000   4000.000000   \n",
      "\n",
      "         LocationID  \n",
      "count  39979.000000  \n",
      "mean      27.475850  \n",
      "std       15.591587  \n",
      "min        1.000000  \n",
      "25%       14.000000  \n",
      "50%       27.000000  \n",
      "75%       41.000000  \n",
      "max       54.000000  \n",
      "\n",
      "Categorical Data Summary:\n",
      "       Pickup_Location  RentalDate  ReturnDate        Make       Model  \\\n",
      "count            39979       39979       39979       39979       39979   \n",
      "unique              54         385        1396           5          40   \n",
      "top           Dehradun  2019-10-03  2019-11-06  Volkswagen  Honda HR-V   \n",
      "freq               802         377          71        8089        1073   \n",
      "\n",
      "          CarType      City                Car_Agency  \n",
      "count       39979     39979                     39979  \n",
      "unique          4        54                       270  \n",
      "top     Hatchback  Dehradun  Luxury Motion Trivandrum  \n",
      "freq        10081       802                       178  \n"
     ]
    }
   ],
   "source": [
    "# Check for duplicate rows\n",
    "duplicates = merged_df.duplicated().sum()\n",
    "print(f\"Number of duplicate rows: {duplicates}\")\n",
    "\n",
    "# Summary statistics for numerical columns\n",
    "print(\"\\nNumerical Data Summary:\")\n",
    "print(merged_df.describe())\n",
    "\n",
    "# Summary statistics for categorical columns\n",
    "print(\"\\nCategorical Data Summary:\")\n",
    "print(merged_df.describe(include=['object']))\n"
   ]
  },
  {
   "cell_type": "markdown",
   "metadata": {},
   "source": [
    "### **Observations from EDA Results:**\n",
    "1. **No Duplicates**: The dataset has no duplicate rows.\n",
    "2. **Numerical Columns:**\n",
    "   - `Duration` ranges from **1 to 7 days**.\n",
    "   - `Mileage_kmpl` ranges from **7 to 21 kmpl**.\n",
    "   - `Price_Per_Day` varies significantly, from **₹3,500 to ₹17,000**.\n",
    "   - `TotalAmount` ranges from **₹4,300 to ₹147,000**, meaning long rentals or luxury cars significantly impact cost.\n",
    "   - `Year_Of_Manufacture` includes very old cars (since **1964**) and the latest ones (**2024**).\n",
    "   - `Agency_Price` varies from **₹800 to ₹4,000**.\n",
    "3. **Categorical Columns:**\n",
    "   - **Most rented cars**: Volkswagen cars are the most frequently rented (**8,089 records**).\n",
    "   - **Most common car type**: Hatchbacks (**10,081 records**).\n",
    "   - **Popular Pickup Location & City**: Dehradun (**802 records**).\n",
    "   - **Popular Car Agency**: \"Luxury Motion Trivandrum\" (**178 records**).\n",
    "   - **Dates**: There are **385 unique rental dates** and **1,396 return dates**, indicating different rental durations."
   ]
  },
  {
   "cell_type": "markdown",
   "metadata": {},
   "source": [
    "## Feature Distribution & Data Visualization"
   ]
  },
  {
   "cell_type": "code",
   "execution_count": 8,
   "metadata": {},
   "outputs": [
    {
     "data": {
      "image/png": "[encoded data removed]",
      "text/plain": [
       "<Figure size 1200x600 with 1 Axes>"
      ]
     },
     "metadata": {},
     "output_type": "display_data"
    },
    {
     "data": {
      "image/png": "[encoded data removed]",
      "text/plain": [
       "<Figure size 1200x600 with 1 Axes>"
      ]
     },
     "metadata": {},
     "output_type": "display_data"
    }
   ],
   "source": [
    "import matplotlib.pyplot as plt\n",
    "import seaborn as sns\n",
    "\n",
    "# Set figure size\n",
    "plt.figure(figsize=(12, 6))\n",
    "\n",
    "# Distribution of Rental Duration\n",
    "sns.histplot(merged_df['Duration'], bins=7, kde=False)# kde=false because duration is a discrete variable.\n",
    "plt.title(\"Distribution of Rental Duration\")\n",
    "plt.xlabel(\"Duration (Days)\")\n",
    "plt.ylabel(\"Count\")\n",
    "plt.show()\n",
    "\n",
    "# Boxplot of Price_Per_Day\n",
    "plt.figure(figsize=(12, 6))\n",
    "sns.boxplot(x=merged_df[\"Price_Per_Day\"])\n",
    "plt.title(\"Boxplot of Price Per Day\")\n",
    "plt.xlabel(\"Price Per Day (₹)\")\n",
    "plt.show()\n"
   ]
  },
  {
   "cell_type": "code",
   "execution_count": 9,
   "metadata": {},
   "outputs": [
    {
     "name": "stdout",
     "output_type": "stream",
     "text": [
      "Missing Values:\n",
      " RentalID               0\n",
      "UserID                 0\n",
      "Pickup_Location        0\n",
      "RentalDate             0\n",
      "Duration               0\n",
      "ReturnDate             0\n",
      "CarID                  0\n",
      "TotalAmount            0\n",
      "Make                   0\n",
      "Model                  0\n",
      "CarType                0\n",
      "Mileage_kmpl           0\n",
      "Year_Of_Manufacture    0\n",
      "Price_Per_Day          0\n",
      "City                   0\n",
      "Car_Agency             0\n",
      "Agency_Price           0\n",
      "LocationID             0\n",
      "dtype: int64\n"
     ]
    },
    {
     "data": {
      "text/html": [
       "<div>\n",
       "<style scoped>\n",
       "    .dataframe tbody tr th:only-of-type {\n",
       "        vertical-align: middle;\n",
       "    }\n",
       "\n",
       "    .dataframe tbody tr th {\n",
       "        vertical-align: top;\n",
       "    }\n",
       "\n",
       "    .dataframe thead th {\n",
       "        text-align: right;\n",
       "    }\n",
       "</style>\n",
       "<table border=\"1\" class=\"dataframe\">\n",
       "  <thead>\n",
       "    <tr style=\"text-align: right;\">\n",
       "      <th></th>\n",
       "      <th>RentalID</th>\n",
       "      <th>UserID</th>\n",
       "      <th>Pickup_Location</th>\n",
       "      <th>RentalDate</th>\n",
       "      <th>Duration</th>\n",
       "      <th>ReturnDate</th>\n",
       "      <th>CarID</th>\n",
       "      <th>TotalAmount</th>\n",
       "      <th>Make</th>\n",
       "      <th>Model</th>\n",
       "      <th>CarType</th>\n",
       "      <th>Mileage_kmpl</th>\n",
       "      <th>Year_Of_Manufacture</th>\n",
       "      <th>Price_Per_Day</th>\n",
       "      <th>City</th>\n",
       "      <th>Car_Agency</th>\n",
       "      <th>Agency_Price</th>\n",
       "      <th>LocationID</th>\n",
       "    </tr>\n",
       "  </thead>\n",
       "  <tbody>\n",
       "    <tr>\n",
       "      <th>0</th>\n",
       "      <td>1</td>\n",
       "      <td>0</td>\n",
       "      <td>Visakhapatnam</td>\n",
       "      <td>2019-09-26</td>\n",
       "      <td>3</td>\n",
       "      <td>2019-09-29</td>\n",
       "      <td>9818</td>\n",
       "      <td>28350.0</td>\n",
       "      <td>Ford</td>\n",
       "      <td>Ford Bronco</td>\n",
       "      <td>SUV</td>\n",
       "      <td>10</td>\n",
       "      <td>2024</td>\n",
       "      <td>8500.0</td>\n",
       "      <td>Visakhapatnam</td>\n",
       "      <td>Smart Rides Vizag</td>\n",
       "      <td>950.0</td>\n",
       "      <td>50</td>\n",
       "    </tr>\n",
       "    <tr>\n",
       "      <th>1</th>\n",
       "      <td>2</td>\n",
       "      <td>0</td>\n",
       "      <td>Shillong</td>\n",
       "      <td>2019-10-10</td>\n",
       "      <td>3</td>\n",
       "      <td>2019-10-13</td>\n",
       "      <td>6755</td>\n",
       "      <td>25200.0</td>\n",
       "      <td>Hyundai</td>\n",
       "      <td>Hyundai Verna</td>\n",
       "      <td>Sedan</td>\n",
       "      <td>19</td>\n",
       "      <td>2018</td>\n",
       "      <td>5500.0</td>\n",
       "      <td>Shillong</td>\n",
       "      <td>Elite Auto Shillong</td>\n",
       "      <td>2900.0</td>\n",
       "      <td>34</td>\n",
       "    </tr>\n",
       "    <tr>\n",
       "      <th>2</th>\n",
       "      <td>3</td>\n",
       "      <td>0</td>\n",
       "      <td>Ranchi</td>\n",
       "      <td>2019-11-14</td>\n",
       "      <td>6</td>\n",
       "      <td>2019-11-20</td>\n",
       "      <td>331</td>\n",
       "      <td>56400.0</td>\n",
       "      <td>Toyota</td>\n",
       "      <td>Toyota Camry</td>\n",
       "      <td>Sedan</td>\n",
       "      <td>19</td>\n",
       "      <td>2017</td>\n",
       "      <td>6500.0</td>\n",
       "      <td>Ranchi</td>\n",
       "      <td>Elite Wheels Ranchi</td>\n",
       "      <td>2900.0</td>\n",
       "      <td>2</td>\n",
       "    </tr>\n",
       "    <tr>\n",
       "      <th>3</th>\n",
       "      <td>4</td>\n",
       "      <td>0</td>\n",
       "      <td>Raigarh</td>\n",
       "      <td>2019-12-12</td>\n",
       "      <td>3</td>\n",
       "      <td>2019-12-15</td>\n",
       "      <td>4288</td>\n",
       "      <td>18600.0</td>\n",
       "      <td>Volkswagen</td>\n",
       "      <td>Volkswagen Golf</td>\n",
       "      <td>Hatchback</td>\n",
       "      <td>17</td>\n",
       "      <td>2005</td>\n",
       "      <td>4500.0</td>\n",
       "      <td>Raigarh</td>\n",
       "      <td>Midway Car Rentals Raigarh</td>\n",
       "      <td>1700.0</td>\n",
       "      <td>22</td>\n",
       "    </tr>\n",
       "    <tr>\n",
       "      <th>4</th>\n",
       "      <td>5</td>\n",
       "      <td>0</td>\n",
       "      <td>Kolkata</td>\n",
       "      <td>2019-12-26</td>\n",
       "      <td>5</td>\n",
       "      <td>2019-12-31</td>\n",
       "      <td>6287</td>\n",
       "      <td>29500.0</td>\n",
       "      <td>Volkswagen</td>\n",
       "      <td>Volkswagen Polo</td>\n",
       "      <td>Hatchback</td>\n",
       "      <td>18</td>\n",
       "      <td>2019</td>\n",
       "      <td>4000.0</td>\n",
       "      <td>Kolkata</td>\n",
       "      <td>Midway Auto Kolkata</td>\n",
       "      <td>1900.0</td>\n",
       "      <td>32</td>\n",
       "    </tr>\n",
       "  </tbody>\n",
       "</table>\n",
       "</div>"
      ],
      "text/plain": [
       "   RentalID  UserID Pickup_Location RentalDate  Duration ReturnDate  CarID  \\\n",
       "0         1       0   Visakhapatnam 2019-09-26         3 2019-09-29   9818   \n",
       "1         2       0        Shillong 2019-10-10         3 2019-10-13   6755   \n",
       "2         3       0          Ranchi 2019-11-14         6 2019-11-20    331   \n",
       "3         4       0         Raigarh 2019-12-12         3 2019-12-15   4288   \n",
       "4         5       0         Kolkata 2019-12-26         5 2019-12-31   6287   \n",
       "\n",
       "   TotalAmount        Make            Model    CarType  Mileage_kmpl  \\\n",
       "0      28350.0        Ford      Ford Bronco        SUV            10   \n",
       "1      25200.0     Hyundai    Hyundai Verna      Sedan            19   \n",
       "2      56400.0      Toyota     Toyota Camry      Sedan            19   \n",
       "3      18600.0  Volkswagen  Volkswagen Golf  Hatchback            17   \n",
       "4      29500.0  Volkswagen  Volkswagen Polo  Hatchback            18   \n",
       "\n",
       "   Year_Of_Manufacture  Price_Per_Day           City  \\\n",
       "0                 2024         8500.0  Visakhapatnam   \n",
       "1                 2018         5500.0       Shillong   \n",
       "2                 2017         6500.0         Ranchi   \n",
       "3                 2005         4500.0        Raigarh   \n",
       "4                 2019         4000.0        Kolkata   \n",
       "\n",
       "                   Car_Agency  Agency_Price  LocationID  \n",
       "0           Smart Rides Vizag         950.0          50  \n",
       "1         Elite Auto Shillong        2900.0          34  \n",
       "2         Elite Wheels Ranchi        2900.0           2  \n",
       "3  Midway Car Rentals Raigarh        1700.0          22  \n",
       "4         Midway Auto Kolkata        1900.0          32  "
      ]
     },
     "execution_count": 9,
     "metadata": {},
     "output_type": "execute_result"
    }
   ],
   "source": [
    "# Convert RentalDate and ReturnDate to datetime format\n",
    "merged_df['RentalDate'] = pd.to_datetime(merged_df['RentalDate'])\n",
    "merged_df['ReturnDate'] = pd.to_datetime(merged_df['ReturnDate'])\n",
    "\n",
    "# # Extract additional time-based features\n",
    "# merged_df['Rental_Year'] = merged_df['RentalDate'].dt.year\n",
    "# merged_df['Rental_Month'] = merged_df['RentalDate'].dt.month\n",
    "# merged_df['Rental_Weekday'] = merged_df['RentalDate'].dt.weekday\n",
    "\n",
    "# Check if any missing values exist\n",
    "missing_values = merged_df.isnull().sum()\n",
    "print(\"Missing Values:\\n\", missing_values)\n",
    "\n",
    "# Display the first few rows after transformation\n",
    "merged_df.head()"
   ]
  },
  {
   "cell_type": "code",
   "execution_count": 10,
   "metadata": {},
   "outputs": [],
   "source": [
    "merged_df=merged_df.drop(columns=['City'],axis=1)"
   ]
  },
  {
   "cell_type": "markdown",
   "metadata": {},
   "source": [
    "\n",
    "### One-Hot Encoding (`Make`, `CarType`)"
   ]
  },
  {
   "cell_type": "code",
   "execution_count": 11,
   "metadata": {},
   "outputs": [],
   "source": [
    "# One-Hot Encoding\n",
    "merged_df = pd.get_dummies(merged_df, columns=['Make', 'CarType'], drop_first=False)"
   ]
  },
  {
   "cell_type": "markdown",
   "metadata": {},
   "source": [
    "### Label Encoding (`Pickup_Location`, `Model`, `Car_Agency`)"
   ]
  },
  {
   "cell_type": "code",
   "execution_count": 12,
   "metadata": {},
   "outputs": [],
   "source": [
    "from sklearn.preprocessing import LabelEncoder\n",
    "\n",
    "label_cols = ['Pickup_Location', 'Model', 'Car_Agency']\n",
    "encoders = {}  # Dictionary to store LabelEncoders\n",
    "mappings = {}  # Dictionary to store mappings\n",
    "\n",
    "for col in label_cols:\n",
    "    encoders[col] = LabelEncoder()  # Create a new LabelEncoder for each column\n",
    "    merged_df[col] = encoders[col].fit_transform(merged_df[col])  # Transform column\n",
    "    mappings[col] = {index: label for index, label in enumerate(encoders[col].classes_)}  # Store mappings\n"
   ]
  },
  {
   "cell_type": "code",
   "execution_count": 13,
   "metadata": {},
   "outputs": [
    {
     "name": "stdout",
     "output_type": "stream",
     "text": [
      "   RentalID  UserID  Pickup_Location RentalDate  Duration ReturnDate  CarID  \\\n",
      "0         1       0               53 2019-09-26  0.333333 2019-09-29   9818   \n",
      "1         2       0               43 2019-10-10  0.333333 2019-10-13   6755   \n",
      "2         3       0               42 2019-11-14  0.833333 2019-11-20    331   \n",
      "3         4       0               40 2019-12-12  0.333333 2019-12-15   4288   \n",
      "4         5       0               26 2019-12-26  0.666667 2019-12-31   6287   \n",
      "\n",
      "   TotalAmount  Model  Mileage_kmpl  ...  LocationID  Make_Ford  Make_Honda  \\\n",
      "0     0.168535      0      0.214286  ...          50       True       False   \n",
      "1     0.146461     22      0.857143  ...          34      False       False   \n",
      "2     0.365102     24      0.857143  ...           2      False       False   \n",
      "3     0.100210     33      0.714286  ...          22      False       False   \n",
      "4     0.176594     35      0.785714  ...          32      False       False   \n",
      "\n",
      "   Make_Hyundai  Make_Toyota  Make_Volkswagen  CarType_Hatchback  \\\n",
      "0         False        False            False              False   \n",
      "1          True        False            False              False   \n",
      "2         False         True            False              False   \n",
      "3         False        False             True               True   \n",
      "4         False        False             True               True   \n",
      "\n",
      "   CarType_Luxury  CarType_SUV  CarType_Sedan  \n",
      "0           False         True          False  \n",
      "1           False        False           True  \n",
      "2           False        False           True  \n",
      "3           False        False          False  \n",
      "4           False        False          False  \n",
      "\n",
      "[5 rows x 24 columns]\n"
     ]
    }
   ],
   "source": [
    "from sklearn.preprocessing import MinMaxScaler\n",
    "# Identify numerical columns (excluding categorical ones)\n",
    "numerical_cols = ['Duration', 'TotalAmount', 'Mileage_kmpl', 'Year_Of_Manufacture', \n",
    "                  'Price_Per_Day', 'Agency_Price']\n",
    "\n",
    "# Initialize MinMaxScaler\n",
    "scaler = MinMaxScaler()\n",
    "\n",
    "# Apply MinMaxScaler to numerical columns\n",
    "merged_df[numerical_cols] = scaler.fit_transform(merged_df[numerical_cols])\n",
    "\n",
    "# Display scaled data\n",
    "print(merged_df.head())"
   ]
  },
  {
   "cell_type": "code",
   "execution_count": 14,
   "metadata": {},
   "outputs": [
    {
     "name": "stdout",
     "output_type": "stream",
     "text": [
      "Number of unique users: 1310\n"
     ]
    }
   ],
   "source": [
    "num_unique_users = merged_df['UserID'].nunique()\n",
    "print(f\"Number of unique users: {num_unique_users}\")"
   ]
  },
  {
   "cell_type": "code",
   "execution_count": 15,
   "metadata": {},
   "outputs": [
    {
     "name": "stdout",
     "output_type": "stream",
     "text": [
      "Number of unique users: 10559\n"
     ]
    }
   ],
   "source": [
    "num_unique_cars = merged_df['CarID'].nunique()\n",
    "print(f\"Number of unique users: {num_unique_cars}\")"
   ]
  },
  {
   "cell_type": "markdown",
   "metadata": {},
   "source": [
    "Yes! You can use different columns for creating the **user-item interaction matrix**, depending on how you define \"interaction\" between users and cars. Here are some options:  \n",
    "\n",
    "### Possible Columns for Pivot Table:\n",
    "| Column Name         | How It Affects Recommendation |\n",
    "|---------------------|---------------------------------|\n",
    "| `TotalAmount`      | Prefers expensive car rentals. |\n",
    "| `Duration`         | Prefers cars rented for longer. |\n",
    "| `Price_Per_Day`    | Prefers budget-friendly or premium cars. |\n",
    "| `Mileage_kmpl`     | Prefers fuel-efficient cars. |\n",
    "| `Car_Agency`       | Prefers cars from specific rental agencies. |\n",
    "\n",
    "### Example Alternatives:\n",
    "1️⃣ **Based on Duration (Users who rent for longer might prefer certain cars):**\n",
    "```python\n",
    "user_car_matrix = merged_df.pivot_table(index='UserID', columns='CarID', values='Duration', fill_value=0)\n",
    "```\n",
    "\n",
    "2️⃣ **Based on Rental Frequency (Users who rented a car multiple times will have higher values):**\n",
    "```python\n",
    "user_car_matrix = merged_df.groupby(['UserID', 'CarID']).size().unstack(fill_value=0)\n",
    "```\n",
    "\n",
    "3️⃣ **Based on Agency Preference (Users who rent from specific agencies prefer their cars):**\n",
    "```python\n",
    "user_car_matrix = merged_df.pivot_table(index='UserID', columns='CarID', values='Car_Agency', aggfunc='count', fill_value=0)\n",
    "```\n",
    "\n",
    "### Key Question:\n",
    "- **Do you want to recommend based on spending behavior (`TotalAmount`), rental duration, or just rental frequency?**  \n",
    "Let me know which approach you prefer! 🚀"
   ]
  },
  {
   "cell_type": "code",
   "execution_count": 16,
   "metadata": {},
   "outputs": [
    {
     "name": "stdout",
     "output_type": "stream",
     "text": [
      "Sparse Matrix Shape: (10559, 1310)\n"
     ]
    }
   ],
   "source": [
    "from scipy.sparse import csr_matrix\n",
    "import pandas as pd\n",
    "\n",
    "# Create a user-item interaction matrix\n",
    "car_user_matrix  = merged_df.pivot_table(index='CarID', columns='UserID', values='TotalAmount', fill_value=0)\n",
    "\n",
    "# Convert to a sparse matrix\n",
    "sparse_user_car = csr_matrix(car_user_matrix .values)\n",
    "\n",
    "# Print shape\n",
    "print(f\"Sparse Matrix Shape: {sparse_user_car.shape}\")\n"
   ]
  },
  {
   "cell_type": "code",
   "execution_count": 17,
   "metadata": {},
   "outputs": [
    {
     "name": "stdout",
     "output_type": "stream",
     "text": [
      "KNN model trained successfully!\n"
     ]
    }
   ],
   "source": [
    "from sklearn.neighbors import NearestNeighbors\n",
    "\n",
    "# Initialize the KNN model with cosine similarity\n",
    "knn_model = NearestNeighbors(metric='cosine', algorithm='brute', n_neighbors=5, n_jobs=-1)\n",
    "\n",
    "# Fit the model on the sparse matrix\n",
    "knn_model.fit(sparse_user_car)\n",
    "\n",
    "print(\"KNN model trained successfully!\")"
   ]
  },
  {
   "cell_type": "markdown",
   "metadata": {},
   "source": [
    "## debugging steps:"
   ]
  },
  {
   "cell_type": "code",
   "execution_count": 18,
   "metadata": {},
   "outputs": [],
   "source": [
    "# print(merged_df['CarID'].dtype)  # Check CarID type in merged_df\n",
    "# print(car_user_matrix.index.dtype)  # Check CarID type in car_user_matrix\n"
   ]
  },
  {
   "cell_type": "code",
   "execution_count": 19,
   "metadata": {},
   "outputs": [],
   "source": [
    "# print(car_id_to_check in car_user_matrix.index)  # Should return True if it exists\n"
   ]
  },
  {
   "cell_type": "code",
   "execution_count": 20,
   "metadata": {},
   "outputs": [],
   "source": [
    "# all_car_ids = merged_df['CarID'].unique()  # Get all CarIDs\n",
    "# car_user_matrix = car_user_matrix.reindex(all_car_ids, fill_value=0)\n"
   ]
  },
  {
   "cell_type": "markdown",
   "metadata": {},
   "source": [
    "## Recommendation function:"
   ]
  },
  {
   "cell_type": "code",
   "execution_count": 21,
   "metadata": {},
   "outputs": [],
   "source": [
    "def recommend_similar_cars(car_id, car_user_matrix, knn_model, merged_df, top_n=5):\n",
    "    car_id = int(car_id)  # Ensure CarID is an integer\n",
    "    \n",
    "    if car_id not in car_user_matrix.index:\n",
    "        print(f\"⚠️ CarID {car_id} not found in car_user_matrix.\")\n",
    "        return []\n",
    "    \n",
    "    # Get the pickup location of the selected car\n",
    "    pickup_location = merged_df.loc[merged_df['CarID'] == car_id, 'Pickup_Location'].values[0]\n",
    "\n",
    "    # Get the car vector\n",
    "    car_vector = car_user_matrix.loc[car_id].values.reshape(1, -1)  \n",
    "\n",
    "    # Find nearest neighbors\n",
    "    distances, indices = knn_model.kneighbors(car_vector, n_neighbors=top_n + 10)  # Get more neighbors to filter later\n",
    "\n",
    "    # Get recommended car IDs (excluding the input car)\n",
    "    recommended_car_ids = [car_user_matrix.index[i] for i in indices.flatten()[1:]]\n",
    "\n",
    "    # Filter by pickup location\n",
    "    filtered_recommended_cars = [\n",
    "        car for car in recommended_car_ids \n",
    "        if merged_df.loc[merged_df['CarID'] == car, 'Pickup_Location'].values[0] == pickup_location\n",
    "    ]\n",
    "    \n",
    "    # Return only top_n cars\n",
    "    return filtered_recommended_cars[:top_n]\n"
   ]
  },
  {
   "cell_type": "code",
   "execution_count": 22,
   "metadata": {},
   "outputs": [
    {
     "ename": "TypeError",
     "evalue": "recommend_similar_cars() missing 1 required positional argument: 'merged_df'",
     "output_type": "error",
     "traceback": [
      "\u001b[31m---------------------------------------------------------------------------\u001b[39m",
      "\u001b[31mTypeError\u001b[39m                                 Traceback (most recent call last)",
      "\u001b[36mCell\u001b[39m\u001b[36m \u001b[39m\u001b[32mIn[22]\u001b[39m\u001b[32m, line 2\u001b[39m\n\u001b[32m      1\u001b[39m car_id_to_check = merged_df[\u001b[33m'\u001b[39m\u001b[33mCarID\u001b[39m\u001b[33m'\u001b[39m].iloc[\u001b[32m0\u001b[39m]  \u001b[38;5;66;03m# Pick a random CarID\u001b[39;00m\n\u001b[32m----> \u001b[39m\u001b[32m2\u001b[39m recommended_cars = \u001b[43mrecommend_similar_cars\u001b[49m\u001b[43m(\u001b[49m\u001b[43mcar_id_to_check\u001b[49m\u001b[43m,\u001b[49m\u001b[43m \u001b[49m\u001b[43mcar_user_matrix\u001b[49m\u001b[43m,\u001b[49m\u001b[43m \u001b[49m\u001b[43mknn_model\u001b[49m\u001b[43m)\u001b[49m\n\u001b[32m      4\u001b[39m \u001b[38;5;28mprint\u001b[39m(\u001b[33mf\u001b[39m\u001b[33m\"\u001b[39m\u001b[33mRecommended cars for CarID \u001b[39m\u001b[38;5;132;01m{\u001b[39;00mcar_id_to_check\u001b[38;5;132;01m}\u001b[39;00m\u001b[33m: \u001b[39m\u001b[38;5;132;01m{\u001b[39;00mrecommended_cars\u001b[38;5;132;01m}\u001b[39;00m\u001b[33m\"\u001b[39m)\n",
      "\u001b[31mTypeError\u001b[39m: recommend_similar_cars() missing 1 required positional argument: 'merged_df'"
     ]
    }
   ],
   "source": [
    "car_id_to_check = merged_df['CarID'].iloc[0]  # Pick a random CarID\n",
    "recommended_cars = recommend_similar_cars(car_id_to_check, car_user_matrix, knn_model)\n",
    "\n",
    "print(f\"Recommended cars for CarID {car_id_to_check}: {recommended_cars}\")"
   ]
  },
  {
   "cell_type": "code",
   "execution_count": null,
   "metadata": {},
   "outputs": [
    {
     "name": "stdout",
     "output_type": "stream",
     "text": [
      "Recommended cars for CarID 9818: [5226, 5038, 8166, 6956, 10225]\n"
     ]
    }
   ],
   "source": [
    "recommended_cars = [int(car) for car in recommended_cars]\n",
    "print(f\"Recommended cars for CarID {car_id_to_check}: {recommended_cars}\")"
   ]
  },
  {
   "cell_type": "markdown",
   "metadata": {},
   "source": [
    "encoded variables are reversed mapped:"
   ]
  },
  {
   "cell_type": "code",
   "execution_count": null,
   "metadata": {},
   "outputs": [],
   "source": [
    "for col in label_cols:\n",
    "    merged_df[col] = merged_df[col].map(mappings[col])"
   ]
  },
  {
   "cell_type": "markdown",
   "metadata": {},
   "source": [
    "one hot encoded variables are reconstructed:"
   ]
  },
  {
   "cell_type": "code",
   "execution_count": null,
   "metadata": {},
   "outputs": [],
   "source": [
    "make_columns = [col for col in merged_df.columns if col.startswith('Make_')]\n",
    "merged_df['Make'] = merged_df[make_columns].idxmax(axis=1).str.replace('Make_', '')\n",
    "\n",
    "cartype_columns = [col for col in merged_df.columns if col.startswith('CarType_')]\n",
    "merged_df['CarType'] = merged_df[cartype_columns].idxmax(axis=1).str.replace('CarType_', '')"
   ]
  },
  {
   "cell_type": "code",
   "execution_count": null,
   "metadata": {},
   "outputs": [
    {
     "name": "stdout",
     "output_type": "stream",
     "text": [
      "       CarID        Make               Model CarType  \\\n",
      "7024   10225       Honda          Honda CR-V     SUV   \n",
      "9022    6956     Hyundai     Hyundai Elantra   Sedan   \n",
      "9879    5038     Hyundai    Hyundai Palisade  Luxury   \n",
      "14712   8166  Volkswagen  Volkswagen Touareg  Luxury   \n",
      "16892   5226       Honda          Honda HR-V     SUV   \n",
      "\n",
      "                     Car_Agency     Pickup_Location  \n",
      "7024          Easy Rides Mysuru              Mysuru  \n",
      "9022   Prestige Wheels Amritsar            Amritsar  \n",
      "9879            EasyGo Dehradun            Dehradun  \n",
      "14712  Luxury Motion Trivandrum  Thiruvananthapuram  \n",
      "16892    Smart Rentals Srinagar            Srinagar  \n"
     ]
    }
   ],
   "source": [
    "car_details = merged_df[merged_df['CarID'].isin(recommended_cars)][['CarID', 'Make', 'Model', 'CarType','Car_Agency','Pickup_Location']].drop_duplicates()\n",
    "print(car_details)\n"
   ]
  },
  {
   "cell_type": "code",
   "execution_count": null,
   "metadata": {},
   "outputs": [
    {
     "name": "stdout",
     "output_type": "stream",
     "text": [
      "       CarID   Make       Model CarType              Car_Agency  \\\n",
      "16892   5226  Honda  Honda HR-V     SUV  Smart Rentals Srinagar   \n",
      "\n",
      "      Pickup_Location  \n",
      "16892        Srinagar  \n"
     ]
    }
   ],
   "source": [
    "# Get the pickup location of the input CarID\n",
    "pickup_location = merged_df.loc[merged_df['CarID'] == 5226, 'Pickup_Location'].values[0]\n",
    "\n",
    "# Extract state from Pickup_Location if available (assuming \"City, State\" format)\n",
    "if ',' in pickup_location:\n",
    "    city, state = pickup_location.split(', ')\n",
    "else:\n",
    "    state = pickup_location  # If no state info, use the city as fallback\n",
    "\n",
    "# Try finding recommended cars in the same city\n",
    "filtered_recommendations = merged_df[\n",
    "    (merged_df['CarID'].isin(recommended_cars)) & \n",
    "    (merged_df['Pickup_Location'] == pickup_location)\n",
    "][['CarID', 'Make', 'Model', 'CarType', 'Car_Agency', 'Pickup_Location']].drop_duplicates()\n",
    "\n",
    "# If no match, find recommendations in the same state\n",
    "if filtered_recommendations.empty:\n",
    "    print(\"No exact city match found. Searching within the same state...\")\n",
    "    filtered_recommendations = merged_df[\n",
    "        (merged_df['CarID'].isin(recommended_cars)) & \n",
    "        (merged_df['Pickup_Location'].str.contains(state, na=False))\n",
    "    ][['CarID', 'Make', 'Model', 'CarType', 'Car_Agency', 'Pickup_Location']].drop_duplicates()\n",
    "\n",
    "# If still empty, recommend from the most booked locations\n",
    "if filtered_recommendations.empty:\n",
    "    print(\"No state match found. Recommending from top booked locations...\")\n",
    "    top_locations = merged_df['Pickup_Location'].value_counts().index[:5].tolist()\n",
    "\n",
    "    filtered_recommendations = merged_df[\n",
    "        (merged_df['CarID'].isin(recommended_cars)) & \n",
    "        (merged_df['Pickup_Location'].isin(top_locations))\n",
    "    ][['CarID', 'Make', 'Model', 'CarType', 'Car_Agency', 'Pickup_Location']].drop_duplicates()\n",
    "\n",
    "print(filtered_recommendations)\n"
   ]
  },
  {
   "cell_type": "code",
   "execution_count": null,
   "metadata": {},
   "outputs": [],
   "source": []
  }
 ],
 "metadata": {
  "kernelspec": {
   "display_name": "venv",
   "language": "python",
   "name": "python3"
  },
  "language_info": {
   "codemirror_mode": {
    "name": "ipython",
    "version": 3
   },
   "file_extension": ".py",
   "mimetype": "text/x-python",
   "name": "python",
   "nbconvert_exporter": "python",
   "pygments_lexer": "ipython3",
   "version": "3.12.1"
  }
 },
 "nbformat": 4,
 "nbformat_minor": 2
}
