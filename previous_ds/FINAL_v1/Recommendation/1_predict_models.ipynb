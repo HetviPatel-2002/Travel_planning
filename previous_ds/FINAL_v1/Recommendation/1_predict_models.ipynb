{
 "cells": [
  {
   "cell_type": "code",
   "execution_count": null,
   "metadata": {},
   "outputs": [],
   "source": []
  },
  {
   "cell_type": "markdown",
   "metadata": {},
   "source": [
    "# Data Loading and Exploration"
   ]
  },
  {
   "cell_type": "code",
   "execution_count": null,
   "metadata": {},
   "outputs": [
    {
     "name": "stdout",
     "output_type": "stream",
     "text": [
      "Dataset Info:\n",
      "<class 'pandas.core.frame.DataFrame'>\n",
      "RangeIndex: 40552 entries, 0 to 40551\n",
      "Data columns (total 26 columns):\n",
      " #   Column               Non-Null Count  Dtype  \n",
      "---  ------               --------------  -----  \n",
      " 0   travelCode           40552 non-null  int64  \n",
      " 1   User_ID              40552 non-null  int64  \n",
      " 2   Departure            40552 non-null  object \n",
      " 3   Arrival              40552 non-null  object \n",
      " 4   flightType           40552 non-null  object \n",
      " 5   Flight_price         40552 non-null  float64\n",
      " 6   Flight_duration      40552 non-null  float64\n",
      " 7   Flight_Distance      40552 non-null  float64\n",
      " 8   Flight_agency        40552 non-null  object \n",
      " 9   Departure_date       40552 non-null  object \n",
      " 10  Hotel_Name           40552 non-null  object \n",
      " 11  Arrival_place        40552 non-null  object \n",
      " 12  Hotel_stay           40552 non-null  int64  \n",
      " 13  Hotel_per_day_price  40552 non-null  float64\n",
      " 14  Check-in_hotel       40552 non-null  object \n",
      " 15  Hotel_TotalPrice     40552 non-null  float64\n",
      " 16  Check-in_car         40552 non-null  object \n",
      " 17  pickupLocation       40552 non-null  object \n",
      " 18  dropoffLocation      40552 non-null  object \n",
      " 19  carType              40552 non-null  object \n",
      " 20  rentalAgency         40552 non-null  object \n",
      " 21  rentalDuration       40552 non-null  float64\n",
      " 22  Car_total_distance   40552 non-null  float64\n",
      " 23  fuelPolicy           40552 non-null  object \n",
      " 24  Car_bookingStatus    40552 non-null  object \n",
      " 25  total_rent_price     40552 non-null  float64\n",
      "dtypes: float64(8), int64(3), object(15)\n",
      "memory usage: 8.0+ MB\n",
      "None\n",
      "\n",
      "Sample Data:\n",
      "   travelCode  User_ID      Departure             Arrival  flightType  \\\n",
      "0           0        0    Recife (PE)  Florianopolis (SC)  firstClass   \n",
      "1           2        0   Aracaju (SE)       Salvador (BH)  firstClass   \n",
      "2           7        0   Aracaju (SE)       Salvador (BH)    economic   \n",
      "3          11        0  Brasilia (DF)       Salvador (BH)     premium   \n",
      "4          13        0    Recife (PE)  Florianopolis (SC)  firstClass   \n",
      "\n",
      "   Flight_price  Flight_duration  Flight_Distance Flight_agency  \\\n",
      "0       1434.38             1.76           676.53   FlyingDrops   \n",
      "1       1684.05             2.16           830.86       CloudFy   \n",
      "2        964.83             2.16           830.86       CloudFy   \n",
      "3       1268.97             1.76           676.56       Rainbow   \n",
      "4       1434.38             1.76           676.53   FlyingDrops   \n",
      "\n",
      "  Departure_date  ... Check-in_car pickupLocation  dropoffLocation  \\\n",
      "0     26/09/2019  ...   No Booking     No Booking       No Booking   \n",
      "1     10/10/2019  ...   No Booking     No Booking       No Booking   \n",
      "2     14/11/2019  ...   No Booking     No Booking       No Booking   \n",
      "3     12/12/2019  ...   No Booking     No Booking       No Booking   \n",
      "4     26/12/2019  ...   No Booking     No Booking       No Booking   \n",
      "\n",
      "      carType rentalAgency  rentalDuration Car_total_distance  fuelPolicy  \\\n",
      "0  No Booking   No Booking             0.0                0.0  No Booking   \n",
      "1  No Booking   No Booking             0.0                0.0  No Booking   \n",
      "2  No Booking   No Booking             0.0                0.0  No Booking   \n",
      "3  No Booking   No Booking             0.0                0.0  No Booking   \n",
      "4  No Booking   No Booking             0.0                0.0  No Booking   \n",
      "\n",
      "  Car_bookingStatus total_rent_price  \n",
      "0        Not Booked              0.0  \n",
      "1        Not Booked              0.0  \n",
      "2        Not Booked              0.0  \n",
      "3        Not Booked              0.0  \n",
      "4        Not Booked              0.0  \n",
      "\n",
      "[5 rows x 26 columns]\n",
      "\n",
      "Missing Values:\n",
      "travelCode             0\n",
      "User_ID                0\n",
      "Departure              0\n",
      "Arrival                0\n",
      "flightType             0\n",
      "Flight_price           0\n",
      "Flight_duration        0\n",
      "Flight_Distance        0\n",
      "Flight_agency          0\n",
      "Departure_date         0\n",
      "Hotel_Name             0\n",
      "Arrival_place          0\n",
      "Hotel_stay             0\n",
      "Hotel_per_day_price    0\n",
      "Check-in_hotel         0\n",
      "Hotel_TotalPrice       0\n",
      "Check-in_car           0\n",
      "pickupLocation         0\n",
      "dropoffLocation        0\n",
      "carType                0\n",
      "rentalAgency           0\n",
      "rentalDuration         0\n",
      "Car_total_distance     0\n",
      "fuelPolicy             0\n",
      "Car_bookingStatus      0\n",
      "total_rent_price       0\n",
      "dtype: int64\n",
      "\n",
      "Car Booking Distribution:\n",
      "Car_bookingStatus\n",
      "Not Booked    36779\n",
      "Pending        1265\n",
      "Confirmed      1261\n",
      "Cancelled      1247\n",
      "Name: count, dtype: int64\n"
     ]
    }
   ],
   "source": [
    "import pandas as pd\n",
    "\n",
    "# Load the dataset\n",
    "data = pd.read_csv('booking_data.csv')  # Replace with your dataset's filename\n",
    "\n",
    "# Display basic information about the dataset\n",
    "print(\"Dataset Info:\")\n",
    "print(data.info())\n",
    "\n",
    "# Display the first few rows of the dataset\n",
    "print(\"\\nSample Data:\")\n",
    "print(data.head())\n",
    "\n",
    "# Check for missing values\n",
    "print(\"\\nMissing Values:\")\n",
    "print(data.isnull().sum())\n",
    "\n",
    "# Check the distribution of the target variable (car booking status)\n",
    "print(\"\\nCar Booking Distribution:\")\n",
    "print(data['Car_bookingStatus'].value_counts())\n"
   ]
  },
  {
   "cell_type": "markdown",
   "metadata": {},
   "source": [
    "# Data Preprocessing"
   ]
  },
  {
   "cell_type": "code",
   "execution_count": null,
   "metadata": {},
   "outputs": [
    {
     "name": "stdout",
     "output_type": "stream",
     "text": [
      "\n",
      "Dataset after preprocessing:\n",
      "<class 'pandas.core.frame.DataFrame'>\n",
      "RangeIndex: 40552 entries, 0 to 40551\n",
      "Columns: 439 entries, travelCode to Check-in_hotel_12/31/2020\n",
      "dtypes: bool(430), float64(5), int64(4)\n",
      "memory usage: 19.4 MB\n",
      "None\n",
      "\n",
      "Updated Car Booking Distribution:\n",
      "car_booked\n",
      "0    39291\n",
      "1     1261\n",
      "Name: count, dtype: int64\n"
     ]
    }
   ],
   "source": [
    "# Convert Car_bookingStatus into binary format\n",
    "data['car_booked'] = data['Car_bookingStatus'].apply(lambda x: 1 if x == 'Confirmed' else 0)\n",
    "\n",
    "# Drop columns that are directly related to car booking as they can leak information\n",
    "drop_columns = [\n",
    "    'Check-in_car', 'pickupLocation', 'dropoffLocation', 'carType', \n",
    "    'rentalAgency', 'rentalDuration', 'Car_total_distance', \n",
    "    'fuelPolicy', 'total_rent_price', 'Car_bookingStatus'\n",
    "]\n",
    "data = data.drop(columns=drop_columns)\n",
    "\n",
    "# Convert categorical features to numerical using one-hot encoding\n",
    "data = pd.get_dummies(data, drop_first=True)\n",
    "\n",
    "# Display dataset info after preprocessing\n",
    "print(\"\\nDataset after preprocessing:\")\n",
    "print(data.info())\n",
    "\n",
    "# Check updated class distribution\n",
    "print(\"\\nUpdated Car Booking Distribution:\")\n",
    "print(data['car_booked'].value_counts())\n"
   ]
  },
  {
   "cell_type": "markdown",
   "metadata": {},
   "source": [
    "# Handling Imbalance using SMOTE"
   ]
  },
  {
   "cell_type": "code",
   "execution_count": null,
   "metadata": {},
   "outputs": [
    {
     "name": "stdout",
     "output_type": "stream",
     "text": [
      "Before SMOTE:\n",
      "car_booked\n",
      "0    31432\n",
      "1     1009\n",
      "Name: count, dtype: int64\n",
      "\n",
      "After SMOTE:\n",
      "car_booked\n",
      "0    31432\n",
      "1    31432\n",
      "Name: count, dtype: int64\n"
     ]
    }
   ],
   "source": [
    "from imblearn.over_sampling import SMOTE\n",
    "from sklearn.model_selection import train_test_split\n",
    "\n",
    "# Separate features and target variable\n",
    "X = data.drop(columns=['car_booked'])\n",
    "y = data['car_booked']\n",
    "\n",
    "# Split data into training and testing sets before applying SMOTE\n",
    "X_train, X_test, y_train, y_test = train_test_split(X, y, test_size=0.2, stratify=y, random_state=42)\n",
    "\n",
    "# Apply SMOTE only on training data\n",
    "smote = SMOTE(random_state=42)\n",
    "X_train_resampled, y_train_resampled = smote.fit_resample(X_train, y_train)\n",
    "\n",
    "# Print class distribution after SMOTE\n",
    "print(\"Before SMOTE:\")\n",
    "print(y_train.value_counts())\n",
    "\n",
    "print(\"\\nAfter SMOTE:\")\n",
    "print(pd.Series(y_train_resampled).value_counts())\n"
   ]
  },
  {
   "cell_type": "markdown",
   "metadata": {},
   "source": [
    "# Train a Logistic Regression Model"
   ]
  },
  {
   "cell_type": "code",
   "execution_count": null,
   "metadata": {},
   "outputs": [
    {
     "name": "stdout",
     "output_type": "stream",
     "text": [
      "Model Accuracy: 0.8938478609296018\n",
      "\n",
      "Classification Report:\n",
      "               precision    recall  f1-score   support\n",
      "\n",
      "           0       0.97      0.92      0.94      7859\n",
      "           1       0.03      0.08      0.04       252\n",
      "\n",
      "    accuracy                           0.89      8111\n",
      "   macro avg       0.50      0.50      0.49      8111\n",
      "weighted avg       0.94      0.89      0.92      8111\n",
      "\n"
     ]
    },
    {
     "name": "stderr",
     "output_type": "stream",
     "text": [
      "d:\\Make_my_trip\\Recommendation\\recomm\\Lib\\site-packages\\sklearn\\linear_model\\_logistic.py:465: ConvergenceWarning: lbfgs failed to converge (status=1):\n",
      "STOP: TOTAL NO. OF ITERATIONS REACHED LIMIT.\n",
      "\n",
      "Increase the number of iterations (max_iter) or scale the data as shown in:\n",
      "    https://scikit-learn.org/stable/modules/preprocessing.html\n",
      "Please also refer to the documentation for alternative solver options:\n",
      "    https://scikit-learn.org/stable/modules/linear_model.html#logistic-regression\n",
      "  n_iter_i = _check_optimize_result(\n"
     ]
    }
   ],
   "source": [
    "from sklearn.linear_model import LogisticRegression\n",
    "from sklearn.metrics import accuracy_score, classification_report\n",
    "\n",
    "# Initialize and train the Logistic Regression model\n",
    "model = LogisticRegression(max_iter=1000, random_state=42)\n",
    "model.fit(X_train_resampled, y_train_resampled)\n",
    "\n",
    "# Make predictions on the test set\n",
    "y_pred = model.predict(X_test)\n",
    "\n",
    "# Evaluate the model\n",
    "print(\"Model Accuracy:\", accuracy_score(y_test, y_pred))\n",
    "print(\"\\nClassification Report:\\n\", classification_report(y_test, y_pred))\n"
   ]
  },
  {
   "cell_type": "markdown",
   "metadata": {},
   "source": [
    "model achieved 89.38% accuracy, but the classification report shows poor performance on the minority class (car_booked = 1):\n",
    "\n",
    "Precision = 0.03 (Very low; too many false positives)\n",
    "Recall = 0.08 (Misses most positive cases)\n",
    "F1-score = 0.04 (Poor balance between precision and recall) \n",
    "# Feature Scaling"
   ]
  },
  {
   "cell_type": "code",
   "execution_count": null,
   "metadata": {},
   "outputs": [
    {
     "name": "stdout",
     "output_type": "stream",
     "text": [
      "   Flight_price  Flight_duration  Flight_Distance  Hotel_stay  \\\n",
      "0      1.327021         0.796625         0.802450    0.635172   \n",
      "1      1.058008         0.644402         0.640115    1.586440   \n",
      "2     -0.105847         0.454124         0.447477   -0.316096   \n",
      "3      1.124338         0.796625         0.802450   -0.316096   \n",
      "4     -0.079956        -0.592407        -0.598410    0.635172   \n",
      "\n",
      "   Hotel_per_day_price  Hotel_TotalPrice  \n",
      "0             0.383547          0.648919  \n",
      "1             1.380649          2.417496  \n",
      "2             1.383357          0.301755  \n",
      "3             0.383547         -0.172906  \n",
      "4             0.451113          0.697035  \n"
     ]
    }
   ],
   "source": [
    "from sklearn.preprocessing import StandardScaler\n",
    "\n",
    "# Identify numerical columns (excluding binary one-hot encoded columns)\n",
    "num_cols = ['Flight_price', 'Flight_duration', 'Flight_Distance', 'Hotel_stay', \n",
    "            'Hotel_per_day_price', 'Hotel_TotalPrice']\n",
    "\n",
    "# Initialize scaler\n",
    "scaler = StandardScaler()\n",
    "\n",
    "# Scale only numerical columns in training and test sets\n",
    "X_train_resampled[num_cols] = scaler.fit_transform(X_train_resampled[num_cols])\n",
    "X_test[num_cols] = scaler.transform(X_test[num_cols])\n",
    "\n",
    "# Verify scaling\n",
    "print(X_train_resampled[num_cols].head())\n"
   ]
  },
  {
   "cell_type": "markdown",
   "metadata": {},
   "source": [
    "# Retrain Logistic Regression"
   ]
  },
  {
   "cell_type": "code",
   "execution_count": null,
   "metadata": {},
   "outputs": [
    {
     "name": "stdout",
     "output_type": "stream",
     "text": [
      "Model Accuracy: 0.9206016520774257\n",
      "Classification Report:\n",
      "               precision    recall  f1-score   support\n",
      "\n",
      "           0       0.97      0.95      0.96      7859\n",
      "           1       0.03      0.05      0.04       252\n",
      "\n",
      "    accuracy                           0.92      8111\n",
      "   macro avg       0.50      0.50      0.50      8111\n",
      "weighted avg       0.94      0.92      0.93      8111\n",
      "\n"
     ]
    },
    {
     "name": "stderr",
     "output_type": "stream",
     "text": [
      "d:\\Make_my_trip\\Recommendation\\recomm\\Lib\\site-packages\\sklearn\\linear_model\\_logistic.py:465: ConvergenceWarning: lbfgs failed to converge (status=1):\n",
      "STOP: TOTAL NO. OF ITERATIONS REACHED LIMIT.\n",
      "\n",
      "Increase the number of iterations (max_iter) or scale the data as shown in:\n",
      "    https://scikit-learn.org/stable/modules/preprocessing.html\n",
      "Please also refer to the documentation for alternative solver options:\n",
      "    https://scikit-learn.org/stable/modules/linear_model.html#logistic-regression\n",
      "  n_iter_i = _check_optimize_result(\n"
     ]
    }
   ],
   "source": [
    "from sklearn.linear_model import LogisticRegression\n",
    "from sklearn.metrics import accuracy_score, classification_report\n",
    "\n",
    "# Initialize and train the Logistic Regression model\n",
    "log_reg = LogisticRegression(max_iter=500)  # Increased iterations to improve convergence\n",
    "log_reg.fit(X_train_resampled, y_train_resampled)\n",
    "\n",
    "# Make predictions\n",
    "y_pred = log_reg.predict(X_test)\n",
    "\n",
    "# Evaluate performance\n",
    "print(\"Model Accuracy:\", accuracy_score(y_test, y_pred))\n",
    "print(\"Classification Report:\\n\", classification_report(y_test, y_pred))\n"
   ]
  },
  {
   "cell_type": "markdown",
   "metadata": {},
   "source": [
    "#  Train a Random Forest Model"
   ]
  },
  {
   "cell_type": "code",
   "execution_count": null,
   "metadata": {},
   "outputs": [
    {
     "name": "stdout",
     "output_type": "stream",
     "text": [
      "Random Forest Model Accuracy: 0.9675748982862779\n",
      "Classification Report:\n",
      "               precision    recall  f1-score   support\n",
      "\n",
      "           0       0.97      1.00      0.98      7859\n",
      "           1       0.00      0.00      0.00       252\n",
      "\n",
      "    accuracy                           0.97      8111\n",
      "   macro avg       0.48      0.50      0.49      8111\n",
      "weighted avg       0.94      0.97      0.95      8111\n",
      "\n"
     ]
    }
   ],
   "source": [
    "from sklearn.ensemble import RandomForestClassifier\n",
    "\n",
    "# Initialize Random Forest with more estimators\n",
    "# rf_model = RandomForestClassifier(n_estimators=200, random_state=42, class_weight='balanced')\n",
    "# rf_model = RandomForestClassifier(n_estimators=200, random_state=42, class_weight={0:1, 1:10})\n",
    "rf_model = RandomForestClassifier(n_estimators=200, class_weight={0: 1, 1: 50}, random_state=42)\n",
    "\n",
    "# Train the model\n",
    "rf_model.fit(X_train_resampled, y_train_resampled)\n",
    "\n",
    "# Make predictions\n",
    "y_pred_rf = rf_model.predict(X_test)\n",
    "\n",
    "# Evaluate performance\n",
    "from sklearn.metrics import accuracy_score, classification_report\n",
    "\n",
    "print(\"Random Forest Model Accuracy:\", accuracy_score(y_test, y_pred_rf))\n",
    "print(\"Classification Report:\\n\", classification_report(y_test, y_pred_rf))"
   ]
  },
  {
   "cell_type": "markdown",
   "metadata": {},
   "source": [
    "## try the different metrics"
   ]
  },
  {
   "cell_type": "code",
   "execution_count": null,
   "metadata": {},
   "outputs": [
    {
     "name": "stdout",
     "output_type": "stream",
     "text": [
      "AUC-ROC Score: 0.5123056772439646\n"
     ]
    }
   ],
   "source": [
    "from sklearn.metrics import roc_auc_score\n",
    "\n",
    "y_probs = rf_model.predict_proba(X_test)[:, 1]  # Get probability scores\n",
    "print(\"AUC-ROC Score:\", roc_auc_score(y_test, y_probs))\n"
   ]
  },
  {
   "cell_type": "markdown",
   "metadata": {},
   "source": [
    "# Train XGboost Classifier"
   ]
  },
  {
   "cell_type": "code",
   "execution_count": null,
   "metadata": {},
   "outputs": [
    {
     "name": "stdout",
     "output_type": "stream",
     "text": [
      "XGBoost Classification Report:\n",
      "               precision    recall  f1-score   support\n",
      "\n",
      "           0       0.97      0.81      0.89      7859\n",
      "           1       0.04      0.22      0.06       252\n",
      "\n",
      "    accuracy                           0.80      8111\n",
      "   macro avg       0.50      0.52      0.47      8111\n",
      "weighted avg       0.94      0.80      0.86      8111\n",
      "\n"
     ]
    }
   ],
   "source": [
    "from xgboost import XGBClassifier\n",
    "\n",
    "# xgb_model = XGBClassifier(n_estimators=200, scale_pos_weight=50, random_state=42)\n",
    "xgb_model = XGBClassifier(n_estimators=200, scale_pos_weight=30, random_state=42)\n",
    "\n",
    "xgb_model.fit(X_train_resampled, y_train_resampled)\n",
    "\n",
    "y_pred_xgb = xgb_model.predict(X_test)\n",
    "print(\"XGBoost Classification Report:\\n\", classification_report(y_test, y_pred_xgb))\n"
   ]
  },
  {
   "cell_type": "markdown",
   "metadata": {},
   "source": [
    "# Fine tunning the Classifier"
   ]
  },
  {
   "cell_type": "code",
   "execution_count": null,
   "metadata": {},
   "outputs": [
    {
     "name": "stdout",
     "output_type": "stream",
     "text": [
      "Best Parameters: {'learning_rate': 0.2, 'max_depth': 7, 'n_estimators': 300, 'scale_pos_weight': 10}\n"
     ]
    }
   ],
   "source": [
    "from sklearn.model_selection import GridSearchCV\n",
    "\n",
    "params = {\n",
    "    'n_estimators': [100, 200, 300],\n",
    "    'learning_rate': [0.01, 0.1, 0.2],\n",
    "    'max_depth': [3, 5, 7],\n",
    "    'scale_pos_weight': [10, 20, 30]\n",
    "}\n",
    "\n",
    "grid_search = GridSearchCV(XGBClassifier(random_state=42), params, scoring='f1', cv=3, n_jobs=-1)\n",
    "grid_search.fit(X_train_resampled, y_train_resampled)\n",
    "\n",
    "print(\"Best Parameters:\", grid_search.best_params_)\n"
   ]
  },
  {
   "cell_type": "markdown",
   "metadata": {},
   "source": [
    "# Feature Engineering: Identify the Most Important Features"
   ]
  },
  {
   "cell_type": "code",
   "execution_count": null,
   "metadata": {},
   "outputs": [
    {
     "data": {
      "image/png": "[encoded data removed]",
      "text/plain": [
       "<Figure size 640x480 with 1 Axes>"
      ]
     },
     "metadata": {},
     "output_type": "display_data"
    }
   ],
   "source": [
    "import matplotlib.pyplot as plt\n",
    "import pandas as pd\n",
    "\n",
    "feature_importance = pd.Series(xgb_model.feature_importances_, index=X_train.columns)\n",
    "feature_importance.nlargest(15).plot(kind='barh')\n",
    "plt.title(\"Top 15 Important Features\")\n",
    "plt.show()\n"
   ]
  },
  {
   "cell_type": "markdown",
   "metadata": {},
   "source": [
    "# Try SMOTE + NearMiss Hybrid Sampling"
   ]
  },
  {
   "cell_type": "code",
   "execution_count": null,
   "metadata": {},
   "outputs": [],
   "source": [
    "from imblearn.under_sampling import NearMiss\n",
    "from imblearn.over_sampling import SMOTE\n",
    "from imblearn.pipeline import Pipeline\n",
    "\n",
    "smote = SMOTE(sampling_strategy=0.5, random_state=42)\n",
    "nearmiss = NearMiss(sampling_strategy=0.8)\n",
    "\n",
    "pipeline = Pipeline([('SMOTE', smote), ('NearMiss', nearmiss)])\n",
    "X_train_balanced, y_train_balanced = pipeline.fit_resample(X_train, y_train)\n"
   ]
  },
  {
   "cell_type": "markdown",
   "metadata": {},
   "source": [
    "## Retrain with the best parameters:"
   ]
  },
  {
   "cell_type": "code",
   "execution_count": null,
   "metadata": {},
   "outputs": [
    {
     "name": "stdout",
     "output_type": "stream",
     "text": [
      "XGBoost Classification Report:\n",
      "               precision    recall  f1-score   support\n",
      "\n",
      "           0       0.97      0.99      0.98      7859\n",
      "           1       0.04      0.02      0.02       252\n",
      "\n",
      "    accuracy                           0.96      8111\n",
      "   macro avg       0.50      0.50      0.50      8111\n",
      "weighted avg       0.94      0.96      0.95      8111\n",
      "\n"
     ]
    }
   ],
   "source": [
    "from xgboost import XGBClassifier\n",
    "\n",
    "# xgb_model = XGBClassifier(n_estimators=200, scale_pos_weight=50, random_state=42)\n",
    "xgb_model = XGBClassifier(n_estimators=300, learning_rate=0.2, max_depth=7, scale_pos_weight=5, random_state=42)\n",
    "\n",
    "xgb_model.fit(X_train_resampled, y_train_resampled)\n",
    "\n",
    "y_pred_xgb = xgb_model.predict(X_test)\n",
    "print(\"XGBoost Classification Report:\\n\", classification_report(y_test, y_pred_xgb))\n"
   ]
  },
  {
   "cell_type": "code",
   "execution_count": null,
   "metadata": {},
   "outputs": [],
   "source": []
  }
 ],
 "metadata": {
  "language_info": {
   "name": "python"
  }
 },
 "nbformat": 4,
 "nbformat_minor": 2
}
