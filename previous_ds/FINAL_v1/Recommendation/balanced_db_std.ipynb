{
 "cells": [
  {
   "cell_type": "code",
   "execution_count": null,
   "metadata": {},
   "outputs": [
    {
     "name": "stdout",
     "output_type": "stream",
     "text": [
      "Flight Data:\n",
      "    travelCode  User_ID      Departure             Arrival  flightType  \\\n",
      "0           0        0    Recife (PE)  Florianopolis (SC)  firstClass   \n",
      "1           2        0   Aracaju (SE)       Salvador (BH)  firstClass   \n",
      "2           7        0   Aracaju (SE)       Salvador (BH)    economic   \n",
      "3          11        0  Brasilia (DF)       Salvador (BH)     premium   \n",
      "4          13        0    Recife (PE)  Florianopolis (SC)  firstClass   \n",
      "\n",
      "   Flight_price  Flight_duration  Flight_Distance Flight_agency Departure_date  \n",
      "0       1434.38             1.76           676.53   FlyingDrops     2019-09-26  \n",
      "1       1684.05             2.16           830.86       CloudFy     2019-10-10  \n",
      "2        964.83             2.16           830.86       CloudFy     2019-11-14  \n",
      "3       1268.97             1.76           676.56       Rainbow     2019-12-12  \n",
      "4       1434.38             1.76           676.53   FlyingDrops     2019-12-26  \n",
      "Hotel Data:\n",
      "    travelCode  User_ID Hotel_Name       Arrival_place  Hotel_stay  \\\n",
      "0           0        0    Hotel A  Florianopolis (SC)           4   \n",
      "1           2        0    Hotel K       Salvador (BH)           2   \n",
      "2           7        0    Hotel K       Salvador (BH)           3   \n",
      "3          11        0    Hotel K       Salvador (BH)           4   \n",
      "4          13        0    Hotel A  Florianopolis (SC)           1   \n",
      "\n",
      "   Hotel_per_day_price   Check_in  Hotel_TotalPrice  \n",
      "0               313.02 2019-09-26           1252.08  \n",
      "1               263.41 2019-10-10            526.82  \n",
      "2               263.41 2019-11-14            790.23  \n",
      "3               263.41 2019-12-12           1053.64  \n",
      "4               313.02 2019-12-26            313.02  \n",
      "Car Rental Data:\n",
      "    travelCode  User_ID   Check_in    pickupLocation  dropoffLocation  \\\n",
      "0          22        0 2020-02-27          Johntown       Port Brian   \n",
      "1          45        0 2020-08-06         Owensland         Ruizfort   \n",
      "2         117        2 2020-02-27        Edwardview        Katiefort   \n",
      "3         119        2 2020-03-12      Moranborough   Lake Stephanie   \n",
      "4         153        2 2020-11-05  Port Kathrynstad  East Ronnieberg   \n",
      "\n",
      "     carType rentalAgency  rentalDuration  Car_total_distance    fuelPolicy  \\\n",
      "0      Sedan         Sixt               3                 285       Prepaid   \n",
      "1      Sedan   Enterprise               3                 412  Full-to-Full   \n",
      "2      Sedan        Hertz               1                 433       Partial   \n",
      "3  Hatchback       Budget               3                 421  Full-to-Full   \n",
      "4      Sedan   Enterprise               5                 100       Prepaid   \n",
      "\n",
      "  Car_bookingStatus  total_rent_price  \n",
      "0           Pending            3410.0  \n",
      "1           Pending            4644.0  \n",
      "2         Confirmed            4740.0  \n",
      "3         Confirmed            3744.0  \n",
      "4         Cancelled            1694.0  \n"
     ]
    }
   ],
   "source": [
    "from sqlalchemy import create_engine\n",
    "import pandas as pd\n",
    "from urllib.parse import quote_plus \n",
    "import os\n",
    "\n",
    "# Database connection details\n",
    "db_config = {\n",
    "    \"host\": os.getenv(\"DB_HOST\"),\n",
    "    \"user\": os.getenv(\"DB_USER\"),\n",
    "    \"password\": os.getenv(\"DB_PASSWORD\"),\n",
    "    \"database\": \"makemytrip\"\n",
    "}\n",
    "# Encode password to handle special characters\n",
    "encoded_password = quote_plus(db_config[\"password\"])\n",
    "# Create MySQL Connection URL\n",
    "db_url = f\"mysql+pymysql://{db_config['user']}:{encoded_password}@{db_config['host']}/{db_config['database']}\"\n",
    "\n",
    "# Create SQLAlchemy Engine\n",
    "engine = create_engine(db_url)\n",
    "\n",
    "# Queries\n",
    "query_flight = \"SELECT * FROM Flight;\"\n",
    "query_hotel = \"SELECT * FROM Hotel;\"\n",
    "query_car_rental = \"SELECT * FROM CarRental;\"\n",
    "\n",
    "# Load Data\n",
    "df_flight = pd.read_sql(query_flight, engine)\n",
    "df_hotel = pd.read_sql(query_hotel, engine)\n",
    "df_car_rental = pd.read_sql(query_car_rental, engine)\n",
    "\n",
    "# Display samples\n",
    "print(\"Flight Data:\\n\", df_flight.head())\n",
    "print(\"Hotel Data:\\n\", df_hotel.head())\n",
    "print(\"Car Rental Data:\\n\", df_car_rental.head())"
   ]
  },
  {
   "cell_type": "markdown",
   "metadata": {},
   "source": [
    "Check for data cleaning!"
   ]
  },
  {
   "cell_type": "code",
   "execution_count": 2,
   "metadata": {},
   "outputs": [
    {
     "name": "stdout",
     "output_type": "stream",
     "text": [
      "travelCode         0\n",
      "User_ID            0\n",
      "Departure          0\n",
      "Arrival            0\n",
      "flightType         0\n",
      "Flight_price       0\n",
      "Flight_duration    0\n",
      "Flight_Distance    0\n",
      "Flight_agency      0\n",
      "Departure_date     0\n",
      "dtype: int64\n",
      "travelCode             0\n",
      "User_ID                0\n",
      "Hotel_Name             0\n",
      "Arrival_place          0\n",
      "Hotel_stay             0\n",
      "Hotel_per_day_price    0\n",
      "Check_in               0\n",
      "Hotel_TotalPrice       0\n",
      "dtype: int64\n",
      "travelCode            0\n",
      "User_ID               0\n",
      "Check_in              0\n",
      "pickupLocation        0\n",
      "dropoffLocation       0\n",
      "carType               0\n",
      "rentalAgency          0\n",
      "rentalDuration        0\n",
      "Car_total_distance    0\n",
      "fuelPolicy            0\n",
      "Car_bookingStatus     0\n",
      "total_rent_price      0\n",
      "dtype: int64\n"
     ]
    }
   ],
   "source": [
    "print(df_flight.isnull().sum())\n",
    "print(df_hotel.isnull().sum())\n",
    "print(df_car_rental.isnull().sum())\n"
   ]
  },
  {
   "cell_type": "code",
   "execution_count": 3,
   "metadata": {},
   "outputs": [],
   "source": [
    "df_flight = df_flight.drop_duplicates()\n",
    "df_hotel = df_hotel.drop_duplicates()\n",
    "df_car_rental = df_car_rental.drop_duplicates()\n"
   ]
  },
  {
   "cell_type": "code",
   "execution_count": 4,
   "metadata": {},
   "outputs": [
    {
     "name": "stdout",
     "output_type": "stream",
     "text": [
      "travelCode                  int64\n",
      "User_ID                     int64\n",
      "Departure                  object\n",
      "Arrival                    object\n",
      "flightType                 object\n",
      "Flight_price              float64\n",
      "Flight_duration           float64\n",
      "Flight_Distance           float64\n",
      "Flight_agency              object\n",
      "Departure_date     datetime64[ns]\n",
      "dtype: object\n",
      "travelCode                      int64\n",
      "User_ID                         int64\n",
      "Hotel_Name                     object\n",
      "Arrival_place                  object\n",
      "Hotel_stay                      int64\n",
      "Hotel_per_day_price           float64\n",
      "Check_in               datetime64[ns]\n",
      "Hotel_TotalPrice              float64\n",
      "dtype: object\n",
      "travelCode                     int64\n",
      "User_ID                        int64\n",
      "Check_in              datetime64[ns]\n",
      "pickupLocation                object\n",
      "dropoffLocation               object\n",
      "carType                       object\n",
      "rentalAgency                  object\n",
      "rentalDuration                 int64\n",
      "Car_total_distance             int64\n",
      "fuelPolicy                    object\n",
      "Car_bookingStatus             object\n",
      "total_rent_price             float64\n",
      "dtype: object\n"
     ]
    }
   ],
   "source": [
    "print(df_flight.dtypes)\n",
    "print(df_hotel.dtypes)\n",
    "print(df_car_rental.dtypes)\n"
   ]
  },
  {
   "cell_type": "code",
   "execution_count": 5,
   "metadata": {},
   "outputs": [],
   "source": [
    "df_flight['Departure_date'] = pd.to_datetime(df_flight['Departure_date'])\n",
    "df_hotel['Check_in'] = pd.to_datetime(df_hotel['Check_in'])\n",
    "df_car_rental['Check_in'] = pd.to_datetime(df_car_rental['Check_in'])\n"
   ]
  },
  {
   "cell_type": "code",
   "execution_count": 6,
   "metadata": {},
   "outputs": [
    {
     "data": {
      "image/png": "[encoded data removed]",
      "text/plain": [
       "<Figure size 1500x500 with 3 Axes>"
      ]
     },
     "metadata": {},
     "output_type": "display_data"
    }
   ],
   "source": [
    "import seaborn as sns\n",
    "import matplotlib.pyplot as plt\n",
    "\n",
    "# Boxplots to detect outliers\n",
    "fig, axes = plt.subplots(1, 3, figsize=(15, 5))\n",
    "sns.boxplot(y=df_flight['Flight_price'], ax=axes[0]).set_title('Flight Price')\n",
    "sns.boxplot(y=df_hotel['Hotel_TotalPrice'], ax=axes[1]).set_title('Hotel Price')\n",
    "sns.boxplot(y=df_car_rental['total_rent_price'], ax=axes[2]).set_title('Car Rental Price')\n",
    "plt.show()\n"
   ]
  },
  {
   "cell_type": "markdown",
   "metadata": {},
   "source": [
    "merging"
   ]
  },
  {
   "cell_type": "code",
   "execution_count": 7,
   "metadata": {},
   "outputs": [],
   "source": [
    "df = df_flight.merge(df_hotel, on=['travelCode', 'User_ID'], how='left') \\\n",
    "              .merge(df_car_rental, on=['travelCode', 'User_ID'], how='left')\n"
   ]
  },
  {
   "cell_type": "code",
   "execution_count": 8,
   "metadata": {},
   "outputs": [
    {
     "data": {
      "text/plain": [
       "Index(['travelCode', 'User_ID', 'Departure', 'Arrival', 'flightType',\n",
       "       'Flight_price', 'Flight_duration', 'Flight_Distance', 'Flight_agency',\n",
       "       'Departure_date', 'Hotel_Name', 'Arrival_place', 'Hotel_stay',\n",
       "       'Hotel_per_day_price', 'Check_in_x', 'Hotel_TotalPrice', 'Check_in_y',\n",
       "       'pickupLocation', 'dropoffLocation', 'carType', 'rentalAgency',\n",
       "       'rentalDuration', 'Car_total_distance', 'fuelPolicy',\n",
       "       'Car_bookingStatus', 'total_rent_price'],\n",
       "      dtype='object')"
      ]
     },
     "execution_count": 8,
     "metadata": {},
     "output_type": "execute_result"
    }
   ],
   "source": [
    "df.columns"
   ]
  },
  {
   "cell_type": "code",
   "execution_count": 9,
   "metadata": {},
   "outputs": [],
   "source": [
    "df= df.drop(columns=['Check_in_y'],axis=1)"
   ]
  },
  {
   "cell_type": "code",
   "execution_count": 10,
   "metadata": {},
   "outputs": [
    {
     "data": {
      "text/plain": [
       "Index(['travelCode', 'User_ID', 'Departure', 'Arrival', 'flightType',\n",
       "       'Flight_price', 'Flight_duration', 'Flight_Distance', 'Flight_agency',\n",
       "       'Departure_date', 'Hotel_Name', 'Arrival_place', 'Hotel_stay',\n",
       "       'Hotel_per_day_price', 'Check_in_x', 'Hotel_TotalPrice',\n",
       "       'pickupLocation', 'dropoffLocation', 'carType', 'rentalAgency',\n",
       "       'rentalDuration', 'Car_total_distance', 'fuelPolicy',\n",
       "       'Car_bookingStatus', 'total_rent_price'],\n",
       "      dtype='object')"
      ]
     },
     "execution_count": 10,
     "metadata": {},
     "output_type": "execute_result"
    }
   ],
   "source": [
    "df.columns"
   ]
  },
  {
   "cell_type": "code",
   "execution_count": 11,
   "metadata": {},
   "outputs": [],
   "source": [
    "df.rename(columns={'Check_in_x':'Check_in'},inplace=True)"
   ]
  },
  {
   "cell_type": "code",
   "execution_count": 12,
   "metadata": {},
   "outputs": [
    {
     "data": {
      "text/plain": [
       "Index(['travelCode', 'User_ID', 'Departure', 'Arrival', 'flightType',\n",
       "       'Flight_price', 'Flight_duration', 'Flight_Distance', 'Flight_agency',\n",
       "       'Departure_date', 'Hotel_Name', 'Arrival_place', 'Hotel_stay',\n",
       "       'Hotel_per_day_price', 'Check_in', 'Hotel_TotalPrice', 'pickupLocation',\n",
       "       'dropoffLocation', 'carType', 'rentalAgency', 'rentalDuration',\n",
       "       'Car_total_distance', 'fuelPolicy', 'Car_bookingStatus',\n",
       "       'total_rent_price'],\n",
       "      dtype='object')"
      ]
     },
     "execution_count": 12,
     "metadata": {},
     "output_type": "execute_result"
    }
   ],
   "source": [
    "df.columns"
   ]
  },
  {
   "cell_type": "markdown",
   "metadata": {},
   "source": [
    "Creating the Balanced Training Set"
   ]
  },
  {
   "cell_type": "code",
   "execution_count": 28,
   "metadata": {},
   "outputs": [
    {
     "name": "stdout",
     "output_type": "stream",
     "text": [
      "Before Balancing: car_rental_status\n",
      "0    36779\n",
      "1     3773\n",
      "Name: count, dtype: int64\n",
      "car_rental_status\n",
      "1    3773\n",
      "0    3773\n",
      "Name: count, dtype: int64\n"
     ]
    }
   ],
   "source": [
    "import pandas as pd\n",
    "print(\"Before Balancing:\", df['car_rental_status'].value_counts())\n",
    "\n",
    "# Define the target variable (assuming 'car_rental_status' is 1 if booked, 0 if not)\n",
    "df['car_rental_status'] = df['Car_total_distance'].fillna(0).apply(lambda x: 1 if x > 0 else 0)\n",
    "  # 1 if booked, 0 if not\n",
    "\n",
    "# Separate the two classes\n",
    "df_booked = df[df['car_rental_status'] == 1]\n",
    "df_not_booked = df[df['car_rental_status'] == 0]\n",
    "\n",
    "# Downsample the majority class to match the minority class\n",
    "min_class_size = min(len(df_booked), len(df_not_booked))\n",
    "df_booked_sampled = df_booked.sample(n=min_class_size, random_state=42)\n",
    "df_not_booked_sampled = df_not_booked.sample(n=min_class_size, random_state=42)\n",
    "\n",
    "# Combine into a balanced dataset\n",
    "df_balanced = pd.concat([df_booked_sampled, df_not_booked_sampled]).sample(frac=1, random_state=42)\n",
    "\n",
    "# Display the class distribution\n",
    "print(df_balanced['car_rental_status'].value_counts())\n",
    "df_balanced.to_csv('balanced_data.csv', index=False)\n",
    "\n"
   ]
  },
  {
   "cell_type": "code",
   "execution_count": 29,
   "metadata": {},
   "outputs": [
    {
     "name": "stdout",
     "output_type": "stream",
     "text": [
      "<class 'pandas.core.frame.DataFrame'>\n",
      "RangeIndex: 7546 entries, 0 to 7545\n",
      "Data columns (total 24 columns):\n",
      " #   Column               Non-Null Count  Dtype  \n",
      "---  ------               --------------  -----  \n",
      " 0   Departure            7546 non-null   int64  \n",
      " 1   Arrival              7546 non-null   int64  \n",
      " 2   flightType           7546 non-null   int64  \n",
      " 3   Flight_price         7546 non-null   float64\n",
      " 4   Flight_duration      7546 non-null   float64\n",
      " 5   Flight_Distance      7546 non-null   float64\n",
      " 6   Flight_agency        7546 non-null   int64  \n",
      " 7   Departure_date       7546 non-null   int64  \n",
      " 8   Hotel_Name           7546 non-null   int64  \n",
      " 9   Arrival_place        7546 non-null   int64  \n",
      " 10  Hotel_stay           7546 non-null   int64  \n",
      " 11  Hotel_per_day_price  7546 non-null   float64\n",
      " 12  Check_in             7546 non-null   int64  \n",
      " 13  Hotel_TotalPrice     7546 non-null   float64\n",
      " 14  pickupLocation       7546 non-null   int64  \n",
      " 15  dropoffLocation      7546 non-null   int64  \n",
      " 16  carType              7546 non-null   int64  \n",
      " 17  rentalAgency         7546 non-null   int64  \n",
      " 18  rentalDuration       7546 non-null   float64\n",
      " 19  Car_total_distance   7546 non-null   float64\n",
      " 20  fuelPolicy           7546 non-null   int64  \n",
      " 21  Car_bookingStatus    7546 non-null   int64  \n",
      " 22  total_rent_price     7546 non-null   float64\n",
      " 23  car_rental_status    7546 non-null   int64  \n",
      "dtypes: float64(8), int64(16)\n",
      "memory usage: 1.4 MB\n",
      "None\n"
     ]
    }
   ],
   "source": [
    "from sklearn.preprocessing import LabelEncoder\n",
    "\n",
    "# Load balanced data\n",
    "df_balanced = pd.read_csv('balanced_data.csv')\n",
    "\n",
    "# Drop irrelevant columns (IDs, etc.)\n",
    "df_balanced = df_balanced.drop(columns=['travelCode', 'User_ID'])\n",
    "\n",
    "# Handle missing values (Fill NaNs with median for numerical columns)\n",
    "for col in df_balanced.select_dtypes(include=['number']).columns:\n",
    "    df_balanced[col] = df_balanced[col].fillna(df_balanced[col].median())\n",
    "\n",
    "# Encode categorical variables using Label Encoding\n",
    "label_encoders = {}\n",
    "categorical_cols = df_balanced.select_dtypes(include=['object']).columns\n",
    "\n",
    "for col in categorical_cols:\n",
    "    le = LabelEncoder()\n",
    "    df_balanced[col] = le.fit_transform(df_balanced[col])\n",
    "    label_encoders[col] = le  # Save encoders for later use\n",
    "\n",
    "# Display dataset info\n",
    "print(df_balanced.info())\n",
    "\n",
    "# Save the processed dataset\n",
    "df_balanced.to_csv('processed_features.csv', index=False)\n"
   ]
  },
  {
   "cell_type": "code",
   "execution_count": 30,
   "metadata": {},
   "outputs": [
    {
     "name": "stdout",
     "output_type": "stream",
     "text": [
      "Training set: (6036, 23), Testing set: (1510, 23)\n"
     ]
    }
   ],
   "source": [
    "from sklearn.model_selection import train_test_split\n",
    "\n",
    "# Load processed dataset\n",
    "df_balanced = pd.read_csv('processed_features.csv')\n",
    "\n",
    "# Define features (X) and target variable (y)\n",
    "X = df_balanced.drop(columns=['car_rental_status'])  # Features\n",
    "y = df_balanced['car_rental_status']  # Target variable\n",
    "\n",
    "# Split into training (80%) and testing (20%) sets\n",
    "X_train, X_test, y_train, y_test = train_test_split(X, y, test_size=0.2, random_state=42, stratify=y)\n",
    "\n",
    "# Display dataset shapes\n",
    "print(f\"Training set: {X_train.shape}, Testing set: {X_test.shape}\")\n",
    "\n",
    "# Save training & testing sets for later use\n",
    "X_train.to_csv('X_train.csv', index=False)\n",
    "X_test.to_csv('X_test.csv', index=False)\n",
    "y_train.to_csv('y_train.csv', index=False)\n",
    "y_test.to_csv('y_test.csv', index=False)\n"
   ]
  },
  {
   "cell_type": "code",
   "execution_count": 31,
   "metadata": {},
   "outputs": [
    {
     "name": "stderr",
     "output_type": "stream",
     "text": [
      "[I 2025-03-03 10:03:11,512] A new study created in memory with name: no-name-6ae3b0fb-cf76-4225-9915-9426d5be5522\n",
      "[I 2025-03-03 10:03:28,924] Trial 0 finished with value: 1.0 and parameters: {'rf_n_estimators': 272, 'rf_max_depth': 18, 'xgb_n_estimators': 291, 'xgb_max_depth': 6, 'xgb_learning_rate': 0.10758865034348619}. Best is trial 0 with value: 1.0.\n",
      "[I 2025-03-03 10:03:45,711] Trial 1 finished with value: 1.0 and parameters: {'rf_n_estimators': 281, 'rf_max_depth': 10, 'xgb_n_estimators': 156, 'xgb_max_depth': 7, 'xgb_learning_rate': 0.054216085312943696}. Best is trial 0 with value: 1.0.\n",
      "[I 2025-03-03 10:03:57,481] Trial 2 finished with value: 1.0 and parameters: {'rf_n_estimators': 175, 'rf_max_depth': 13, 'xgb_n_estimators': 228, 'xgb_max_depth': 3, 'xgb_learning_rate': 0.24385301354503539}. Best is trial 0 with value: 1.0.\n",
      "[I 2025-03-03 10:04:07,012] Trial 3 finished with value: 1.0 and parameters: {'rf_n_estimators': 117, 'rf_max_depth': 16, 'xgb_n_estimators': 242, 'xgb_max_depth': 9, 'xgb_learning_rate': 0.09173935889791378}. Best is trial 0 with value: 1.0.\n",
      "[I 2025-03-03 10:04:24,248] Trial 4 finished with value: 1.0 and parameters: {'rf_n_estimators': 273, 'rf_max_depth': 13, 'xgb_n_estimators': 262, 'xgb_max_depth': 6, 'xgb_learning_rate': 0.19475230118233602}. Best is trial 0 with value: 1.0.\n",
      "[I 2025-03-03 10:04:30,163] Trial 5 finished with value: 1.0 and parameters: {'rf_n_estimators': 69, 'rf_max_depth': 19, 'xgb_n_estimators': 164, 'xgb_max_depth': 4, 'xgb_learning_rate': 0.2922674416795694}. Best is trial 0 with value: 1.0.\n",
      "[I 2025-03-03 10:04:35,960] Trial 6 finished with value: 1.0 and parameters: {'rf_n_estimators': 76, 'rf_max_depth': 17, 'xgb_n_estimators': 82, 'xgb_max_depth': 3, 'xgb_learning_rate': 0.22872016803748138}. Best is trial 0 with value: 1.0.\n",
      "[I 2025-03-03 10:04:52,153] Trial 7 finished with value: 1.0 and parameters: {'rf_n_estimators': 253, 'rf_max_depth': 19, 'xgb_n_estimators': 164, 'xgb_max_depth': 6, 'xgb_learning_rate': 0.12561449530463337}. Best is trial 0 with value: 1.0.\n",
      "[I 2025-03-03 10:04:59,550] Trial 8 finished with value: 1.0 and parameters: {'rf_n_estimators': 87, 'rf_max_depth': 6, 'xgb_n_estimators': 172, 'xgb_max_depth': 10, 'xgb_learning_rate': 0.27855537959528537}. Best is trial 0 with value: 1.0.\n",
      "[I 2025-03-03 10:05:15,963] Trial 9 finished with value: 1.0 and parameters: {'rf_n_estimators': 284, 'rf_max_depth': 10, 'xgb_n_estimators': 75, 'xgb_max_depth': 4, 'xgb_learning_rate': 0.07848882691469562}. Best is trial 0 with value: 1.0.\n",
      "[I 2025-03-03 10:05:30,625] Trial 10 finished with value: 1.0 and parameters: {'rf_n_estimators': 210, 'rf_max_depth': 3, 'xgb_n_estimators': 298, 'xgb_max_depth': 8, 'xgb_learning_rate': 0.022972084952364358}. Best is trial 0 with value: 1.0.\n",
      "[I 2025-03-03 10:05:44,386] Trial 11 finished with value: 1.0 and parameters: {'rf_n_estimators': 223, 'rf_max_depth': 9, 'xgb_n_estimators': 119, 'xgb_max_depth': 7, 'xgb_learning_rate': 0.01097194684230754}. Best is trial 0 with value: 1.0.\n",
      "[I 2025-03-03 10:06:02,889] Trial 12 finished with value: 1.0 and parameters: {'rf_n_estimators': 296, 'rf_max_depth': 8, 'xgb_n_estimators': 213, 'xgb_max_depth': 7, 'xgb_learning_rate': 0.06978724286024862}. Best is trial 0 with value: 1.0.\n",
      "[I 2025-03-03 10:06:13,684] Trial 13 finished with value: 1.0 and parameters: {'rf_n_estimators': 163, 'rf_max_depth': 15, 'xgb_n_estimators': 126, 'xgb_max_depth': 5, 'xgb_learning_rate': 0.14630989835010288}. Best is trial 0 with value: 1.0.\n",
      "[I 2025-03-03 10:06:29,296] Trial 14 finished with value: 1.0 and parameters: {'rf_n_estimators': 240, 'rf_max_depth': 12, 'xgb_n_estimators': 198, 'xgb_max_depth': 8, 'xgb_learning_rate': 0.04900655640495267}. Best is trial 0 with value: 1.0.\n",
      "[I 2025-03-03 10:06:44,608] Trial 15 finished with value: 1.0 and parameters: {'rf_n_estimators': 197, 'rf_max_depth': 6, 'xgb_n_estimators': 290, 'xgb_max_depth': 5, 'xgb_learning_rate': 0.110540477770844}. Best is trial 0 with value: 1.0.\n",
      "[I 2025-03-03 10:07:02,381] Trial 16 finished with value: 1.0 and parameters: {'rf_n_estimators': 255, 'rf_max_depth': 14, 'xgb_n_estimators': 120, 'xgb_max_depth': 8, 'xgb_learning_rate': 0.17171462150092967}. Best is trial 0 with value: 1.0.\n",
      "[I 2025-03-03 10:07:11,833] Trial 17 finished with value: 1.0 and parameters: {'rf_n_estimators': 141, 'rf_max_depth': 20, 'xgb_n_estimators': 52, 'xgb_max_depth': 6, 'xgb_learning_rate': 0.052465387654690776}. Best is trial 0 with value: 1.0.\n",
      "[I 2025-03-03 10:07:28,565] Trial 18 finished with value: 1.0 and parameters: {'rf_n_estimators': 270, 'rf_max_depth': 11, 'xgb_n_estimators': 143, 'xgb_max_depth': 5, 'xgb_learning_rate': 0.12238687121889866}. Best is trial 0 with value: 1.0.\n",
      "[I 2025-03-03 10:07:43,680] Trial 19 finished with value: 1.0 and parameters: {'rf_n_estimators': 232, 'rf_max_depth': 6, 'xgb_n_estimators': 192, 'xgb_max_depth': 7, 'xgb_learning_rate': 0.16813238657543247}. Best is trial 0 with value: 1.0.\n"
     ]
    },
    {
     "name": "stdout",
     "output_type": "stream",
     "text": [
      "Best hyperparameters: {'rf_n_estimators': 272, 'rf_max_depth': 18, 'xgb_n_estimators': 291, 'xgb_max_depth': 6, 'xgb_learning_rate': 0.10758865034348619}\n"
     ]
    }
   ],
   "source": [
    "import optuna\n",
    "import xgboost as xgb\n",
    "import lightgbm as lgb\n",
    "from sklearn.ensemble import StackingClassifier, RandomForestClassifier\n",
    "from sklearn.linear_model import LogisticRegression\n",
    "from sklearn.model_selection import cross_val_score\n",
    "import numpy as np\n",
    "import pandas as pd\n",
    "\n",
    "# Load the dataset\n",
    "X_train = pd.read_csv('X_train.csv')\n",
    "y_train = pd.read_csv('y_train.csv').values.ravel()  # Flatten array\n",
    "\n",
    "# Define objective function for Optuna tuning\n",
    "def objective(trial):\n",
    "    # Define base models with hyperparameters\n",
    "    clf1 = RandomForestClassifier(\n",
    "        n_estimators=trial.suggest_int(\"rf_n_estimators\", 50, 300),\n",
    "        max_depth=trial.suggest_int(\"rf_max_depth\", 3, 20),\n",
    "        random_state=42\n",
    "    )\n",
    "    \n",
    "    clf2 = xgb.XGBClassifier(\n",
    "        n_estimators=trial.suggest_int(\"xgb_n_estimators\", 50, 300),\n",
    "        max_depth=trial.suggest_int(\"xgb_max_depth\", 3, 10),\n",
    "        learning_rate=trial.suggest_float(\"xgb_learning_rate\", 0.01, 0.3),\n",
    "        random_state=42\n",
    "    )\n",
    "    \n",
    "    # Define the stacking classifier\n",
    "    stack_model = StackingClassifier(\n",
    "        estimators=[('rf', clf1), ('xgb', clf2)],\n",
    "        final_estimator=LogisticRegression(),\n",
    "        cv=5\n",
    "    )\n",
    "    \n",
    "    # Perform cross-validation and return the mean accuracy\n",
    "    score = cross_val_score(stack_model, X_train, y_train, cv=5, scoring='accuracy').mean()\n",
    "    return score\n",
    "\n",
    "# Run Optuna optimization\n",
    "study = optuna.create_study(direction=\"maximize\")\n",
    "study.optimize(objective, n_trials=20)\n",
    "\n",
    "# Display best hyperparameters\n",
    "print(\"Best hyperparameters:\", study.best_params)\n"
   ]
  },
  {
   "cell_type": "code",
   "execution_count": 32,
   "metadata": {},
   "outputs": [
    {
     "name": "stdout",
     "output_type": "stream",
     "text": [
      "Accuracy: 1.0000\n",
      "Classification Report:\n",
      "               precision    recall  f1-score   support\n",
      "\n",
      "           0       1.00      1.00      1.00       755\n",
      "           1       1.00      1.00      1.00       755\n",
      "\n",
      "    accuracy                           1.00      1510\n",
      "   macro avg       1.00      1.00      1.00      1510\n",
      "weighted avg       1.00      1.00      1.00      1510\n",
      "\n"
     ]
    }
   ],
   "source": [
    "from sklearn.metrics import accuracy_score, classification_report\n",
    "import xgboost as xgb\n",
    "from sklearn.ensemble import RandomForestClassifier, StackingClassifier\n",
    "from sklearn.linear_model import LogisticRegression\n",
    "import pandas as pd\n",
    "\n",
    "# Load the train and test data\n",
    "X_train = pd.read_csv('X_train.csv')\n",
    "X_test = pd.read_csv('X_test.csv')\n",
    "y_train = pd.read_csv('y_train.csv').values.ravel()\n",
    "y_test = pd.read_csv('y_test.csv').values.ravel()\n",
    "\n",
    "# Best hyperparameters from Optuna\n",
    "best_params = study.best_params\n",
    "\n",
    "# Define the optimized base models\n",
    "clf1 = RandomForestClassifier(\n",
    "    n_estimators=best_params[\"rf_n_estimators\"],\n",
    "    max_depth=best_params[\"rf_max_depth\"],\n",
    "    random_state=42\n",
    ")\n",
    "\n",
    "clf2 = xgb.XGBClassifier(\n",
    "    n_estimators=best_params[\"xgb_n_estimators\"],\n",
    "    max_depth=best_params[\"xgb_max_depth\"],\n",
    "    learning_rate=best_params[\"xgb_learning_rate\"],\n",
    "    random_state=42\n",
    ")\n",
    "\n",
    "# Define the stacking classifier\n",
    "stack_model = StackingClassifier(\n",
    "    estimators=[('rf', clf1), ('xgb', clf2)],\n",
    "    final_estimator=LogisticRegression(),\n",
    "    cv=5\n",
    ")\n",
    "\n",
    "# Train the stacking model\n",
    "stack_model.fit(X_train, y_train)\n",
    "\n",
    "# Make predictions\n",
    "y_pred = stack_model.predict(X_test)\n",
    "\n",
    "# Evaluate the model\n",
    "accuracy = accuracy_score(y_test, y_pred)\n",
    "print(f\"Accuracy: {accuracy:.4f}\")\n",
    "print(\"Classification Report:\\n\", classification_report(y_test, y_pred))\n"
   ]
  },
  {
   "cell_type": "markdown",
   "metadata": {},
   "source": [
    "feature importance"
   ]
  },
  {
   "cell_type": "code",
   "execution_count": 35,
   "metadata": {},
   "outputs": [
    {
     "data": {
      "image/png": "[encoded data removed]",
      "text/plain": [
       "<Figure size 1000x600 with 1 Axes>"
      ]
     },
     "metadata": {},
     "output_type": "display_data"
    }
   ],
   "source": [
    "import matplotlib.pyplot as plt\n",
    "import numpy as np\n",
    "import pandas as pd\n",
    "import xgboost as xgb\n",
    "\n",
    "# Load train dataset\n",
    "X_train = pd.read_csv('X_train.csv')\n",
    "y_train = pd.read_csv('y_train.csv').values.ravel()\n",
    "\n",
    "# Train an independent XGBoost model to check feature importance\n",
    "xgb_model = xgb.XGBClassifier(\n",
    "    n_estimators=study.best_params[\"xgb_n_estimators\"],\n",
    "    max_depth=study.best_params[\"xgb_max_depth\"],\n",
    "    learning_rate=study.best_params[\"xgb_learning_rate\"],\n",
    "    random_state=42\n",
    ")\n",
    "\n",
    "xgb_model.fit(X_train, y_train)  # Train the model\n",
    "\n",
    "# Get feature importance\n",
    "feature_importance = xgb_model.feature_importances_\n",
    "\n",
    "# Sort and plot top features\n",
    "sorted_idx = np.argsort(feature_importance)[::-1]\n",
    "plt.figure(figsize=(10, 6))\n",
    "plt.barh(X_train.columns[sorted_idx][:10], feature_importance[sorted_idx][:10])\n",
    "plt.xlabel(\"Feature Importance\")\n",
    "plt.ylabel(\"Features\")\n",
    "plt.title(\"Top 10 Most Important Features (XGBoost)\")\n",
    "plt.gca().invert_yaxis()  # Invert y-axis to show most important at the top\n",
    "plt.show()\n"
   ]
  },
  {
   "cell_type": "code",
   "execution_count": 36,
   "metadata": {},
   "outputs": [
    {
     "name": "stdout",
     "output_type": "stream",
     "text": [
      "New Accuracy: 1.0000\n",
      "Updated Classification Report:\n",
      "               precision    recall  f1-score   support\n",
      "\n",
      "           0       1.00      1.00      1.00       755\n",
      "           1       1.00      1.00      1.00       755\n",
      "\n",
      "    accuracy                           1.00      1510\n",
      "   macro avg       1.00      1.00      1.00      1510\n",
      "weighted avg       1.00      1.00      1.00      1510\n",
      "\n"
     ]
    }
   ],
   "source": [
    "# Drop 'carType' from features\n",
    "X_train = X_train.drop(columns=['carType'])\n",
    "X_test = X_test.drop(columns=['carType'])\n",
    "\n",
    "# Retrain the stacking model\n",
    "stack_model.fit(X_train, y_train)\n",
    "\n",
    "# Make new predictions\n",
    "y_pred = stack_model.predict(X_test)\n",
    "\n",
    "# Evaluate the model again\n",
    "accuracy = accuracy_score(y_test, y_pred)\n",
    "print(f\"New Accuracy: {accuracy:.4f}\")\n",
    "print(\"Updated Classification Report:\\n\", classification_report(y_test, y_pred))\n"
   ]
  },
  {
   "cell_type": "code",
   "execution_count": 37,
   "metadata": {},
   "outputs": [
    {
     "data": {
      "image/png": "[encoded data removed]",
      "text/plain": [
       "<Figure size 1000x600 with 1 Axes>"
      ]
     },
     "metadata": {},
     "output_type": "display_data"
    }
   ],
   "source": [
    "import matplotlib.pyplot as plt\n",
    "import numpy as np\n",
    "\n",
    "# Train a new XGBoost model on the modified dataset\n",
    "xgb_model.fit(X_train, y_train)\n",
    "\n",
    "# Get new feature importance\n",
    "feature_importance = xgb_model.feature_importances_\n",
    "\n",
    "# Sort and plot top features\n",
    "sorted_idx = np.argsort(feature_importance)[::-1]\n",
    "plt.figure(figsize=(10, 6))\n",
    "plt.barh(X_train.columns[sorted_idx][:10], feature_importance[sorted_idx][:10])\n",
    "plt.xlabel(\"Feature Importance\")\n",
    "plt.ylabel(\"Features\")\n",
    "plt.title(\"Updated Top 10 Most Important Features (XGBoost)\")\n",
    "plt.gca().invert_yaxis()\n",
    "plt.show()\n"
   ]
  },
  {
   "cell_type": "code",
   "execution_count": 38,
   "metadata": {},
   "outputs": [
    {
     "name": "stdout",
     "output_type": "stream",
     "text": [
      "New Accuracy: 1.0000\n",
      "Updated Classification Report:\n",
      "               precision    recall  f1-score   support\n",
      "\n",
      "           0       1.00      1.00      1.00       755\n",
      "           1       1.00      1.00      1.00       755\n",
      "\n",
      "    accuracy                           1.00      1510\n",
      "   macro avg       1.00      1.00      1.00      1510\n",
      "weighted avg       1.00      1.00      1.00      1510\n",
      "\n"
     ]
    }
   ],
   "source": [
    "# Drop 'rentalAgency' from features\n",
    "X_train = X_train.drop(columns=['rentalAgency'])\n",
    "X_test = X_test.drop(columns=['rentalAgency'])\n",
    "\n",
    "# Retrain the stacking model\n",
    "stack_model.fit(X_train, y_train)\n",
    "\n",
    "# Make new predictions\n",
    "y_pred = stack_model.predict(X_test)\n",
    "\n",
    "# Evaluate the model again\n",
    "accuracy = accuracy_score(y_test, y_pred)\n",
    "print(f\"New Accuracy: {accuracy:.4f}\")\n",
    "print(\"Updated Classification Report:\\n\", classification_report(y_test, y_pred))\n"
   ]
  },
  {
   "cell_type": "code",
   "execution_count": 39,
   "metadata": {},
   "outputs": [
    {
     "name": "stdout",
     "output_type": "stream",
     "text": [
      "Top correlated features with car_rental_status:\n",
      "\n",
      "fuelPolicy           0.868990\n",
      "Car_bookingStatus    0.865655\n",
      "carType              0.841107\n",
      "rentalAgency         0.833407\n",
      "dropoffLocation      0.776472\n",
      "pickupLocation       0.775344\n",
      "total_rent_price     0.132728\n",
      "Flight_agency        0.018599\n",
      "Hotel_stay           0.017180\n",
      "Hotel_TotalPrice     0.015256\n",
      "Name: car_rental_status, dtype: float64\n"
     ]
    }
   ],
   "source": [
    "import pandas as pd\n",
    "\n",
    "# Check correlation with the target variable\n",
    "correlation = df_balanced.corr()['car_rental_status'].abs().sort_values(ascending=False)\n",
    "\n",
    "# Display the top correlated features (excluding car_rental_status itself)\n",
    "print(\"Top correlated features with car_rental_status:\\n\")\n",
    "print(correlation.drop('car_rental_status').head(10))\n"
   ]
  },
  {
   "cell_type": "code",
   "execution_count": 40,
   "metadata": {},
   "outputs": [
    {
     "name": "stdout",
     "output_type": "stream",
     "text": [
      "New Training Data Shape: (6036, 17)\n",
      "New Testing Data Shape: (1510, 17)\n"
     ]
    }
   ],
   "source": [
    "# Drop leakage features\n",
    "leakage_features = ['fuelPolicy', 'Car_bookingStatus', 'carType', 'rentalAgency', 'dropoffLocation', 'pickupLocation']\n",
    "df_balanced_cleaned = df_balanced.drop(columns=leakage_features)\n",
    "\n",
    "# Define new X and y\n",
    "X_cleaned = df_balanced_cleaned.drop(columns=['car_rental_status'])\n",
    "y_cleaned = df_balanced_cleaned['car_rental_status']\n",
    "\n",
    "# Split into train & test sets\n",
    "from sklearn.model_selection import train_test_split\n",
    "X_train, X_test, y_train, y_test = train_test_split(X_cleaned, y_cleaned, test_size=0.2, random_state=42, stratify=y_cleaned)\n",
    "\n",
    "# Print new shape\n",
    "print(\"New Training Data Shape:\", X_train.shape)\n",
    "print(\"New Testing Data Shape:\", X_test.shape)\n"
   ]
  },
  {
   "cell_type": "code",
   "execution_count": 43,
   "metadata": {},
   "outputs": [
    {
     "name": "stdout",
     "output_type": "stream",
     "text": [
      "New Accuracy: 1.0000\n",
      "Updated Classification Report:\n",
      "              precision    recall  f1-score   support\n",
      "\n",
      "           0       1.00      1.00      1.00       755\n",
      "           1       1.00      1.00      1.00       755\n",
      "\n",
      "    accuracy                           1.00      1510\n",
      "   macro avg       1.00      1.00      1.00      1510\n",
      "weighted avg       1.00      1.00      1.00      1510\n",
      "\n"
     ]
    }
   ],
   "source": [
    "# Train the stacking model\n",
    "stack_model.fit(X_train, y_train)\n",
    "\n",
    "# Predict on test set\n",
    "y_pred = stack_model.predict(X_test)\n",
    "\n",
    "# Evaluate performance\n",
    "from sklearn.metrics import accuracy_score, classification_report\n",
    "\n",
    "accuracy = accuracy_score(y_test, y_pred)\n",
    "print(f\"New Accuracy: {accuracy:.4f}\")\n",
    "\n",
    "print(\"Updated Classification Report:\")\n",
    "print(classification_report(y_test, y_pred))\n"
   ]
  },
  {
   "cell_type": "code",
   "execution_count": 46,
   "metadata": {},
   "outputs": [
    {
     "ename": "KeyError",
     "evalue": "\"['Car_bookingStatus', 'fuelPolicy', 'carType', 'rentalAgency', 'dropoffLocation', 'pickupLocation'] not found in axis\"",
     "output_type": "error",
     "traceback": [
      "\u001b[1;31m---------------------------------------------------------------------------\u001b[0m",
      "\u001b[1;31mKeyError\u001b[0m                                  Traceback (most recent call last)",
      "Cell \u001b[1;32mIn[46], line 4\u001b[0m\n\u001b[0;32m      1\u001b[0m \u001b[38;5;66;03m# Remove highly correlated features\u001b[39;00m\n\u001b[0;32m      2\u001b[0m high_corr_features \u001b[38;5;241m=\u001b[39m [\u001b[38;5;124m\"\u001b[39m\u001b[38;5;124mCar_bookingStatus\u001b[39m\u001b[38;5;124m\"\u001b[39m, \u001b[38;5;124m\"\u001b[39m\u001b[38;5;124mfuelPolicy\u001b[39m\u001b[38;5;124m\"\u001b[39m, \u001b[38;5;124m\"\u001b[39m\u001b[38;5;124mcarType\u001b[39m\u001b[38;5;124m\"\u001b[39m, \u001b[38;5;124m\"\u001b[39m\u001b[38;5;124mrentalAgency\u001b[39m\u001b[38;5;124m\"\u001b[39m, \u001b[38;5;124m\"\u001b[39m\u001b[38;5;124mdropoffLocation\u001b[39m\u001b[38;5;124m\"\u001b[39m, \u001b[38;5;124m\"\u001b[39m\u001b[38;5;124mpickupLocation\u001b[39m\u001b[38;5;124m\"\u001b[39m]\n\u001b[1;32m----> 4\u001b[0m X_train_filtered \u001b[38;5;241m=\u001b[39m \u001b[43mX_train\u001b[49m\u001b[38;5;241;43m.\u001b[39;49m\u001b[43mdrop\u001b[49m\u001b[43m(\u001b[49m\u001b[43mcolumns\u001b[49m\u001b[38;5;241;43m=\u001b[39;49m\u001b[43mhigh_corr_features\u001b[49m\u001b[43m)\u001b[49m\n\u001b[0;32m      5\u001b[0m X_test_filtered \u001b[38;5;241m=\u001b[39m X_test\u001b[38;5;241m.\u001b[39mdrop(columns\u001b[38;5;241m=\u001b[39mhigh_corr_features)\n\u001b[0;32m      7\u001b[0m \u001b[38;5;66;03m# Retrain the model\u001b[39;00m\n",
      "File \u001b[1;32md:\\Make_my_trip\\Recommendation\\recomm\\Lib\\site-packages\\pandas\\core\\frame.py:5581\u001b[0m, in \u001b[0;36mDataFrame.drop\u001b[1;34m(self, labels, axis, index, columns, level, inplace, errors)\u001b[0m\n\u001b[0;32m   5433\u001b[0m \u001b[38;5;28;01mdef\u001b[39;00m\u001b[38;5;250m \u001b[39m\u001b[38;5;21mdrop\u001b[39m(\n\u001b[0;32m   5434\u001b[0m     \u001b[38;5;28mself\u001b[39m,\n\u001b[0;32m   5435\u001b[0m     labels: IndexLabel \u001b[38;5;241m|\u001b[39m \u001b[38;5;28;01mNone\u001b[39;00m \u001b[38;5;241m=\u001b[39m \u001b[38;5;28;01mNone\u001b[39;00m,\n\u001b[1;32m   (...)\u001b[0m\n\u001b[0;32m   5442\u001b[0m     errors: IgnoreRaise \u001b[38;5;241m=\u001b[39m \u001b[38;5;124m\"\u001b[39m\u001b[38;5;124mraise\u001b[39m\u001b[38;5;124m\"\u001b[39m,\n\u001b[0;32m   5443\u001b[0m ) \u001b[38;5;241m-\u001b[39m\u001b[38;5;241m>\u001b[39m DataFrame \u001b[38;5;241m|\u001b[39m \u001b[38;5;28;01mNone\u001b[39;00m:\n\u001b[0;32m   5444\u001b[0m \u001b[38;5;250m    \u001b[39m\u001b[38;5;124;03m\"\"\"\u001b[39;00m\n\u001b[0;32m   5445\u001b[0m \u001b[38;5;124;03m    Drop specified labels from rows or columns.\u001b[39;00m\n\u001b[0;32m   5446\u001b[0m \n\u001b[1;32m   (...)\u001b[0m\n\u001b[0;32m   5579\u001b[0m \u001b[38;5;124;03m            weight  1.0     0.8\u001b[39;00m\n\u001b[0;32m   5580\u001b[0m \u001b[38;5;124;03m    \"\"\"\u001b[39;00m\n\u001b[1;32m-> 5581\u001b[0m     \u001b[38;5;28;01mreturn\u001b[39;00m \u001b[38;5;28;43msuper\u001b[39;49m\u001b[43m(\u001b[49m\u001b[43m)\u001b[49m\u001b[38;5;241;43m.\u001b[39;49m\u001b[43mdrop\u001b[49m\u001b[43m(\u001b[49m\n\u001b[0;32m   5582\u001b[0m \u001b[43m        \u001b[49m\u001b[43mlabels\u001b[49m\u001b[38;5;241;43m=\u001b[39;49m\u001b[43mlabels\u001b[49m\u001b[43m,\u001b[49m\n\u001b[0;32m   5583\u001b[0m \u001b[43m        \u001b[49m\u001b[43maxis\u001b[49m\u001b[38;5;241;43m=\u001b[39;49m\u001b[43maxis\u001b[49m\u001b[43m,\u001b[49m\n\u001b[0;32m   5584\u001b[0m \u001b[43m        \u001b[49m\u001b[43mindex\u001b[49m\u001b[38;5;241;43m=\u001b[39;49m\u001b[43mindex\u001b[49m\u001b[43m,\u001b[49m\n\u001b[0;32m   5585\u001b[0m \u001b[43m        \u001b[49m\u001b[43mcolumns\u001b[49m\u001b[38;5;241;43m=\u001b[39;49m\u001b[43mcolumns\u001b[49m\u001b[43m,\u001b[49m\n\u001b[0;32m   5586\u001b[0m \u001b[43m        \u001b[49m\u001b[43mlevel\u001b[49m\u001b[38;5;241;43m=\u001b[39;49m\u001b[43mlevel\u001b[49m\u001b[43m,\u001b[49m\n\u001b[0;32m   5587\u001b[0m \u001b[43m        \u001b[49m\u001b[43minplace\u001b[49m\u001b[38;5;241;43m=\u001b[39;49m\u001b[43minplace\u001b[49m\u001b[43m,\u001b[49m\n\u001b[0;32m   5588\u001b[0m \u001b[43m        \u001b[49m\u001b[43merrors\u001b[49m\u001b[38;5;241;43m=\u001b[39;49m\u001b[43merrors\u001b[49m\u001b[43m,\u001b[49m\n\u001b[0;32m   5589\u001b[0m \u001b[43m    \u001b[49m\u001b[43m)\u001b[49m\n",
      "File \u001b[1;32md:\\Make_my_trip\\Recommendation\\recomm\\Lib\\site-packages\\pandas\\core\\generic.py:4788\u001b[0m, in \u001b[0;36mNDFrame.drop\u001b[1;34m(self, labels, axis, index, columns, level, inplace, errors)\u001b[0m\n\u001b[0;32m   4786\u001b[0m \u001b[38;5;28;01mfor\u001b[39;00m axis, labels \u001b[38;5;129;01min\u001b[39;00m axes\u001b[38;5;241m.\u001b[39mitems():\n\u001b[0;32m   4787\u001b[0m     \u001b[38;5;28;01mif\u001b[39;00m labels \u001b[38;5;129;01mis\u001b[39;00m \u001b[38;5;129;01mnot\u001b[39;00m \u001b[38;5;28;01mNone\u001b[39;00m:\n\u001b[1;32m-> 4788\u001b[0m         obj \u001b[38;5;241m=\u001b[39m \u001b[43mobj\u001b[49m\u001b[38;5;241;43m.\u001b[39;49m\u001b[43m_drop_axis\u001b[49m\u001b[43m(\u001b[49m\u001b[43mlabels\u001b[49m\u001b[43m,\u001b[49m\u001b[43m \u001b[49m\u001b[43maxis\u001b[49m\u001b[43m,\u001b[49m\u001b[43m \u001b[49m\u001b[43mlevel\u001b[49m\u001b[38;5;241;43m=\u001b[39;49m\u001b[43mlevel\u001b[49m\u001b[43m,\u001b[49m\u001b[43m \u001b[49m\u001b[43merrors\u001b[49m\u001b[38;5;241;43m=\u001b[39;49m\u001b[43merrors\u001b[49m\u001b[43m)\u001b[49m\n\u001b[0;32m   4790\u001b[0m \u001b[38;5;28;01mif\u001b[39;00m inplace:\n\u001b[0;32m   4791\u001b[0m     \u001b[38;5;28mself\u001b[39m\u001b[38;5;241m.\u001b[39m_update_inplace(obj)\n",
      "File \u001b[1;32md:\\Make_my_trip\\Recommendation\\recomm\\Lib\\site-packages\\pandas\\core\\generic.py:4830\u001b[0m, in \u001b[0;36mNDFrame._drop_axis\u001b[1;34m(self, labels, axis, level, errors, only_slice)\u001b[0m\n\u001b[0;32m   4828\u001b[0m         new_axis \u001b[38;5;241m=\u001b[39m axis\u001b[38;5;241m.\u001b[39mdrop(labels, level\u001b[38;5;241m=\u001b[39mlevel, errors\u001b[38;5;241m=\u001b[39merrors)\n\u001b[0;32m   4829\u001b[0m     \u001b[38;5;28;01melse\u001b[39;00m:\n\u001b[1;32m-> 4830\u001b[0m         new_axis \u001b[38;5;241m=\u001b[39m \u001b[43maxis\u001b[49m\u001b[38;5;241;43m.\u001b[39;49m\u001b[43mdrop\u001b[49m\u001b[43m(\u001b[49m\u001b[43mlabels\u001b[49m\u001b[43m,\u001b[49m\u001b[43m \u001b[49m\u001b[43merrors\u001b[49m\u001b[38;5;241;43m=\u001b[39;49m\u001b[43merrors\u001b[49m\u001b[43m)\u001b[49m\n\u001b[0;32m   4831\u001b[0m     indexer \u001b[38;5;241m=\u001b[39m axis\u001b[38;5;241m.\u001b[39mget_indexer(new_axis)\n\u001b[0;32m   4833\u001b[0m \u001b[38;5;66;03m# Case for non-unique axis\u001b[39;00m\n\u001b[0;32m   4834\u001b[0m \u001b[38;5;28;01melse\u001b[39;00m:\n",
      "File \u001b[1;32md:\\Make_my_trip\\Recommendation\\recomm\\Lib\\site-packages\\pandas\\core\\indexes\\base.py:7070\u001b[0m, in \u001b[0;36mIndex.drop\u001b[1;34m(self, labels, errors)\u001b[0m\n\u001b[0;32m   7068\u001b[0m \u001b[38;5;28;01mif\u001b[39;00m mask\u001b[38;5;241m.\u001b[39many():\n\u001b[0;32m   7069\u001b[0m     \u001b[38;5;28;01mif\u001b[39;00m errors \u001b[38;5;241m!=\u001b[39m \u001b[38;5;124m\"\u001b[39m\u001b[38;5;124mignore\u001b[39m\u001b[38;5;124m\"\u001b[39m:\n\u001b[1;32m-> 7070\u001b[0m         \u001b[38;5;28;01mraise\u001b[39;00m \u001b[38;5;167;01mKeyError\u001b[39;00m(\u001b[38;5;124mf\u001b[39m\u001b[38;5;124m\"\u001b[39m\u001b[38;5;132;01m{\u001b[39;00mlabels[mask]\u001b[38;5;241m.\u001b[39mtolist()\u001b[38;5;132;01m}\u001b[39;00m\u001b[38;5;124m not found in axis\u001b[39m\u001b[38;5;124m\"\u001b[39m)\n\u001b[0;32m   7071\u001b[0m     indexer \u001b[38;5;241m=\u001b[39m indexer[\u001b[38;5;241m~\u001b[39mmask]\n\u001b[0;32m   7072\u001b[0m \u001b[38;5;28;01mreturn\u001b[39;00m \u001b[38;5;28mself\u001b[39m\u001b[38;5;241m.\u001b[39mdelete(indexer)\n",
      "\u001b[1;31mKeyError\u001b[0m: \"['Car_bookingStatus', 'fuelPolicy', 'carType', 'rentalAgency', 'dropoffLocation', 'pickupLocation'] not found in axis\""
     ]
    }
   ],
   "source": [
    "# Remove highly correlated features\n",
    "high_corr_features = [\"Car_bookingStatus\", \"fuelPolicy\", \"carType\", \"rentalAgency\", \"dropoffLocation\", \"pickupLocation\"]\n",
    "\n",
    "X_train_filtered = X_train.drop(columns=high_corr_features)\n",
    "X_test_filtered = X_test.drop(columns=high_corr_features)\n",
    "\n",
    "# Retrain the model\n",
    "stacking_model.fit(X_train_filtered, y_train)\n",
    "y_pred_filtered = stacking_model.predict(X_test_filtered)\n",
    "\n",
    "# Evaluate again\n",
    "accuracy_filtered = accuracy_score(y_test, y_pred_filtered)\n",
    "print(f\"New Accuracy after Fix: {accuracy_filtered:.4f}\")\n",
    "print(\"Updated Classification Report:\")\n",
    "print(classification_report(y_test, y_pred_filtered))\n"
   ]
  },
  {
   "cell_type": "code",
   "execution_count": 45,
   "metadata": {},
   "outputs": [
    {
     "ename": "NameError",
     "evalue": "name 'X_train_filtered' is not defined",
     "output_type": "error",
     "traceback": [
      "\u001b[1;31m---------------------------------------------------------------------------\u001b[0m",
      "\u001b[1;31mNameError\u001b[0m                                 Traceback (most recent call last)",
      "Cell \u001b[1;32mIn[45], line 4\u001b[0m\n\u001b[0;32m      1\u001b[0m \u001b[38;5;28;01mfrom\u001b[39;00m\u001b[38;5;250m \u001b[39m\u001b[38;5;21;01msklearn\u001b[39;00m\u001b[38;5;21;01m.\u001b[39;00m\u001b[38;5;21;01mmodel_selection\u001b[39;00m\u001b[38;5;250m \u001b[39m\u001b[38;5;28;01mimport\u001b[39;00m cross_val_score, StratifiedKFold\n\u001b[0;32m      3\u001b[0m cv \u001b[38;5;241m=\u001b[39m StratifiedKFold(n_splits\u001b[38;5;241m=\u001b[39m\u001b[38;5;241m5\u001b[39m, shuffle\u001b[38;5;241m=\u001b[39m\u001b[38;5;28;01mTrue\u001b[39;00m, random_state\u001b[38;5;241m=\u001b[39m\u001b[38;5;241m42\u001b[39m)\n\u001b[1;32m----> 4\u001b[0m cv_scores \u001b[38;5;241m=\u001b[39m cross_val_score(stack_model, \u001b[43mX_train_filtered\u001b[49m, y_train, cv\u001b[38;5;241m=\u001b[39mcv, scoring\u001b[38;5;241m=\u001b[39m\u001b[38;5;124m\"\u001b[39m\u001b[38;5;124maccuracy\u001b[39m\u001b[38;5;124m\"\u001b[39m)\n\u001b[0;32m      6\u001b[0m \u001b[38;5;28mprint\u001b[39m(\u001b[38;5;124mf\u001b[39m\u001b[38;5;124m\"\u001b[39m\u001b[38;5;124mCross-validation Accuracy: \u001b[39m\u001b[38;5;132;01m{\u001b[39;00mcv_scores\u001b[38;5;241m.\u001b[39mmean()\u001b[38;5;132;01m:\u001b[39;00m\u001b[38;5;124m.4f\u001b[39m\u001b[38;5;132;01m}\u001b[39;00m\u001b[38;5;124m ± \u001b[39m\u001b[38;5;132;01m{\u001b[39;00mcv_scores\u001b[38;5;241m.\u001b[39mstd()\u001b[38;5;132;01m:\u001b[39;00m\u001b[38;5;124m.4f\u001b[39m\u001b[38;5;132;01m}\u001b[39;00m\u001b[38;5;124m\"\u001b[39m)\n",
      "\u001b[1;31mNameError\u001b[0m: name 'X_train_filtered' is not defined"
     ]
    }
   ],
   "source": [
    "from sklearn.model_selection import cross_val_score, StratifiedKFold\n",
    "\n",
    "cv = StratifiedKFold(n_splits=5, shuffle=True, random_state=42)\n",
    "cv_scores = cross_val_score(stack_model, X_train_filtered, y_train, cv=cv, scoring=\"accuracy\")\n",
    "\n",
    "print(f\"Cross-validation Accuracy: {cv_scores.mean():.4f} ± {cv_scores.std():.4f}\")\n"
   ]
  },
  {
   "cell_type": "markdown",
   "metadata": {},
   "source": [
    "Creating the Dataset for Car Recommendation"
   ]
  },
  {
   "cell_type": "code",
   "execution_count": 14,
   "metadata": {},
   "outputs": [
    {
     "name": "stdout",
     "output_type": "stream",
     "text": [
      "   travelCode  User_ID      Departure             Arrival  flightType  \\\n",
      "0           0        0    Recife (PE)  Florianopolis (SC)  firstClass   \n",
      "1           2        0   Aracaju (SE)       Salvador (BH)  firstClass   \n",
      "2           7        0   Aracaju (SE)       Salvador (BH)    economic   \n",
      "3          11        0  Brasilia (DF)       Salvador (BH)     premium   \n",
      "4          13        0    Recife (PE)  Florianopolis (SC)  firstClass   \n",
      "\n",
      "   Flight_price  Flight_duration  Flight_Distance Flight_agency  \\\n",
      "0       1434.38             1.76           676.53   FlyingDrops   \n",
      "1       1684.05             2.16           830.86       CloudFy   \n",
      "2        964.83             2.16           830.86       CloudFy   \n",
      "3       1268.97             1.76           676.56       Rainbow   \n",
      "4       1434.38             1.76           676.53   FlyingDrops   \n",
      "\n",
      "  Departure_date  ... Hotel_stay Hotel_per_day_price   Check_in  \\\n",
      "0     2019-09-26  ...          4              313.02 2019-09-26   \n",
      "1     2019-10-10  ...          2              263.41 2019-10-10   \n",
      "2     2019-11-14  ...          3              263.41 2019-11-14   \n",
      "3     2019-12-12  ...          4              263.41 2019-12-12   \n",
      "4     2019-12-26  ...          1              313.02 2019-12-26   \n",
      "\n",
      "   Hotel_TotalPrice pickupLocation  dropoffLocation rentalAgency  \\\n",
      "0           1252.08            NaN              NaN          NaN   \n",
      "1            526.82            NaN              NaN          NaN   \n",
      "2            790.23            NaN              NaN          NaN   \n",
      "3           1053.64            NaN              NaN          NaN   \n",
      "4            313.02            NaN              NaN          NaN   \n",
      "\n",
      "  rentalDuration fuelPolicy  total_rent_price  \n",
      "0            NaN        NaN               NaN  \n",
      "1            NaN        NaN               NaN  \n",
      "2            NaN        NaN               NaN  \n",
      "3            NaN        NaN               NaN  \n",
      "4            NaN        NaN               NaN  \n",
      "\n",
      "[5 rows x 22 columns]\n",
      "Total records in recommendation dataset: 36779\n"
     ]
    }
   ],
   "source": [
    "# Create a dataset with only users who did NOT book a car\n",
    "df_recommendation = df[df['car_rental_status'] == 0].copy()\n",
    "\n",
    "# Drop car-related columns to simulate a user needing a recommendation\n",
    "car_related_cols = [col for col in df_recommendation.columns if 'car' in col.lower()]\n",
    "df_recommendation.drop(columns=car_related_cols, inplace=True, errors='ignore')\n",
    "\n",
    "# Display the first few rows\n",
    "print(df_recommendation.head())\n",
    "print(f\"Total records in recommendation dataset: {len(df_recommendation)}\")\n"
   ]
  },
  {
   "cell_type": "code",
   "execution_count": 15,
   "metadata": {},
   "outputs": [
    {
     "name": "stdout",
     "output_type": "stream",
     "text": [
      "Columns after dropping unnecessary ones in df_balanced:\n",
      "Index(['Departure', 'Arrival', 'flightType', 'Flight_price', 'Flight_duration',\n",
      "       'Flight_Distance', 'Flight_agency', 'Departure_date', 'Hotel_Name',\n",
      "       'Arrival_place', 'Hotel_stay', 'Hotel_per_day_price', 'Check_in',\n",
      "       'Hotel_TotalPrice', 'pickupLocation', 'dropoffLocation', 'carType',\n",
      "       'rentalAgency', 'rentalDuration', 'Car_total_distance', 'fuelPolicy',\n",
      "       'Car_bookingStatus', 'total_rent_price', 'car_rental_status'],\n",
      "      dtype='object')\n"
     ]
    }
   ],
   "source": [
    "# Drop columns that are not useful for prediction in df_balanced\n",
    "df_balanced = df_balanced.drop(columns=['travelCode', 'User_ID'], errors='ignore')\n",
    "\n",
    "# Display updated columns\n",
    "print(\"Columns after dropping unnecessary ones in df_balanced:\")\n",
    "print(df_balanced.columns)\n"
   ]
  },
  {
   "cell_type": "code",
   "execution_count": 16,
   "metadata": {},
   "outputs": [
    {
     "name": "stdout",
     "output_type": "stream",
     "text": [
      "Columns in df_recommendation: Index(['travelCode', 'User_ID', 'Departure', 'Arrival', 'flightType',\n",
      "       'Flight_price', 'Flight_duration', 'Flight_Distance', 'Flight_agency',\n",
      "       'Departure_date', 'Hotel_Name', 'Arrival_place', 'Hotel_stay',\n",
      "       'Hotel_per_day_price', 'Check_in', 'Hotel_TotalPrice', 'pickupLocation',\n",
      "       'dropoffLocation', 'rentalAgency', 'rentalDuration', 'fuelPolicy',\n",
      "       'total_rent_price'],\n",
      "      dtype='object')\n",
      "First few rows of df_recommendation:\n",
      "   travelCode  User_ID      Departure             Arrival  flightType  \\\n",
      "0           0        0    Recife (PE)  Florianopolis (SC)  firstClass   \n",
      "1           2        0   Aracaju (SE)       Salvador (BH)  firstClass   \n",
      "2           7        0   Aracaju (SE)       Salvador (BH)    economic   \n",
      "3          11        0  Brasilia (DF)       Salvador (BH)     premium   \n",
      "4          13        0    Recife (PE)  Florianopolis (SC)  firstClass   \n",
      "\n",
      "   Flight_price  Flight_duration  Flight_Distance Flight_agency  \\\n",
      "0       1434.38             1.76           676.53   FlyingDrops   \n",
      "1       1684.05             2.16           830.86       CloudFy   \n",
      "2        964.83             2.16           830.86       CloudFy   \n",
      "3       1268.97             1.76           676.56       Rainbow   \n",
      "4       1434.38             1.76           676.53   FlyingDrops   \n",
      "\n",
      "  Departure_date  ... Hotel_stay Hotel_per_day_price   Check_in  \\\n",
      "0     2019-09-26  ...          4              313.02 2019-09-26   \n",
      "1     2019-10-10  ...          2              263.41 2019-10-10   \n",
      "2     2019-11-14  ...          3              263.41 2019-11-14   \n",
      "3     2019-12-12  ...          4              263.41 2019-12-12   \n",
      "4     2019-12-26  ...          1              313.02 2019-12-26   \n",
      "\n",
      "   Hotel_TotalPrice pickupLocation  dropoffLocation rentalAgency  \\\n",
      "0           1252.08            NaN              NaN          NaN   \n",
      "1            526.82            NaN              NaN          NaN   \n",
      "2            790.23            NaN              NaN          NaN   \n",
      "3           1053.64            NaN              NaN          NaN   \n",
      "4            313.02            NaN              NaN          NaN   \n",
      "\n",
      "  rentalDuration fuelPolicy  total_rent_price  \n",
      "0            NaN        NaN               NaN  \n",
      "1            NaN        NaN               NaN  \n",
      "2            NaN        NaN               NaN  \n",
      "3            NaN        NaN               NaN  \n",
      "4            NaN        NaN               NaN  \n",
      "\n",
      "[5 rows x 22 columns]\n"
     ]
    }
   ],
   "source": [
    "print(\"Columns in df_recommendation:\", df_recommendation.columns)\n",
    "print(\"First few rows of df_recommendation:\")\n",
    "print(df_recommendation.head())\n"
   ]
  },
  {
   "cell_type": "code",
   "execution_count": 17,
   "metadata": {},
   "outputs": [
    {
     "name": "stdout",
     "output_type": "stream",
     "text": [
      "Shape of df_recommendation: (36779, 23)\n",
      "Columns in df_recommendation: Index(['Departure', 'Arrival', 'flightType', 'Flight_price', 'Flight_duration',\n",
      "       'Flight_Distance', 'Flight_agency', 'Departure_date', 'Hotel_Name',\n",
      "       'Arrival_place', 'Hotel_stay', 'Hotel_per_day_price', 'Check_in',\n",
      "       'Hotel_TotalPrice', 'pickupLocation', 'dropoffLocation', 'carType',\n",
      "       'rentalAgency', 'rentalDuration', 'Car_total_distance', 'fuelPolicy',\n",
      "       'Car_bookingStatus', 'total_rent_price'],\n",
      "      dtype='object')\n"
     ]
    }
   ],
   "source": [
    "# Recreate df_recommendation with users who did NOT book a car\n",
    "df_recommendation = df[df['car_rental_status'] == 0].copy()\n",
    "\n",
    "# Drop the 'car_rental_status' column after filtering\n",
    "df_recommendation.drop(columns=['car_rental_status', 'travelCode', 'User_ID'], inplace=True, errors='ignore')\n",
    "\n",
    "# Verify the shape and columns\n",
    "print(\"Shape of df_recommendation:\", df_recommendation.shape)\n",
    "print(\"Columns in df_recommendation:\", df_recommendation.columns)\n"
   ]
  },
  {
   "cell_type": "code",
   "execution_count": 18,
   "metadata": {},
   "outputs": [
    {
     "name": "stdout",
     "output_type": "stream",
     "text": [
      "Shape of df_recommendation after dropping car-related columns: (36779, 20)\n",
      "Columns in df_recommendation: Index(['Departure', 'Arrival', 'flightType', 'Flight_price', 'Flight_duration',\n",
      "       'Flight_Distance', 'Flight_agency', 'Departure_date', 'Hotel_Name',\n",
      "       'Arrival_place', 'Hotel_stay', 'Hotel_per_day_price', 'Check_in',\n",
      "       'Hotel_TotalPrice', 'pickupLocation', 'dropoffLocation', 'rentalAgency',\n",
      "       'rentalDuration', 'fuelPolicy', 'total_rent_price'],\n",
      "      dtype='object')\n"
     ]
    }
   ],
   "source": [
    "# Drop car-related columns\n",
    "car_related_cols = ['carType', 'Car_total_distance', 'Car_bookingStatus']\n",
    "df_recommendation.drop(columns=car_related_cols, inplace=True, errors='ignore')\n",
    "\n",
    "# Verify changes\n",
    "print(\"Shape of df_recommendation after dropping car-related columns:\", df_recommendation.shape)\n",
    "print(\"Columns in df_recommendation:\", df_recommendation.columns)\n"
   ]
  },
  {
   "cell_type": "markdown",
   "metadata": {},
   "source": [
    "Feature Engineering"
   ]
  },
  {
   "cell_type": "code",
   "execution_count": 19,
   "metadata": {},
   "outputs": [
    {
     "name": "stdout",
     "output_type": "stream",
     "text": [
      "Categorical columns after encoding: ['Departure', 'Arrival', 'flightType', 'Flight_agency', 'Hotel_Name', 'Arrival_place', 'pickupLocation', 'dropoffLocation', 'rentalAgency', 'fuelPolicy']\n",
      "Sample data:\n",
      "    Departure  Arrival  flightType  Flight_price  Flight_duration  \\\n",
      "0          5        3           1       1434.38             1.76   \n",
      "1          0        7           1       1684.05             2.16   \n",
      "2          0        7           0        964.83             2.16   \n",
      "3          1        7           2       1268.97             1.76   \n",
      "4          5        3           1       1434.38             1.76   \n",
      "\n",
      "   Flight_Distance  Flight_agency Departure_date  Hotel_Name  Arrival_place  \\\n",
      "0           676.53              1     2019-09-26           0              3   \n",
      "1           830.86              0     2019-10-10           7              7   \n",
      "2           830.86              0     2019-11-14           7              7   \n",
      "3           676.56              2     2019-12-12           7              7   \n",
      "4           676.53              1     2019-12-26           0              3   \n",
      "\n",
      "   Hotel_stay  Hotel_per_day_price   Check_in  Hotel_TotalPrice  \\\n",
      "0           4               313.02 2019-09-26           1252.08   \n",
      "1           2               263.41 2019-10-10            526.82   \n",
      "2           3               263.41 2019-11-14            790.23   \n",
      "3           4               263.41 2019-12-12           1053.64   \n",
      "4           1               313.02 2019-12-26            313.02   \n",
      "\n",
      "   pickupLocation  dropoffLocation  rentalAgency  rentalDuration  fuelPolicy  \\\n",
      "0               0                0             0             NaN           0   \n",
      "1               0                0             0             NaN           0   \n",
      "2               0                0             0             NaN           0   \n",
      "3               0                0             0             NaN           0   \n",
      "4               0                0             0             NaN           0   \n",
      "\n",
      "   total_rent_price  \n",
      "0               NaN  \n",
      "1               NaN  \n",
      "2               NaN  \n",
      "3               NaN  \n",
      "4               NaN  \n"
     ]
    }
   ],
   "source": [
    "from sklearn.preprocessing import LabelEncoder\n",
    "\n",
    "# Identify categorical columns (excluding the target variable)\n",
    "categorical_cols = df_recommendation.select_dtypes(include=['object']).columns.tolist()\n",
    "\n",
    "# Apply Label Encoding to categorical columns\n",
    "label_encoders = {}\n",
    "for col in categorical_cols:\n",
    "    le = LabelEncoder()\n",
    "    df_recommendation[col] = le.fit_transform(df_recommendation[col])\n",
    "    label_encoders[col] = le  # Store encoders for later use\n",
    "\n",
    "# Verify changes\n",
    "print(\"Categorical columns after encoding:\", categorical_cols)\n",
    "print(\"Sample data:\\n\", df_recommendation.head())\n"
   ]
  },
  {
   "cell_type": "markdown",
   "metadata": {},
   "source": [
    "Handling Missing Values"
   ]
  },
  {
   "cell_type": "code",
   "execution_count": 20,
   "metadata": {},
   "outputs": [
    {
     "name": "stdout",
     "output_type": "stream",
     "text": [
      "Missing values after filling:\n",
      " Departure              0\n",
      "Arrival                0\n",
      "flightType             0\n",
      "Flight_price           0\n",
      "Flight_duration        0\n",
      "Flight_Distance        0\n",
      "Flight_agency          0\n",
      "Departure_date         0\n",
      "Hotel_Name             0\n",
      "Arrival_place          0\n",
      "Hotel_stay             0\n",
      "Hotel_per_day_price    0\n",
      "Check_in               0\n",
      "Hotel_TotalPrice       0\n",
      "pickupLocation         0\n",
      "dropoffLocation        0\n",
      "rentalAgency           0\n",
      "rentalDuration         0\n",
      "fuelPolicy             0\n",
      "total_rent_price       0\n",
      "dtype: int64\n"
     ]
    }
   ],
   "source": [
    "# Fill missing values with 0\n",
    "df_recommendation[['rentalDuration', 'total_rent_price']] = df_recommendation[['rentalDuration', 'total_rent_price']].fillna(0)\n",
    "\n",
    "# Verify that there are no NaN values left\n",
    "print(\"Missing values after filling:\\n\", df_recommendation.isnull().sum())\n"
   ]
  },
  {
   "cell_type": "markdown",
   "metadata": {},
   "source": [
    "Feature Engineering on Date Columns"
   ]
  },
  {
   "cell_type": "code",
   "execution_count": 21,
   "metadata": {},
   "outputs": [
    {
     "name": "stdout",
     "output_type": "stream",
     "text": [
      "   Departure  Arrival  flightType  Flight_price  Flight_duration  \\\n",
      "0          5        3           1       1434.38             1.76   \n",
      "1          0        7           1       1684.05             2.16   \n",
      "2          0        7           0        964.83             2.16   \n",
      "3          1        7           2       1268.97             1.76   \n",
      "4          5        3           1       1434.38             1.76   \n",
      "\n",
      "   Flight_Distance  Flight_agency  Hotel_Name  Arrival_place  Hotel_stay  ...  \\\n",
      "0           676.53              1           0              3           4  ...   \n",
      "1           830.86              0           7              7           2  ...   \n",
      "2           830.86              0           7              7           3  ...   \n",
      "3           676.56              2           7              7           4  ...   \n",
      "4           676.53              1           0              3           1  ...   \n",
      "\n",
      "   fuelPolicy  total_rent_price  Departure_Year  Departure_Month  \\\n",
      "0           0               0.0            2019                9   \n",
      "1           0               0.0            2019               10   \n",
      "2           0               0.0            2019               11   \n",
      "3           0               0.0            2019               12   \n",
      "4           0               0.0            2019               12   \n",
      "\n",
      "   Departure_Day  Departure_Weekday  Checkin_Year  Checkin_Month  Checkin_Day  \\\n",
      "0             26                  3          2019              9           26   \n",
      "1             10                  3          2019             10           10   \n",
      "2             14                  3          2019             11           14   \n",
      "3             12                  3          2019             12           12   \n",
      "4             26                  3          2019             12           26   \n",
      "\n",
      "   Checkin_Weekday  \n",
      "0                3  \n",
      "1                3  \n",
      "2                3  \n",
      "3                3  \n",
      "4                3  \n",
      "\n",
      "[5 rows x 26 columns]\n"
     ]
    }
   ],
   "source": [
    "# Convert date columns to datetime format\n",
    "df_recommendation['Departure_date'] = pd.to_datetime(df_recommendation['Departure_date'])\n",
    "df_recommendation['Check_in'] = pd.to_datetime(df_recommendation['Check_in'])\n",
    "\n",
    "# Extract useful date features\n",
    "df_recommendation['Departure_Year'] = df_recommendation['Departure_date'].dt.year\n",
    "df_recommendation['Departure_Month'] = df_recommendation['Departure_date'].dt.month\n",
    "df_recommendation['Departure_Day'] = df_recommendation['Departure_date'].dt.day\n",
    "df_recommendation['Departure_Weekday'] = df_recommendation['Departure_date'].dt.weekday  # Monday = 0, Sunday = 6\n",
    "\n",
    "df_recommendation['Checkin_Year'] = df_recommendation['Check_in'].dt.year\n",
    "df_recommendation['Checkin_Month'] = df_recommendation['Check_in'].dt.month\n",
    "df_recommendation['Checkin_Day'] = df_recommendation['Check_in'].dt.day\n",
    "df_recommendation['Checkin_Weekday'] = df_recommendation['Check_in'].dt.weekday  # Monday = 0, Sunday = 6\n",
    "\n",
    "# Drop original date columns\n",
    "df_recommendation.drop(columns=['Departure_date', 'Check_in'], inplace=True)\n",
    "\n",
    "# Verify the new features\n",
    "print(df_recommendation.head())\n"
   ]
  },
  {
   "cell_type": "code",
   "execution_count": 22,
   "metadata": {},
   "outputs": [
    {
     "name": "stdout",
     "output_type": "stream",
     "text": [
      "Departure              0\n",
      "Arrival                0\n",
      "flightType             0\n",
      "Flight_price           0\n",
      "Flight_duration        0\n",
      "Flight_Distance        0\n",
      "Flight_agency          0\n",
      "Hotel_Name             0\n",
      "Arrival_place          0\n",
      "Hotel_stay             0\n",
      "Hotel_per_day_price    0\n",
      "Hotel_TotalPrice       0\n",
      "pickupLocation         0\n",
      "dropoffLocation        0\n",
      "rentalAgency           0\n",
      "rentalDuration         0\n",
      "fuelPolicy             0\n",
      "total_rent_price       0\n",
      "Departure_Year         0\n",
      "Departure_Month        0\n",
      "Departure_Day          0\n",
      "Departure_Weekday      0\n",
      "Checkin_Year           0\n",
      "Checkin_Month          0\n",
      "Checkin_Day            0\n",
      "Checkin_Weekday        0\n",
      "dtype: int64\n"
     ]
    }
   ],
   "source": [
    "# Check for missing values\n",
    "print(df_recommendation.isnull().sum())\n"
   ]
  },
  {
   "cell_type": "code",
   "execution_count": 23,
   "metadata": {},
   "outputs": [
    {
     "name": "stdout",
     "output_type": "stream",
     "text": [
      "Train shape: (6036, 23), Test shape: (1510, 23)\n",
      "Target distribution in train:\n",
      "car_rental_status\n",
      "0    3018\n",
      "1    3018\n",
      "Name: count, dtype: int64\n",
      "Target distribution in test:\n",
      "car_rental_status\n",
      "1    755\n",
      "0    755\n",
      "Name: count, dtype: int64\n"
     ]
    }
   ],
   "source": [
    "from sklearn.model_selection import train_test_split\n",
    "\n",
    "# Define features (X) and target (y)\n",
    "X = df_balanced.drop(columns=['car_rental_status'])\n",
    "y = df_balanced['car_rental_status']\n",
    "\n",
    "# Split into train (80%) and test (20%) sets\n",
    "X_train, X_test, y_train, y_test = train_test_split(X, y, test_size=0.2, random_state=42, stratify=y)\n",
    "\n",
    "# Print shapes to verify\n",
    "print(f\"Train shape: {X_train.shape}, Test shape: {X_test.shape}\")\n",
    "print(f\"Target distribution in train:\\n{y_train.value_counts()}\")\n",
    "print(f\"Target distribution in test:\\n{y_test.value_counts()}\")\n"
   ]
  },
  {
   "cell_type": "code",
   "execution_count": 24,
   "metadata": {},
   "outputs": [],
   "source": [
    "# Convert datetime columns into numeric features\n",
    "X_train[\"Departure_Year\"] = X_train[\"Departure_date\"].dt.year\n",
    "X_train[\"Departure_Month\"] = X_train[\"Departure_date\"].dt.month\n",
    "X_train[\"Departure_Day\"] = X_train[\"Departure_date\"].dt.day\n",
    "X_train[\"Departure_Weekday\"] = X_train[\"Departure_date\"].dt.weekday\n",
    "\n",
    "X_train[\"Checkin_Year\"] = X_train[\"Check_in\"].dt.year\n",
    "X_train[\"Checkin_Month\"] = X_train[\"Check_in\"].dt.month\n",
    "X_train[\"Checkin_Day\"] = X_train[\"Check_in\"].dt.day\n",
    "X_train[\"Checkin_Weekday\"] = X_train[\"Check_in\"].dt.weekday\n",
    "\n",
    "X_test[\"Departure_Year\"] = X_test[\"Departure_date\"].dt.year\n",
    "X_test[\"Departure_Month\"] = X_test[\"Departure_date\"].dt.month\n",
    "X_test[\"Departure_Day\"] = X_test[\"Departure_date\"].dt.day\n",
    "X_test[\"Departure_Weekday\"] = X_test[\"Departure_date\"].dt.weekday\n",
    "\n",
    "X_test[\"Checkin_Year\"] = X_test[\"Check_in\"].dt.year\n",
    "X_test[\"Checkin_Month\"] = X_test[\"Check_in\"].dt.month\n",
    "X_test[\"Checkin_Day\"] = X_test[\"Check_in\"].dt.day\n",
    "X_test[\"Checkin_Weekday\"] = X_test[\"Check_in\"].dt.weekday\n",
    "\n",
    "# Drop original datetime columns since they are now converted\n",
    "X_train.drop(columns=[\"Departure_date\", \"Check_in\"], inplace=True)\n",
    "X_test.drop(columns=[\"Departure_date\", \"Check_in\"], inplace=True)\n"
   ]
  },
  {
   "cell_type": "code",
   "execution_count": null,
   "metadata": {},
   "outputs": [],
   "source": [
    "import xgboost as xgb\n",
    "import optuna\n",
    "from sklearn.metrics import accuracy_score, classification_report\n",
    "\n",
    "# Define the objective function for Optuna\n",
    "def objective(trial):\n",
    "    params = {\n",
    "        'n_estimators': trial.suggest_int('n_estimators', 100, 500, step=50),\n",
    "        'max_depth': trial.suggest_int('max_depth', 3, 15),\n",
    "        'learning_rate': trial.suggest_loguniform('learning_rate', 0.01, 0.3),\n",
    "        'subsample': trial.suggest_float('subsample', 0.5, 1.0),\n",
    "        'colsample_bytree': trial.suggest_float('colsample_bytree', 0.5, 1.0),\n",
    "        'reg_lambda': trial.suggest_loguniform('reg_lambda', 1e-5, 10.0),\n",
    "        'reg_alpha': trial.suggest_loguniform('reg_alpha', 1e-5, 10.0)\n",
    "    }\n",
    "    \n",
    "    model = xgb.XGBClassifier(**params, use_label_encoder=False, eval_metric='logloss', random_state=42)\n",
    "    model.fit(X_train, y_train)\n",
    "    \n",
    "    y_pred = model.predict(X_test)\n",
    "    return accuracy_score(y_test, y_pred)\n",
    "\n",
    "# Run Optuna optimization\n",
    "study = optuna.create_study(direction='maximize')\n",
    "study.optimize(objective, n_trials=20)\n",
    "\n",
    "# Get the best hyperparameters\n",
    "best_params = study.best_params\n",
    "print(\"Best Hyperparameters:\", best_params)\n",
    "\n",
    "# Train final model with best parameters\n",
    "best_model = xgb.XGBClassifier(**best_params, use_label_encoder=False, eval_metric='logloss', random_state=42)\n",
    "best_model.fit(X_train, y_train)\n",
    "\n",
    "# Make predictions\n",
    "y_pred_best = best_model.predict(X_test)\n",
    "\n",
    "# Evaluate the model\n",
    "accuracy = accuracy_score(y_test, y_pred_best)\n",
    "print(f\"Optimized Model Accuracy: {accuracy:.4f}\")\n",
    "print(\"Classification Report:\\n\", classification_report(y_test, y_pred_best))\n"
   ]
  },
  {
   "cell_type": "code",
   "execution_count": null,
   "metadata": {},
   "outputs": [],
   "source": [
    "import numpy as np\n",
    "import pandas as pd\n",
    "import optuna\n",
    "import xgboost as xgb\n",
    "from sklearn.ensemble import RandomForestClassifier, GradientBoostingClassifier, StackingClassifier\n",
    "from sklearn.linear_model import LogisticRegression\n",
    "from sklearn.model_selection import cross_val_score, StratifiedKFold, train_test_split\n",
    "from sklearn.metrics import accuracy_score, classification_report\n",
    "from sklearn.preprocessing import LabelEncoder\n",
    "\n",
    "# # 1️⃣ Load Your Data\n",
    "# df = pd.read_csv(\"your_data.csv\")  \n",
    "\n",
    "# # 2️⃣ Handle Categorical Features\n",
    "# cat_cols = df.select_dtypes(include=['object', 'category']).columns\n",
    "# for col in cat_cols:\n",
    "#     df[col] = LabelEncoder().fit_transform(df[col])\n",
    "\n",
    "# # Convert datetime columns to numerical values\n",
    "# datetime_cols = df.select_dtypes(include=['datetime']).columns\n",
    "# for col in datetime_cols:\n",
    "#     df[col] = df[col].astype(int) // 10**9  \n",
    "\n",
    "# # 3️⃣ Split Data into Train & Test\n",
    "# X = df.drop(columns=[\"car_rental_status\"])\n",
    "# y = df[\"car_rental_status\"]\n",
    "# X_train, X_test, y_train, y_test = train_test_split(X, y, stratify=y, test_size=0.2, random_state=42)\n",
    "\n",
    "# 4️⃣ Define Base Models\n",
    "models = {\n",
    "    \"Random Forest\": RandomForestClassifier(n_estimators=100, random_state=42),\n",
    "    \"Gradient Boosting\": GradientBoostingClassifier(n_estimators=100, random_state=42),\n",
    "    \"XGBoost\": xgb.XGBClassifier(n_estimators=100, use_label_encoder=False, eval_metric=\"logloss\", random_state=42)\n",
    "}\n",
    "\n",
    "# 5️⃣ Define Optuna Objective Function for Stacking\n",
    "def stacking_objective(trial):\n",
    "    # Tune meta-classifier (Logistic Regression)\n",
    "    C = trial.suggest_loguniform('C', 0.01, 10.0)\n",
    "    meta_model = LogisticRegression(C=C, max_iter=1000)\n",
    "\n",
    "    stacking_model = StackingClassifier(\n",
    "        estimators=[('rf', models['Random Forest']), ('gb', models['Gradient Boosting']), ('xgb', models['XGBoost'])],\n",
    "        final_estimator=meta_model,\n",
    "        stack_method='predict_proba'\n",
    "    )\n",
    "\n",
    "    # Perform cross-validation\n",
    "    cv = StratifiedKFold(n_splits=5, shuffle=True, random_state=42)\n",
    "    scores = cross_val_score(stacking_model, X_train, y_train, cv=cv, scoring='accuracy')\n",
    "    \n",
    "    return scores.mean()\n",
    "\n",
    "# 6️⃣ Run Optuna Optimization\n",
    "stacking_study = optuna.create_study(direction=\"maximize\")\n",
    "stacking_study.optimize(stacking_objective, n_trials=10)\n",
    "\n",
    "# 7️⃣ Train Stacking Model with Best Hyperparameters\n",
    "best_C = stacking_study.best_params['C']\n",
    "meta_model = LogisticRegression(C=best_C, max_iter=1000)\n",
    "\n",
    "final_stacking_model = StackingClassifier(\n",
    "    estimators=[('rf', models['Random Forest']), ('gb', models['Gradient Boosting']), ('xgb', models['XGBoost'])],\n",
    "    final_estimator=meta_model,\n",
    "    stack_method='predict_proba'\n",
    ")\n",
    "\n",
    "final_stacking_model.fit(X_train, y_train)\n",
    "\n",
    "# 8️⃣ Model Evaluation\n",
    "y_pred = final_stacking_model.predict(X_test)\n",
    "print(f\"Test Accuracy: {accuracy_score(y_test, y_pred):.4f}\")\n",
    "print(\"\\nClassification Report:\\n\", classification_report(y_test, y_pred))\n"
   ]
  },
  {
   "cell_type": "code",
   "execution_count": null,
   "metadata": {},
   "outputs": [],
   "source": []
  }
 ],
 "metadata": {
  "kernelspec": {
   "display_name": "recomm",
   "language": "python",
   "name": "python3"
  },
  "language_info": {
   "codemirror_mode": {
    "name": "ipython",
    "version": 3
   },
   "file_extension": ".py",
   "mimetype": "text/x-python",
   "name": "python",
   "nbconvert_exporter": "python",
   "pygments_lexer": "ipython3",
   "version": "3.12.1"
  }
 },
 "nbformat": 4,
 "nbformat_minor": 2
}
