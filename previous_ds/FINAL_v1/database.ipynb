{
 "cells": [
  {
   "cell_type": "code",
   "execution_count": 1,
   "metadata": {},
   "outputs": [],
   "source": [
    "import pandas as pd"
   ]
  },
  {
   "cell_type": "markdown",
   "metadata": {},
   "source": [
    "# Loading the dataset and Checking the information about the fields and attributes present in them."
   ]
  },
  {
   "cell_type": "code",
   "execution_count": 23,
   "metadata": {},
   "outputs": [],
   "source": [
    "flight= pd.read_excel(\"D:\\\\Make_my_trip\\\\FinalDataset\\\\FlightFINALdataset.xlsx\")"
   ]
  },
  {
   "cell_type": "code",
   "execution_count": 24,
   "metadata": {},
   "outputs": [
    {
     "name": "stdout",
     "output_type": "stream",
     "text": [
      "<class 'pandas.core.frame.DataFrame'>\n",
      "RangeIndex: 40552 entries, 0 to 40551\n",
      "Data columns (total 10 columns):\n",
      " #   Column           Non-Null Count  Dtype  \n",
      "---  ------           --------------  -----  \n",
      " 0   travelCode       40552 non-null  int64  \n",
      " 1   User_ID          40552 non-null  int64  \n",
      " 2   Departure        40552 non-null  object \n",
      " 3   Arrival          40552 non-null  object \n",
      " 4   flightType       40552 non-null  object \n",
      " 5   Flight_price     40552 non-null  float64\n",
      " 6   Flight_duration  40552 non-null  float64\n",
      " 7   Flight_Distance  40552 non-null  float64\n",
      " 8   Flight_agency    40552 non-null  object \n",
      " 9   Departure_date   40552 non-null  object \n",
      "dtypes: float64(3), int64(2), object(5)\n",
      "memory usage: 3.1+ MB\n"
     ]
    }
   ],
   "source": [
    "flight.info()"
   ]
  },
  {
   "cell_type": "code",
   "execution_count": 26,
   "metadata": {},
   "outputs": [],
   "source": [
    "flight.to_csv(\"flight.csv\",index=False)"
   ]
  },
  {
   "cell_type": "markdown",
   "metadata": {},
   "source": [
    "Importing travelCode into Trips Table"
   ]
  },
  {
   "cell_type": "code",
   "execution_count": null,
   "metadata": {},
   "outputs": [
    {
     "name": "stdout",
     "output_type": "stream",
     "text": [
      "Travel codes successfully imported into Trips table!\n"
     ]
    }
   ],
   "source": [
    "import mysql.connector\n",
    "import pandas as pd\n",
    "import os\n",
    "# Load the CSV file into a DataFrame\n",
    "df = pd.read_csv(\"flight.csv\")\n",
    "\n",
    "# Ensure travelCode and User_ID are converted to Python int\n",
    "\n",
    "df[\"travelCode\"] = df[\"travelCode\"].astype(int).map(int)  # Convert NumPy int64 to Python int\n",
    "df[\"User_ID\"] = df[\"User_ID\"].astype(int).map(int)  # Convert NumPy int64 to Python int\n",
    "\n",
    "\n",
    "# Establish MySQL database connection\n",
    "conn = mysql.connector.connect(\n",
    "    host=os.getenv(\"DB_HOST\"), \n",
    "    user=os.getenv(\"DB_USER\"),\n",
    "    password= os.getenv(\"DB_PASSWORD\"),\n",
    "    database=\"makemytrip\"\n",
    ")\n",
    "\n",
    "cursor = conn.cursor()\n",
    "\n",
    "### Insert Unique travelCode into Trips Table ###\n",
    "# Get unique travelCode and user_id pairs\n",
    "unique_trips = df[['travelCode', 'User_ID']].drop_duplicates()\n",
    "\n",
    "# SQL query to insert unique travelCode into Trips\n",
    "insert_trips_query = \"\"\"\n",
    "INSERT IGNORE INTO Trips (travelCode, user_id) VALUES (%s, %s)\n",
    "\"\"\"\n",
    "batch_size = 500  # Insert 500 rows at a time\n",
    "batch = []\n",
    "\n",
    "for i, row in unique_trips.iterrows():\n",
    "    batch.append((int(row[\"travelCode\"]), int(row[\"User_ID\"])))\n",
    "\n",
    "    if len(batch) >= batch_size:\n",
    "        cursor.executemany(insert_trips_query, batch)\n",
    "        conn.commit()  # Commit every 500 records\n",
    "        batch = []  # Reset batch\n",
    "\n",
    "# Insert any remaining records\n",
    "if batch:\n",
    "    cursor.executemany(insert_trips_query, batch)\n",
    "    conn.commit()\n",
    "\n",
    "# Close the connection\n",
    "cursor.close()\n",
    "conn.close()\n",
    "\n",
    "print(\"Travel codes successfully imported into Trips table!\")"
   ]
  },
  {
   "cell_type": "code",
   "execution_count": 25,
   "metadata": {},
   "outputs": [
    {
     "name": "stdout",
     "output_type": "stream",
     "text": [
      "flightType\n",
      "firstClass    17304\n",
      "premium       11656\n",
      "economic      11592\n",
      "Name: count, dtype: int64\n"
     ]
    }
   ],
   "source": [
    "value_counts = flight['flightType'].value_counts()\n",
    "print(value_counts)"
   ]
  },
  {
   "cell_type": "code",
   "execution_count": null,
   "metadata": {},
   "outputs": [
    {
     "name": "stderr",
     "output_type": "stream",
     "text": [
      "C:\\Users\\hetvi\\AppData\\Local\\Temp\\ipykernel_16672\\635643734.py:14: UserWarning: Parsing dates in %d/%m/%Y format when dayfirst=False (the default) was specified. Pass `dayfirst=True` or specify a format to silence this warning.\n",
      "  df[\"Departure_date\"] = pd.to_datetime(df[\"Departure_date\"], errors='coerce')\n"
     ]
    },
    {
     "name": "stdout",
     "output_type": "stream",
     "text": [
      "Inserted 1000 records into Flight table...\n",
      "Inserted 2000 records into Flight table...\n",
      "Inserted 3000 records into Flight table...\n",
      "Inserted 4000 records into Flight table...\n",
      "Inserted 5000 records into Flight table...\n",
      "Inserted 6000 records into Flight table...\n",
      "Inserted 7000 records into Flight table...\n",
      "Inserted 8000 records into Flight table...\n",
      "Inserted 9000 records into Flight table...\n",
      "Inserted 10000 records into Flight table...\n",
      "Inserted 11000 records into Flight table...\n",
      "Inserted 12000 records into Flight table...\n",
      "Inserted 13000 records into Flight table...\n",
      "Inserted 14000 records into Flight table...\n",
      "Inserted 15000 records into Flight table...\n",
      "Inserted 16000 records into Flight table...\n",
      "Inserted 17000 records into Flight table...\n",
      "Inserted 18000 records into Flight table...\n",
      "Inserted 19000 records into Flight table...\n",
      "Inserted 20000 records into Flight table...\n",
      "Inserted 21000 records into Flight table...\n",
      "Inserted 22000 records into Flight table...\n",
      "Inserted 23000 records into Flight table...\n",
      "Inserted 24000 records into Flight table...\n",
      "Inserted 25000 records into Flight table...\n",
      "Inserted 26000 records into Flight table...\n",
      "Inserted 27000 records into Flight table...\n",
      "Inserted 28000 records into Flight table...\n",
      "Inserted 29000 records into Flight table...\n",
      "Inserted 30000 records into Flight table...\n",
      "Inserted 31000 records into Flight table...\n",
      "Inserted 32000 records into Flight table...\n",
      "Inserted 33000 records into Flight table...\n",
      "Inserted 34000 records into Flight table...\n",
      "Inserted 35000 records into Flight table...\n",
      "Inserted 36000 records into Flight table...\n",
      "Inserted 37000 records into Flight table...\n",
      "Inserted 38000 records into Flight table...\n",
      "Inserted 39000 records into Flight table...\n",
      "Inserted 40000 records into Flight table...\n",
      "Inserted 40552 records into Flight table...\n",
      "All flight data inserted successfully!\n"
     ]
    }
   ],
   "source": [
    "import mysql.connector\n",
    "import pandas as pd\n",
    "import os \n",
    "\n",
    "# Load CSV into DataFrame\n",
    "df = pd.read_csv(\"flight.csv\")\n",
    "\n",
    "# Convert to standard Python types to avoid MySQL errors\n",
    "df[\"travelCode\"] = df[\"travelCode\"].astype(int)\n",
    "df[\"User_ID\"] = df[\"User_ID\"].astype(int)\n",
    "df[\"flightType\"] = df[\"flightType\"].astype(str)\n",
    "df[\"Flight_price\"] = df[\"Flight_price\"].astype(float)\n",
    "df[\"Flight_duration\"] = df[\"Flight_duration\"].astype(float)\n",
    "df[\"Flight_Distance\"] = df[\"Flight_Distance\"].astype(float)\n",
    "df[\"Departure_date\"] = pd.to_datetime(df[\"Departure_date\"], errors='coerce')\n",
    "\n",
    "# Drop rows with NaN values in essential columns to prevent errors\n",
    "df = df.dropna(subset=[\"travelCode\", \"User_ID\", \"Departure_date\"])\n",
    "\n",
    "# Convert dataframe rows into a list of tuples (ensuring no NumPy types)\n",
    "data = [\n",
    "    (\n",
    "        int(row.travelCode), \n",
    "        int(row.User_ID), \n",
    "        row.Departure, \n",
    "        row.Arrival, \n",
    "        row.flightType, \n",
    "        float(row.Flight_price), \n",
    "        float(row.Flight_duration), \n",
    "        float(row.Flight_Distance), \n",
    "        row.Flight_agency, \n",
    "        row.Departure_date.strftime('%Y-%m-%d %H:%M:%S')  # Ensure correct MySQL datetime format\n",
    "    ) \n",
    "    for row in df.itertuples(index=False)\n",
    "]\n",
    "\n",
    "# Connect to MySQL\n",
    "conn = mysql.connector.connect(\n",
    "    host=os.getenv(\"DB_HOST\"), \n",
    "    user=os.getenv(\"DB_USER\"),\n",
    "    password= os.getenv(\"DB_PASSWORD\"),\n",
    "    database=\"makemytrip\"\n",
    ")\n",
    "cursor = conn.cursor()\n",
    "\n",
    "# Insert SQL Query\n",
    "insert_query = \"\"\"\n",
    "INSERT INTO Flight (\n",
    "    travelCode, User_ID, Departure, Arrival, flightType, Flight_price, \n",
    "    Flight_duration, Flight_Distance, Flight_agency, Departure_date\n",
    ") VALUES (%s, %s, %s, %s, %s, %s, %s, %s, %s, %s)\n",
    "\"\"\"\n",
    "\n",
    "# Batch insert to avoid timeout issues\n",
    "batch_size = 1000\n",
    "for i in range(0, len(data), batch_size):\n",
    "    batch = data[i:i + batch_size]\n",
    "    cursor.executemany(insert_query, batch)\n",
    "    conn.commit()\n",
    "    print(f\"Inserted {i + len(batch)} records into Flight table...\")\n",
    "\n",
    "# Close connections\n",
    "cursor.close()\n",
    "conn.close()\n",
    "\n",
    "print(\"All flight data inserted successfully!\")"
   ]
  },
  {
   "cell_type": "code",
   "execution_count": 47,
   "metadata": {},
   "outputs": [],
   "source": [
    "hotel=pd.read_excel(r\"D:\\Make_my_trip\\FinalDataset\\HotelFINALdataset.xlsx\")"
   ]
  },
  {
   "cell_type": "code",
   "execution_count": 6,
   "metadata": {},
   "outputs": [
    {
     "name": "stdout",
     "output_type": "stream",
     "text": [
      "<class 'pandas.core.frame.DataFrame'>\n",
      "RangeIndex: 40552 entries, 0 to 40551\n",
      "Data columns (total 8 columns):\n",
      " #   Column               Non-Null Count  Dtype  \n",
      "---  ------               --------------  -----  \n",
      " 0   User_ID              40552 non-null  int64  \n",
      " 1   travelCode           40552 non-null  int64  \n",
      " 2   Hotel_Name           40552 non-null  object \n",
      " 3   Arrival_place        40552 non-null  object \n",
      " 4   Hotel_stay           40552 non-null  int64  \n",
      " 5   Hotel_per_day_price  40552 non-null  float64\n",
      " 6   Check-in             40552 non-null  object \n",
      " 7   Hotel_TotalPrice     40552 non-null  float64\n",
      "dtypes: float64(2), int64(3), object(3)\n",
      "memory usage: 2.5+ MB\n"
     ]
    }
   ],
   "source": [
    "hotel.info()"
   ]
  },
  {
   "cell_type": "code",
   "execution_count": 11,
   "metadata": {},
   "outputs": [
    {
     "data": {
      "text/html": [
       "<div>\n",
       "<style scoped>\n",
       "    .dataframe tbody tr th:only-of-type {\n",
       "        vertical-align: middle;\n",
       "    }\n",
       "\n",
       "    .dataframe tbody tr th {\n",
       "        vertical-align: top;\n",
       "    }\n",
       "\n",
       "    .dataframe thead th {\n",
       "        text-align: right;\n",
       "    }\n",
       "</style>\n",
       "<table border=\"1\" class=\"dataframe\">\n",
       "  <thead>\n",
       "    <tr style=\"text-align: right;\">\n",
       "      <th></th>\n",
       "      <th>User_ID</th>\n",
       "      <th>travelCode</th>\n",
       "      <th>Hotel_Name</th>\n",
       "      <th>Arrival_place</th>\n",
       "      <th>Hotel_stay</th>\n",
       "      <th>Hotel_per_day_price</th>\n",
       "      <th>Check-in</th>\n",
       "      <th>Hotel_TotalPrice</th>\n",
       "    </tr>\n",
       "  </thead>\n",
       "  <tbody>\n",
       "    <tr>\n",
       "      <th>0</th>\n",
       "      <td>0</td>\n",
       "      <td>0</td>\n",
       "      <td>Hotel A</td>\n",
       "      <td>Florianopolis (SC)</td>\n",
       "      <td>4</td>\n",
       "      <td>313.02</td>\n",
       "      <td>09/26/2019</td>\n",
       "      <td>1252.08</td>\n",
       "    </tr>\n",
       "    <tr>\n",
       "      <th>1</th>\n",
       "      <td>0</td>\n",
       "      <td>2</td>\n",
       "      <td>Hotel K</td>\n",
       "      <td>Salvador (BH)</td>\n",
       "      <td>2</td>\n",
       "      <td>263.41</td>\n",
       "      <td>10/10/2019</td>\n",
       "      <td>526.82</td>\n",
       "    </tr>\n",
       "    <tr>\n",
       "      <th>2</th>\n",
       "      <td>0</td>\n",
       "      <td>7</td>\n",
       "      <td>Hotel K</td>\n",
       "      <td>Salvador (BH)</td>\n",
       "      <td>3</td>\n",
       "      <td>263.41</td>\n",
       "      <td>11/14/2019</td>\n",
       "      <td>790.23</td>\n",
       "    </tr>\n",
       "    <tr>\n",
       "      <th>3</th>\n",
       "      <td>0</td>\n",
       "      <td>11</td>\n",
       "      <td>Hotel K</td>\n",
       "      <td>Salvador (BH)</td>\n",
       "      <td>4</td>\n",
       "      <td>263.41</td>\n",
       "      <td>12/12/2019</td>\n",
       "      <td>1053.64</td>\n",
       "    </tr>\n",
       "    <tr>\n",
       "      <th>4</th>\n",
       "      <td>0</td>\n",
       "      <td>13</td>\n",
       "      <td>Hotel A</td>\n",
       "      <td>Florianopolis (SC)</td>\n",
       "      <td>1</td>\n",
       "      <td>313.02</td>\n",
       "      <td>12/26/2019</td>\n",
       "      <td>313.02</td>\n",
       "    </tr>\n",
       "  </tbody>\n",
       "</table>\n",
       "</div>"
      ],
      "text/plain": [
       "   User_ID  travelCode Hotel_Name       Arrival_place  Hotel_stay  \\\n",
       "0        0           0    Hotel A  Florianopolis (SC)           4   \n",
       "1        0           2    Hotel K       Salvador (BH)           2   \n",
       "2        0           7    Hotel K       Salvador (BH)           3   \n",
       "3        0          11    Hotel K       Salvador (BH)           4   \n",
       "4        0          13    Hotel A  Florianopolis (SC)           1   \n",
       "\n",
       "   Hotel_per_day_price    Check-in  Hotel_TotalPrice  \n",
       "0               313.02  09/26/2019           1252.08  \n",
       "1               263.41  10/10/2019            526.82  \n",
       "2               263.41  11/14/2019            790.23  \n",
       "3               263.41  12/12/2019           1053.64  \n",
       "4               313.02  12/26/2019            313.02  "
      ]
     },
     "execution_count": 11,
     "metadata": {},
     "output_type": "execute_result"
    }
   ],
   "source": [
    "hotel.head()"
   ]
  },
  {
   "cell_type": "code",
   "execution_count": null,
   "metadata": {},
   "outputs": [
    {
     "name": "stderr",
     "output_type": "stream",
     "text": [
      "C:\\Users\\hetvi\\AppData\\Local\\Temp\\ipykernel_16672\\1657733891.py:14: UserWarning: pandas only supports SQLAlchemy connectable (engine/connection) or database string URI or sqlite3 DBAPI2 connection. Other DBAPI2 objects are not tested. Please consider using SQLAlchemy.\n",
      "  df_trips = pd.read_sql(query, conn)\n"
     ]
    },
    {
     "name": "stdout",
     "output_type": "stream",
     "text": [
      "✅ All travelCode and User_ID pairs in hotel.csv exist in Trips.\n"
     ]
    }
   ],
   "source": [
    "import mysql.connector\n",
    "import pandas as pd\n",
    "import os\n",
    "\n",
    "# Establish connection to MySQL database\n",
    "conn = mysql.connector.connect(\n",
    "    host=os.getenv(\"DB_HOST\"), \n",
    "    user=os.getenv(\"DB_USER\"),\n",
    "    password= os.getenv(\"DB_PASSWORD\"),\n",
    "    database=\"makemytrip\"\n",
    ")\n",
    "\n",
    "# Load Trips table into a DataFrame\n",
    "query = \"SELECT travelCode, user_id FROM Trips\"\n",
    "df_trips = pd.read_sql(query, conn)\n",
    "\n",
    "# Load hotel.csv into a DataFrame\n",
    "df_hotel = pd.read_excel(r\"D:\\Make_my_trip\\FinalDataset\\HotelFINALdataset.xlsx\")\n",
    "\n",
    "# Ensure column names match\n",
    "df_hotel.rename(columns={'Check-in': 'Check_in'}, inplace=True)\n",
    "\n",
    "# Convert travelCode to integer (remove any spaces)\n",
    "df_hotel['travelCode'] = df_hotel['travelCode'].astype(str).str.strip().astype(int)\n",
    "\n",
    "# Merge data to check for mismatches\n",
    "df_merged = df_hotel[['travelCode', 'User_ID']].merge(df_trips, \n",
    "                                                       left_on=['travelCode', 'User_ID'], \n",
    "                                                       right_on=['travelCode', 'user_id'], \n",
    "                                                       how='left', indicator=True)\n",
    "\n",
    "# Find mismatched rows (where _merge column is \"left_only\", meaning they are missing from Trips)\n",
    "df_mismatched = df_merged[df_merged['_merge'] == 'left_only'][['travelCode', 'User_ID']]\n",
    "\n",
    "# Display results\n",
    "if not df_mismatched.empty:\n",
    "    print(\"❌ The following travelCode and User_ID pairs from hotel.csv are missing in Trips:\")\n",
    "    display(df_mismatched)\n",
    "else:\n",
    "    print(\"✅ All travelCode and User_ID pairs in hotel.csv exist in Trips.\")\n",
    "\n",
    "# Close the connection\n",
    "conn.close()\n"
   ]
  },
  {
   "cell_type": "code",
   "execution_count": 48,
   "metadata": {},
   "outputs": [],
   "source": [
    "df = pd.read_excel(r\"D:\\Make_my_trip\\FinalDataset\\Hotel_1Final.xlsx\")\n",
    "df.to_csv(\"hotel.csv\",index=False)"
   ]
  },
  {
   "cell_type": "code",
   "execution_count": 49,
   "metadata": {},
   "outputs": [
    {
     "name": "stdout",
     "output_type": "stream",
     "text": [
      "Number of unique hotels: 27\n",
      "['The Sapphire Retreat' 'Oceanview Inn' 'Horizon Cliff Hotel'\n",
      " 'Emerald Bay Resort' 'Regal Heights Hotel' 'Urban Elegance Hotel'\n",
      " 'Harbor View Hotel' 'Seaside Retreat' 'Royal Orchid' 'Grand Palace Hotel'\n",
      " 'Summit Heights Hotel' 'Cityscape Hotel' 'Sunset Resort'\n",
      " 'Golden Sands Hotel' 'Starlight Inn' 'Lakeside Manor' 'Mountain Lodge'\n",
      " 'Evergreen Lodge' 'Velvet Sunset Inn' 'Crystal Cove Resort'\n",
      " 'Serenity Bay' 'The Majestic Tower' 'Aurora Bliss Hotel'\n",
      " 'Azure Waves Resort' 'Skyline Suites' 'Tranquil Meadows Hotel'\n",
      " 'The Grand Horizon']\n"
     ]
    }
   ],
   "source": [
    "unique_hotels = df[\"Hotel_Name\"].unique()\n",
    "print(f\"Number of unique hotels: {len(unique_hotels)}\")\n",
    "print(unique_hotels)\n"
   ]
  },
  {
   "cell_type": "code",
   "execution_count": 50,
   "metadata": {},
   "outputs": [
    {
     "name": "stdout",
     "output_type": "stream",
     "text": [
      "No hotel is listed under multiple arrival places. Your recommendation logic is safe!\n"
     ]
    }
   ],
   "source": [
    "duplicate_hotels = df.groupby(\"Hotel_Name\")[\"Arrival_place\"].nunique()\n",
    "conflicting_hotels = duplicate_hotels[duplicate_hotels > 1]\n",
    "\n",
    "if not conflicting_hotels.empty:\n",
    "    print(\"The following hotels appear in multiple cities:\")\n",
    "    print(conflicting_hotels)\n",
    "else:\n",
    "    print(\"No hotel is listed under multiple arrival places. Your recommendation logic is safe!\")\n"
   ]
  },
  {
   "cell_type": "code",
   "execution_count": 51,
   "metadata": {},
   "outputs": [
    {
     "name": "stdout",
     "output_type": "stream",
     "text": [
      "Number of unique arrival places: 9\n",
      "['Florianopolis (SC)' 'Salvador (BH)' 'Natal (RN)' 'Aracaju (SE)'\n",
      " 'Recife (PE)' 'Sao Paulo (SP)' 'Campo Grande (MS)' 'Rio de Janeiro (RJ)'\n",
      " 'Brasilia (DF)']\n"
     ]
    }
   ],
   "source": [
    "unique_arrival_places = df[\"Arrival_place\"].unique()\n",
    "print(f\"Number of unique arrival places: {len(unique_arrival_places)}\")\n",
    "print(unique_arrival_places)\n"
   ]
  },
  {
   "cell_type": "code",
   "execution_count": 52,
   "metadata": {},
   "outputs": [
    {
     "name": "stdout",
     "output_type": "stream",
     "text": [
      "✅ Each hotel name is assigned to only one city. Your recommendation logic is safe!\n"
     ]
    }
   ],
   "source": [
    "city_hotel_mapping = df.groupby(\"Hotel_Name\")[\"Arrival_place\"].nunique()\n",
    "conflicting_hotels = city_hotel_mapping[city_hotel_mapping > 1]\n",
    "\n",
    "if not conflicting_hotels.empty:\n",
    "    print(\"⚠️ The following hotels appear in multiple cities:\")\n",
    "    print(conflicting_hotels)\n",
    "else:\n",
    "    print(\"✅ Each hotel name is assigned to only one city. Your recommendation logic is safe!\")\n"
   ]
  },
  {
   "cell_type": "code",
   "execution_count": 53,
   "metadata": {},
   "outputs": [
    {
     "name": "stdout",
     "output_type": "stream",
     "text": [
      "          Arrival_place              Hotel_Name  Count\n",
      "0          Aracaju (SE)      Azure Waves Resort   1400\n",
      "1          Aracaju (SE)     Regal Heights Hotel   1406\n",
      "2          Aracaju (SE)       Velvet Sunset Inn   1399\n",
      "3         Brasilia (DF)           Starlight Inn   1444\n",
      "4         Brasilia (DF)       The Grand Horizon   1461\n",
      "5         Brasilia (DF)  Tranquil Meadows Hotel   1532\n",
      "6     Campo Grande (MS)         Evergreen Lodge   1455\n",
      "7     Campo Grande (MS)            Serenity Bay   1429\n",
      "8     Campo Grande (MS)    Summit Heights Hotel   1449\n",
      "9    Florianopolis (SC)      Aurora Bliss Hotel   1090\n",
      "10   Florianopolis (SC)     Horizon Cliff Hotel   1132\n",
      "11   Florianopolis (SC)    The Sapphire Retreat   1108\n",
      "12           Natal (RN)         Cityscape Hotel   1613\n",
      "13           Natal (RN)      Emerald Bay Resort   1616\n",
      "14           Natal (RN)            Royal Orchid   1600\n",
      "15          Recife (PE)     Crystal Cove Resort   1510\n",
      "16          Recife (PE)          Lakeside Manor   1495\n",
      "17          Recife (PE)    Urban Elegance Hotel   1462\n",
      "18  Rio de Janeiro (RJ)      Golden Sands Hotel   1669\n",
      "19  Rio de Janeiro (RJ)          Mountain Lodge   1678\n",
      "20  Rio de Janeiro (RJ)          Skyline Suites   1682\n",
      "21        Salvador (BH)      Grand Palace Hotel   1708\n",
      "22        Salvador (BH)           Oceanview Inn   1693\n",
      "23        Salvador (BH)           Sunset Resort   1693\n",
      "24       Sao Paulo (SP)       Harbor View Hotel   1579\n",
      "25       Sao Paulo (SP)         Seaside Retreat   1651\n",
      "26       Sao Paulo (SP)      The Majestic Tower   1598\n"
     ]
    }
   ],
   "source": [
    "hotel_city_distribution = df.groupby([\"Arrival_place\", \"Hotel_Name\"]).size().reset_index(name=\"Count\")\n",
    "print(hotel_city_distribution)\n"
   ]
  },
  {
   "cell_type": "code",
   "execution_count": null,
   "metadata": {},
   "outputs": [
    {
     "name": "stdout",
     "output_type": "stream",
     "text": [
      "Inserted 1000 records into Hotel table...\n",
      "Inserted 2000 records into Hotel table...\n",
      "Inserted 3000 records into Hotel table...\n",
      "Inserted 4000 records into Hotel table...\n",
      "Inserted 5000 records into Hotel table...\n",
      "Inserted 6000 records into Hotel table...\n",
      "Inserted 7000 records into Hotel table...\n",
      "Inserted 8000 records into Hotel table...\n",
      "Inserted 9000 records into Hotel table...\n",
      "Inserted 10000 records into Hotel table...\n",
      "Inserted 11000 records into Hotel table...\n",
      "Inserted 12000 records into Hotel table...\n",
      "Inserted 13000 records into Hotel table...\n",
      "Inserted 14000 records into Hotel table...\n",
      "Inserted 15000 records into Hotel table...\n",
      "Inserted 16000 records into Hotel table...\n",
      "Inserted 17000 records into Hotel table...\n",
      "Inserted 18000 records into Hotel table...\n",
      "Inserted 19000 records into Hotel table...\n",
      "Inserted 20000 records into Hotel table...\n",
      "Inserted 21000 records into Hotel table...\n",
      "Inserted 22000 records into Hotel table...\n",
      "Inserted 23000 records into Hotel table...\n",
      "Inserted 24000 records into Hotel table...\n",
      "Inserted 25000 records into Hotel table...\n",
      "Inserted 26000 records into Hotel table...\n",
      "Inserted 27000 records into Hotel table...\n",
      "Inserted 28000 records into Hotel table...\n",
      "Inserted 29000 records into Hotel table...\n",
      "Inserted 30000 records into Hotel table...\n",
      "Inserted 31000 records into Hotel table...\n",
      "Inserted 32000 records into Hotel table...\n",
      "Inserted 33000 records into Hotel table...\n",
      "Inserted 34000 records into Hotel table...\n",
      "Inserted 35000 records into Hotel table...\n",
      "Inserted 36000 records into Hotel table...\n",
      "Inserted 37000 records into Hotel table...\n",
      "Inserted 38000 records into Hotel table...\n",
      "Inserted 39000 records into Hotel table...\n",
      "Inserted 40000 records into Hotel table...\n",
      "Inserted 40552 records into Hotel table...\n",
      "All hotel data inserted successfully!\n"
     ]
    }
   ],
   "source": [
    "import mysql.connector\n",
    "import pandas as pd\n",
    "import os\n",
    "\n",
    "# Load CSV into DataFrame\n",
    "df = pd.read_csv(\"hotel.csv\")\n",
    "\n",
    "# Convert to standard Python types to avoid MySQL errors\n",
    "df[\"travelCode\"] = df[\"travelCode\"].astype(int)\n",
    "df[\"User_ID\"] = df[\"User_ID\"].astype(int)\n",
    "df[\"Hotel_Name\"] = df[\"Hotel_Name\"].astype(str)\n",
    "df[\"Arrival_place\"] = df[\"Arrival_place\"].astype(str)\n",
    "df[\"Hotel_stay\"] = df[\"Hotel_stay\"].astype(int)\n",
    "df[\"Hotel_per_day_price\"] = df[\"Hotel_per_day_price\"].astype(float)\n",
    "df.rename(columns={\"Check-in\": \"Check_in\"}, inplace=True)\n",
    "df[\"Check_in\"] = pd.to_datetime(df[\"Check_in\"], errors='coerce')\n",
    "df[\"Hotel_TotalPrice\"] = df[\"Hotel_TotalPrice\"].astype(float)\n",
    "\n",
    "# Drop rows with NaN values in essential columns\n",
    "df = df.dropna(subset=[\"travelCode\", \"User_ID\", \"Check_in\"])\n",
    "\n",
    "# Convert dataframe rows into a list of tuples\n",
    "data = [\n",
    "    (\n",
    "        int(row.travelCode), \n",
    "        int(row.User_ID), \n",
    "        row.Hotel_Name, \n",
    "        row.Arrival_place, \n",
    "        int(row.Hotel_stay), \n",
    "        float(row.Hotel_per_day_price), \n",
    "        row.Check_in.strftime('%Y-%m-%d %H:%M:%S'),  # Ensure correct MySQL datetime format\n",
    "        float(row.Hotel_TotalPrice)\n",
    "    ) \n",
    "    for row in df.itertuples(index=False)\n",
    "]\n",
    "\n",
    "# Connect to MySQL\n",
    "conn = mysql.connector.connect(\n",
    "   host=os.getenv(\"DB_HOST\"), \n",
    "    user=os.getenv(\"DB_USER\"),\n",
    "    password= os.getenv(\"DB_PASSWORD\"),\n",
    "    database=\"makemytrip\"\n",
    ")\n",
    "cursor = conn.cursor()\n",
    "\n",
    "# Insert SQL Query\n",
    "insert_query = \"\"\"\n",
    "INSERT INTO Hotel (\n",
    "    travelCode, User_ID, Hotel_Name, Arrival_place, Hotel_stay, \n",
    "    Hotel_per_day_price, Check_in, Hotel_TotalPrice\n",
    ") VALUES (%s, %s, %s, %s, %s, %s, %s, %s)\n",
    "\"\"\"\n",
    "\n",
    "# Batch insert to avoid timeout issues\n",
    "batch_size = 1000\n",
    "for i in range(0, len(data), batch_size):\n",
    "    batch = data[i:i + batch_size]\n",
    "    cursor.executemany(insert_query, batch)\n",
    "    conn.commit()\n",
    "    print(f\"Inserted {i + len(batch)} records into Hotel table...\")\n",
    "\n",
    "# Close connections\n",
    "cursor.close()\n",
    "conn.close()\n",
    "\n",
    "print(\"All hotel data inserted successfully!\")\n"
   ]
  },
  {
   "cell_type": "code",
   "execution_count": 3,
   "metadata": {},
   "outputs": [],
   "source": [
    "import pandas as pd"
   ]
  },
  {
   "cell_type": "code",
   "execution_count": null,
   "metadata": {},
   "outputs": [],
   "source": [
    "car=pd.read_excel(r\"D:\\Make_my_trip\\FinalDataset\\CarFINALdataset.xlsx\")"
   ]
  },
  {
   "cell_type": "code",
   "execution_count": 37,
   "metadata": {},
   "outputs": [],
   "source": [
    "car.to_csv(\"car.csv\",index=False)"
   ]
  },
  {
   "cell_type": "code",
   "execution_count": 5,
   "metadata": {},
   "outputs": [
    {
     "name": "stdout",
     "output_type": "stream",
     "text": [
      "<class 'pandas.core.frame.DataFrame'>\n",
      "RangeIndex: 3773 entries, 0 to 3772\n",
      "Data columns (total 12 columns):\n",
      " #   Column              Non-Null Count  Dtype \n",
      "---  ------              --------------  ----- \n",
      " 0   User_ID             3773 non-null   int64 \n",
      " 1   travelCode          3773 non-null   int64 \n",
      " 2   Check-in            3773 non-null   object\n",
      " 3   pickupLocation      3773 non-null   object\n",
      " 4   dropoffLocation     3773 non-null   object\n",
      " 5   carType             3773 non-null   object\n",
      " 6   rentalAgency        3773 non-null   object\n",
      " 7   rentalDuration      3773 non-null   int64 \n",
      " 8   Car_total_distance  3773 non-null   int64 \n",
      " 9   fuelPolicy          3773 non-null   object\n",
      " 10  Car_bookingStatus   3773 non-null   object\n",
      " 11  total_rent_price    3773 non-null   int64 \n",
      "dtypes: int64(5), object(7)\n",
      "memory usage: 353.8+ KB\n"
     ]
    }
   ],
   "source": [
    "car.info()"
   ]
  },
  {
   "cell_type": "code",
   "execution_count": 7,
   "metadata": {},
   "outputs": [
    {
     "name": "stdout",
     "output_type": "stream",
     "text": [
      "pickupLocation\n",
      "East Michael     9\n",
      "Lake John        7\n",
      "New Michael      6\n",
      "South William    5\n",
      "East John        5\n",
      "                ..\n",
      "New Jonstad      1\n",
      "Mccannton        1\n",
      "Lake Erika       1\n",
      "Jonesshire       1\n",
      "Kylehaven        1\n",
      "Name: count, Length: 3347, dtype: int64\n"
     ]
    }
   ],
   "source": [
    "car_value_counts = car['pickupLocation'].value_counts()\n",
    "print(car_value_counts)"
   ]
  },
  {
   "cell_type": "code",
   "execution_count": null,
   "metadata": {},
   "outputs": [
    {
     "name": "stdout",
     "output_type": "stream",
     "text": [
      "Inserted 1000 records into CarRental table...\n",
      "Inserted 2000 records into CarRental table...\n",
      "Inserted 3000 records into CarRental table...\n",
      "Inserted 3773 records into CarRental table...\n",
      "All car rental data inserted successfully!\n"
     ]
    }
   ],
   "source": [
    "import mysql.connector\n",
    "import pandas as pd\n",
    "import os\n",
    "\n",
    "# Load CSV into DataFrame\n",
    "df = pd.read_csv(\"car.csv\")\n",
    "\n",
    "# Rename columns to match the database schema\n",
    "df.rename(columns={\"Check-in\": \"Check_in\"}, inplace=True)\n",
    "\n",
    "# Convert data types to match MySQL table structure\n",
    "df[\"User_ID\"] = df[\"User_ID\"].astype(int)\n",
    "df[\"travelCode\"] = df[\"travelCode\"].astype(int)\n",
    "df[\"Check_in\"] = pd.to_datetime(df[\"Check_in\"], errors='coerce')\n",
    "df[\"rentalDuration\"] = df[\"rentalDuration\"].astype(int)\n",
    "df[\"Car_total_distance\"] = df[\"Car_total_distance\"].astype(int)\n",
    "df[\"total_rent_price\"] = df[\"total_rent_price\"].astype(int)\n",
    "\n",
    "# Drop rows with NaN values in essential columns\n",
    "df = df.dropna(subset=[\"travelCode\", \"User_ID\", \"Check_in\"])\n",
    "\n",
    "# Convert dataframe rows into a list of tuples (avoiding NumPy types)\n",
    "data = [\n",
    "    (\n",
    "        int(row.User_ID),\n",
    "        int(row.travelCode),\n",
    "        row.Check_in.strftime('%Y-%m-%d %H:%M:%S'),  # Ensure correct MySQL datetime format\n",
    "        row.pickupLocation,\n",
    "        row.dropoffLocation,\n",
    "        row.carType,\n",
    "        row.rentalAgency,\n",
    "        int(row.rentalDuration),\n",
    "        int(row.Car_total_distance),\n",
    "        row.fuelPolicy,\n",
    "        row.Car_bookingStatus,\n",
    "        int(row.total_rent_price)\n",
    "    )\n",
    "    for row in df.itertuples(index=False)\n",
    "]\n",
    "\n",
    "# Connect to MySQL\n",
    "conn = mysql.connector.connect(\n",
    "    host=os.getenv(\"DB_HOST\"), \n",
    "    user=os.getenv(\"DB_USER\"),\n",
    "    password= os.getenv(\"DB_PASSWORD\"),\n",
    "    database=\"makemytrip\"\n",
    ")\n",
    "cursor = conn.cursor()\n",
    "\n",
    "# Insert SQL Query\n",
    "insert_query = \"\"\"\n",
    "INSERT INTO CarRental (\n",
    "    User_ID, travelCode, Check_in, pickupLocation, dropoffLocation, carType, \n",
    "    rentalAgency, rentalDuration, Car_total_distance, fuelPolicy, \n",
    "    Car_bookingStatus, total_rent_price\n",
    ") VALUES (%s, %s, %s, %s, %s, %s, %s, %s, %s, %s, %s, %s)\n",
    "\"\"\"\n",
    "\n",
    "# Batch insert to avoid timeout issues\n",
    "batch_size = 1000\n",
    "for i in range(0, len(data), batch_size):\n",
    "    batch = data[i:i + batch_size]\n",
    "    cursor.executemany(insert_query, batch)\n",
    "    conn.commit()\n",
    "    print(f\"Inserted {i + len(batch)} records into CarRental table...\")\n",
    "\n",
    "# Close connections\n",
    "cursor.close()\n",
    "conn.close()\n",
    "\n",
    "print(\"All car rental data inserted successfully!\")\n"
   ]
  },
  {
   "cell_type": "code",
   "execution_count": 40,
   "metadata": {},
   "outputs": [
    {
     "name": "stdout",
     "output_type": "stream",
     "text": [
      "<class 'pandas.core.frame.DataFrame'>\n",
      "RangeIndex: 1310 entries, 0 to 1309\n",
      "Data columns (total 4 columns):\n",
      " #   Column    Non-Null Count  Dtype \n",
      "---  ------    --------------  ----- \n",
      " 0   User_ID   1310 non-null   int64 \n",
      " 1   company   1310 non-null   object\n",
      " 2   Name      1310 non-null   object\n",
      " 3   gender_x  1310 non-null   object\n",
      "dtypes: int64(1), object(3)\n",
      "memory usage: 41.1+ KB\n"
     ]
    }
   ],
   "source": [
    "passenger=pd.read_excel(r\"D:\\Make_my_trip\\FinalDataset\\PassengerFINALdataset.xlsx\")\n",
    "passenger.info()"
   ]
  },
  {
   "cell_type": "code",
   "execution_count": null,
   "metadata": {},
   "outputs": [
    {
     "name": "stdout",
     "output_type": "stream",
     "text": [
      "Inserted 1000 records into Passenger table...\n",
      "Inserted 1310 records into Passenger table...\n",
      "All passenger data inserted successfully!\n"
     ]
    }
   ],
   "source": [
    "import mysql.connector\n",
    "import pandas as pd\n",
    "import os\n",
    "\n",
    "# Load CSV into DataFrame\n",
    "df = pd.read_excel(r\"D:\\Make_my_trip\\FinalDataset\\PassengerFINALdataset.xlsx\")\n",
    "\n",
    "# Convert data types to match MySQL table structure\n",
    "df[\"User_ID\"] = df[\"User_ID\"].astype(int)\n",
    "df[\"company\"] = df[\"company\"].astype(str)\n",
    "df[\"Name\"] = df[\"Name\"].astype(str)\n",
    "df[\"gender_x\"] = df[\"gender_x\"].astype(str)\n",
    "\n",
    "# Drop rows with NaN values in essential columns\n",
    "df = df.dropna(subset=[\"User_ID\", \"Name\"])\n",
    "\n",
    "# Convert dataframe rows into a list of tuples (avoiding NumPy types)\n",
    "data = [\n",
    "    (\n",
    "        int(row.User_ID),\n",
    "        row.company,\n",
    "        row.Name,\n",
    "        row.gender_x\n",
    "    )\n",
    "    for row in df.itertuples(index=False)\n",
    "]\n",
    "\n",
    "# Connect to MySQL\n",
    "conn = mysql.connector.connect(\n",
    "    host=os.getenv(\"DB_HOST\"), \n",
    "    user=os.getenv(\"DB_USER\"),\n",
    "    password= os.getenv(\"DB_PASSWORD\"),\n",
    "    database=\"makemytrip\"\n",
    ")\n",
    "cursor = conn.cursor()\n",
    "\n",
    "# Insert SQL Query\n",
    "insert_query = \"\"\"\n",
    "INSERT INTO Passenger (User_ID, company, Name, gender_x) \n",
    "VALUES (%s, %s, %s, %s)\n",
    "\"\"\"\n",
    "\n",
    "# Batch insert to avoid timeout issues\n",
    "batch_size = 1000\n",
    "for i in range(0, len(data), batch_size):\n",
    "    batch = data[i:i + batch_size]\n",
    "    cursor.executemany(insert_query, batch)\n",
    "    conn.commit()\n",
    "    print(f\"Inserted {i + len(batch)} records into Passenger table...\")\n",
    "\n",
    "# Close connections\n",
    "cursor.close()\n",
    "conn.close()\n",
    "\n",
    "print(\"All passenger data inserted successfully!\")\n"
   ]
  },
  {
   "cell_type": "code",
   "execution_count": 42,
   "metadata": {},
   "outputs": [
    {
     "name": "stdout",
     "output_type": "stream",
     "text": [
      "<class 'pandas.core.frame.DataFrame'>\n",
      "RangeIndex: 6219 entries, 0 to 6218\n",
      "Data columns (total 6 columns):\n",
      " #   Column            Non-Null Count  Dtype \n",
      "---  ------            --------------  ----- \n",
      " 0   User_ID           6219 non-null   int64 \n",
      " 1   Arrival_date      6219 non-null   object\n",
      " 2   issueType         6219 non-null   object\n",
      " 3   resolutionStatus  6219 non-null   object\n",
      " 4   supervisorID      6219 non-null   int64 \n",
      " 5   Call_Date         6219 non-null   object\n",
      "dtypes: int64(2), object(4)\n",
      "memory usage: 291.6+ KB\n"
     ]
    }
   ],
   "source": [
    "cust_call=pd.read_excel(r\"D:\\Make_my_trip\\FinalDataset\\CustomerCallFINALdataset.xlsx\")\n",
    "cust_call.info()"
   ]
  },
  {
   "cell_type": "code",
   "execution_count": null,
   "metadata": {},
   "outputs": [
    {
     "name": "stdout",
     "output_type": "stream",
     "text": [
      "Inserted 500 records into CustomerCall table...\n",
      "Inserted 1000 records into CustomerCall table...\n",
      "Inserted 1500 records into CustomerCall table...\n",
      "Inserted 2000 records into CustomerCall table...\n",
      "Inserted 2369 records into CustomerCall table...\n",
      "All customer call data inserted successfully!\n"
     ]
    }
   ],
   "source": [
    "import mysql.connector\n",
    "import pandas as pd\n",
    "import os\n",
    "\n",
    "# Load CSV into DataFrame\n",
    "df = pd.read_excel(r\"D:\\Make_my_trip\\FinalDataset\\CustomerCallFINALdataset.xlsx\")\n",
    "\n",
    "# Convert data types\n",
    "df[\"User_ID\"] = df[\"User_ID\"].astype(int)\n",
    "df[\"supervisorID\"] = df[\"supervisorID\"].astype(int)\n",
    "df[\"Arrival_date\"] = pd.to_datetime(df[\"Arrival_date\"], errors='coerce')\n",
    "df[\"Call_Date\"] = pd.to_datetime(df[\"Call_Date\"], errors='coerce')\n",
    "\n",
    "# Remove duplicates to avoid primary key conflicts\n",
    "df = df.drop_duplicates(subset=[\"User_ID\", \"Call_Date\"])\n",
    "\n",
    "# Convert dataframe to list of tuples\n",
    "data = [\n",
    "    (\n",
    "        int(row.User_ID), \n",
    "        row.Arrival_date.strftime('%Y-%m-%d %H:%M:%S') if pd.notna(row.Arrival_date) else None,\n",
    "        row.issueType, \n",
    "        row.resolutionStatus, \n",
    "        int(row.supervisorID), \n",
    "        row.Call_Date.strftime('%Y-%m-%d %H:%M:%S') if pd.notna(row.Call_Date) else None\n",
    "    ) \n",
    "    for row in df.itertuples(index=False)\n",
    "]\n",
    "\n",
    "# Connect to MySQL\n",
    "conn = mysql.connector.connect(\n",
    "    host=os.getenv(\"DB_HOST\"), \n",
    "    user=os.getenv(\"DB_USER\"),\n",
    "    password= os.getenv(\"DB_PASSWORD\"),\n",
    "    database=\"makemytrip\"\n",
    ")\n",
    "cursor = conn.cursor()\n",
    "\n",
    "# Insert Query with IGNORE\n",
    "insert_query = \"\"\"\n",
    "INSERT IGNORE INTO CustomerCall (User_ID, Arrival_date, issueType, resolutionStatus, supervisorID, Call_Date) \n",
    "VALUES (%s, %s, %s, %s, %s, %s)\n",
    "\"\"\"\n",
    "\n",
    "# Reduce batch size and commit frequently\n",
    "batch_size = 500  \n",
    "for i in range(0, len(data), batch_size):\n",
    "    batch = data[i:i + batch_size]\n",
    "    cursor.executemany(insert_query, batch)\n",
    "    conn.commit()\n",
    "    print(f\"Inserted {i + len(batch)} records into CustomerCall table...\")\n",
    "\n",
    "# Close connections\n",
    "cursor.close()\n",
    "conn.close()\n",
    "\n",
    "print(\"All customer call data inserted successfully!\")"
   ]
  },
  {
   "cell_type": "code",
   "execution_count": 55,
   "metadata": {},
   "outputs": [
    {
     "name": "stdout",
     "output_type": "stream",
     "text": [
      "<class 'pandas.core.frame.DataFrame'>\n",
      "RangeIndex: 10175 entries, 0 to 10174\n",
      "Data columns (total 8 columns):\n",
      " #   Column         Non-Null Count  Dtype \n",
      "---  ------         --------------  ----- \n",
      " 0   Guest_ID       10175 non-null  int64 \n",
      " 1   travelCode     10175 non-null  int64 \n",
      " 2   Guest_name     10175 non-null  object\n",
      " 3   Guest_Gender   10175 non-null  object\n",
      " 4   Age            10175 non-null  int64 \n",
      " 5   Guest_PhoneNo  10175 non-null  object\n",
      " 6   Guest_email    10175 non-null  object\n",
      " 7   idProof        10175 non-null  object\n",
      "dtypes: int64(3), object(5)\n",
      "memory usage: 636.1+ KB\n"
     ]
    }
   ],
   "source": [
    "guest=pd.read_excel(r\"D:\\Make_my_trip\\FinalDataset\\GuestFINALdataset.xlsx\")\n",
    "guest.info()"
   ]
  },
  {
   "cell_type": "code",
   "execution_count": null,
   "metadata": {},
   "outputs": [
    {
     "name": "stdout",
     "output_type": "stream",
     "text": [
      "Inserted 100 records into Guest table...\n",
      "Inserted 200 records into Guest table...\n",
      "Inserted 300 records into Guest table...\n",
      "Inserted 400 records into Guest table...\n",
      "Inserted 500 records into Guest table...\n",
      "Inserted 600 records into Guest table...\n",
      "Inserted 700 records into Guest table...\n",
      "Inserted 800 records into Guest table...\n",
      "Inserted 900 records into Guest table...\n",
      "Inserted 1000 records into Guest table...\n",
      "Inserted 1100 records into Guest table...\n",
      "Inserted 1200 records into Guest table...\n",
      "Inserted 1300 records into Guest table...\n",
      "Inserted 1339 records into Guest table...\n",
      "All guest data inserted successfully!\n"
     ]
    }
   ],
   "source": [
    "import mysql.connector\n",
    "import pandas as pd\n",
    "import os\n",
    "\n",
    "# Load CSV into DataFrame\n",
    "df = pd.read_excel(r\"D:\\Make_my_trip\\FinalDataset\\GuestFINALdataset.xlsx\")\n",
    "\n",
    "# Convert data types to match MySQL table\n",
    "df[\"Guest_ID\"] = df[\"Guest_ID\"].astype(int)\n",
    "df[\"travelCode\"] = df[\"travelCode\"].astype(int)\n",
    "df[\"Guest_name\"] = df[\"Guest_name\"].astype(str)\n",
    "df[\"Guest_Gender\"] = df[\"Guest_Gender\"].astype(str)\n",
    "df[\"Age\"] = df[\"Age\"].astype(int)\n",
    "df[\"Guest_PhoneNo\"] = df[\"Guest_PhoneNo\"].astype(str)\n",
    "df[\"Guest_email\"] = df[\"Guest_email\"].astype(str)\n",
    "df[\"idProof\"] = df[\"idProof\"].astype(str)\n",
    "\n",
    "# Drop duplicates based on Guest_ID (avoid primary key conflicts)\n",
    "df = df.drop_duplicates(subset=[\"Guest_ID\"])\n",
    "\n",
    "# Convert dataframe to list of tuples\n",
    "data = [\n",
    "    (\n",
    "        int(row.Guest_ID), \n",
    "        int(row.travelCode), \n",
    "        row.Guest_name, \n",
    "        row.Guest_Gender, \n",
    "        int(row.Age), \n",
    "        row.Guest_PhoneNo, \n",
    "        row.Guest_email, \n",
    "        row.idProof\n",
    "    ) \n",
    "    for row in df.itertuples(index=False)\n",
    "]\n",
    "\n",
    "# Connect to MySQL\n",
    "conn = mysql.connector.connect(\n",
    "    host=os.getenv(\"DB_HOST\"), \n",
    "    user=os.getenv(\"DB_USER\"),\n",
    "    password= os.getenv(\"DB_PASSWORD\"),\n",
    "    database=\"makemytrip\"\n",
    ")\n",
    "cursor = conn.cursor()\n",
    "\n",
    "# Insert Query (Ignore Duplicates)\n",
    "insert_query = \"\"\"\n",
    "INSERT IGNORE INTO Guest (Guest_ID, travelCode, Guest_name, Guest_Gender, Age, Guest_PhoneNo, Guest_email, idProof) \n",
    "VALUES (%s, %s, %s, %s, %s, %s, %s, %s)\n",
    "\"\"\"\n",
    "\n",
    "# Batch Insert (Prevent Locking Issues)\n",
    "batch_size = 100  \n",
    "for i in range(0, len(data), batch_size):\n",
    "    batch = data[i:i + batch_size]\n",
    "    cursor.executemany(insert_query, batch)\n",
    "    conn.commit()  # Commit after each batch\n",
    "    print(f\"Inserted {i + len(batch)} records into Guest table...\")\n",
    "\n",
    "# Close connections\n",
    "cursor.close()\n",
    "conn.close()\n",
    "\n",
    "print(\"All guest data inserted successfully!\")\n"
   ]
  },
  {
   "cell_type": "code",
   "execution_count": 57,
   "metadata": {},
   "outputs": [
    {
     "name": "stdout",
     "output_type": "stream",
     "text": [
      "<class 'pandas.core.frame.DataFrame'>\n",
      "RangeIndex: 40552 entries, 0 to 40551\n",
      "Data columns (total 10 columns):\n",
      " #   Column          Non-Null Count  Dtype  \n",
      "---  ------          --------------  -----  \n",
      " 0   travelCode      40552 non-null  int64  \n",
      " 1   User_ID         40552 non-null  int64  \n",
      " 2   Car_rented      40552 non-null  object \n",
      " 3   review_car      3773 non-null   object \n",
      " 4   review_hotel    40552 non-null  object \n",
      " 5   review_flights  40552 non-null  object \n",
      " 6   flight_rating   40552 non-null  int64  \n",
      " 7   hotel_rating    40552 non-null  int64  \n",
      " 8   car_rating      40552 non-null  int64  \n",
      " 9   overall_rating  40552 non-null  float64\n",
      "dtypes: float64(1), int64(5), object(4)\n",
      "memory usage: 3.1+ MB\n"
     ]
    }
   ],
   "source": [
    "review=pd.read_excel(r\"D:\\Make_my_trip\\FinalDataset\\ReviewFINALdataset.xlsx\")\n",
    "review.info()"
   ]
  },
  {
   "cell_type": "code",
   "execution_count": null,
   "metadata": {},
   "outputs": [
    {
     "name": "stdout",
     "output_type": "stream",
     "text": [
      "Inserted 1000 records into Review table...\n",
      "Inserted 2000 records into Review table...\n",
      "Inserted 3000 records into Review table...\n",
      "Inserted 4000 records into Review table...\n",
      "Inserted 5000 records into Review table...\n",
      "Inserted 6000 records into Review table...\n",
      "Inserted 7000 records into Review table...\n",
      "Inserted 8000 records into Review table...\n",
      "Inserted 9000 records into Review table...\n",
      "Inserted 10000 records into Review table...\n",
      "Inserted 11000 records into Review table...\n",
      "Inserted 12000 records into Review table...\n",
      "Inserted 13000 records into Review table...\n",
      "Inserted 14000 records into Review table...\n",
      "Inserted 15000 records into Review table...\n",
      "Inserted 16000 records into Review table...\n",
      "Inserted 17000 records into Review table...\n",
      "Inserted 18000 records into Review table...\n",
      "Inserted 19000 records into Review table...\n",
      "Inserted 20000 records into Review table...\n",
      "Inserted 21000 records into Review table...\n",
      "Inserted 22000 records into Review table...\n",
      "Inserted 23000 records into Review table...\n",
      "Inserted 24000 records into Review table...\n",
      "Inserted 25000 records into Review table...\n",
      "Inserted 26000 records into Review table...\n",
      "Inserted 27000 records into Review table...\n",
      "Inserted 28000 records into Review table...\n",
      "Inserted 29000 records into Review table...\n",
      "Inserted 30000 records into Review table...\n",
      "Inserted 31000 records into Review table...\n",
      "Inserted 32000 records into Review table...\n",
      "Inserted 33000 records into Review table...\n",
      "Inserted 34000 records into Review table...\n",
      "Inserted 35000 records into Review table...\n",
      "Inserted 36000 records into Review table...\n",
      "Inserted 37000 records into Review table...\n",
      "Inserted 38000 records into Review table...\n",
      "Inserted 39000 records into Review table...\n",
      "Inserted 40000 records into Review table...\n",
      "Inserted 40552 records into Review table...\n",
      "All review data inserted successfully!\n"
     ]
    }
   ],
   "source": [
    "import mysql.connector\n",
    "import pandas as pd\n",
    "import numpy as np\n",
    "import os\n",
    "\n",
    "# Load CSV into DataFrame\n",
    "df =pd.read_excel(r\"D:\\Make_my_trip\\FinalDataset\\ReviewFINALdataset.xlsx\")\n",
    "\n",
    "# Convert data types to match MySQL table\n",
    "df[\"travelCode\"] = df[\"travelCode\"].astype(int)\n",
    "df[\"User_ID\"] = df[\"User_ID\"].astype(int)\n",
    "df[\"Car_rented\"] = df[\"Car_rented\"].astype(str)\n",
    "df[\"review_car\"] = df[\"review_car\"].fillna(\"\").astype(str)  # Handle NULL values\n",
    "df[\"review_hotel\"] = df[\"review_hotel\"].fillna(\"\").astype(str)\n",
    "df[\"review_flights\"] = df[\"review_flights\"].fillna(\"\").astype(str)\n",
    "df[\"flight_rating\"] = df[\"flight_rating\"].astype(int)\n",
    "df[\"hotel_rating\"] = df[\"hotel_rating\"].astype(int)\n",
    "df[\"car_rating\"] = df[\"car_rating\"].astype(int)\n",
    "df[\"overall_rating\"] = df[\"overall_rating\"].astype(float)\n",
    "\n",
    "# Drop duplicates based on travelCode and User_ID (avoid primary key conflicts)\n",
    "df = df.drop_duplicates(subset=[\"travelCode\", \"User_ID\"])\n",
    "\n",
    "# Convert dataframe to list of tuples\n",
    "data = [\n",
    "    (\n",
    "        int(row.travelCode), \n",
    "        int(row.User_ID), \n",
    "        row.Car_rented if row.Car_rented in ['Confirmed', 'Not Rented', 'Pending', 'Cancelled'] else 'Not Rented', \n",
    "        row.review_car, \n",
    "        row.review_hotel, \n",
    "        row.review_flights, \n",
    "        int(row.flight_rating), \n",
    "        int(row.hotel_rating), \n",
    "        int(row.car_rating), \n",
    "        float(row.overall_rating)\n",
    "    ) \n",
    "    for row in df.itertuples(index=False)\n",
    "]\n",
    "\n",
    "# Connect to MySQL\n",
    "conn = mysql.connector.connect(\n",
    "    host=os.getenv(\"DB_HOST\"), \n",
    "    user=os.getenv(\"DB_USER\"),\n",
    "    password= os.getenv(\"DB_PASSWORD\"),\n",
    "    database=\"makemytrip\"\n",
    ")\n",
    "cursor = conn.cursor()\n",
    "\n",
    "# Insert Query (Ignore Duplicate Errors)\n",
    "insert_query = \"\"\"\n",
    "INSERT IGNORE INTO Review (travelCode, User_ID, Car_rented, review_car, review_hotel, review_flights, \n",
    "                          flight_rating, hotel_rating, car_rating, overall_rating) \n",
    "VALUES (%s, %s, %s, %s, %s, %s, %s, %s, %s, %s)\n",
    "\"\"\"\n",
    "\n",
    "# Batch Insert (Prevent Locking Issues)\n",
    "batch_size = 1000  \n",
    "for i in range(0, len(data), batch_size):\n",
    "    batch = data[i:i + batch_size]\n",
    "    cursor.executemany(insert_query, batch)\n",
    "    conn.commit()  # Commit after each batch\n",
    "    print(f\"Inserted {i + len(batch)} records into Review table...\")\n",
    "\n",
    "# Close connections\n",
    "cursor.close()\n",
    "conn.close()\n",
    "\n",
    "print(\"All review data inserted successfully!\")\n"
   ]
  },
  {
   "cell_type": "code",
   "execution_count": null,
   "metadata": {},
   "outputs": [],
   "source": [
    "review_value_counts = review['Car_rented'].value_counts()\n",
    "print(review_value_counts)"
   ]
  },
  {
   "cell_type": "code",
   "execution_count": null,
   "metadata": {},
   "outputs": [],
   "source": [
    "gender_value_counts = user_1['gender'].value_counts()\n",
    "print(gender_value_counts)"
   ]
  },
  {
   "cell_type": "code",
   "execution_count": 15,
   "metadata": {},
   "outputs": [
    {
     "name": "stdout",
     "output_type": "stream",
     "text": [
      "<class 'pandas.core.frame.DataFrame'>\n",
      "RangeIndex: 1340 entries, 0 to 1339\n",
      "Data columns (total 10 columns):\n",
      " #   Column                Non-Null Count  Dtype  \n",
      "---  ------                --------------  -----  \n",
      " 0   user_id               1340 non-null   int64  \n",
      " 1   company               1340 non-null   object \n",
      " 2   name                  1340 non-null   object \n",
      " 3   gender                1340 non-null   object \n",
      " 4   age                   1340 non-null   int64  \n",
      " 5   HotelBookingReviews   1340 non-null   object \n",
      " 6   FlightBookingReviews  1340 non-null   object \n",
      " 7   CarRentalReviews      1340 non-null   object \n",
      " 8   Rating                1340 non-null   int64  \n",
      " 9   travelCode            1310 non-null   float64\n",
      "dtypes: float64(1), int64(3), object(6)\n",
      "memory usage: 104.8+ KB\n"
     ]
    }
   ],
   "source": [
    "user=pd.read_csv(r\"D:\\Make_my_trip\\FinalDataset\\user_2.csv\")\n",
    "user.info()"
   ]
  },
  {
   "cell_type": "code",
   "execution_count": 16,
   "metadata": {},
   "outputs": [
    {
     "data": {
      "text/plain": [
       "Index(['user_id', 'company', 'name', 'gender', 'age', 'HotelBookingReviews',\n",
       "       'FlightBookingReviews', 'CarRentalReviews', 'Rating', 'travelCode'],\n",
       "      dtype='object')"
      ]
     },
     "execution_count": 16,
     "metadata": {},
     "output_type": "execute_result"
    }
   ],
   "source": [
    "user.columns"
   ]
  },
  {
   "cell_type": "code",
   "execution_count": 17,
   "metadata": {},
   "outputs": [
    {
     "data": {
      "text/plain": [
       "(1340, 10)"
      ]
     },
     "execution_count": 17,
     "metadata": {},
     "output_type": "execute_result"
    }
   ],
   "source": [
    "user.shape"
   ]
  },
  {
   "cell_type": "code",
   "execution_count": 18,
   "metadata": {},
   "outputs": [],
   "source": [
    "user=user.drop(columns=['HotelBookingReviews',\n",
    "       'FlightBookingReviews', 'CarRentalReviews', 'Rating', 'travelCode'],axis=True)"
   ]
  },
  {
   "cell_type": "code",
   "execution_count": 19,
   "metadata": {},
   "outputs": [
    {
     "data": {
      "text/plain": [
       "Index(['user_id', 'company', 'name', 'gender', 'age'], dtype='object')"
      ]
     },
     "execution_count": 19,
     "metadata": {},
     "output_type": "execute_result"
    }
   ],
   "source": [
    "user.columns"
   ]
  },
  {
   "cell_type": "code",
   "execution_count": 20,
   "metadata": {},
   "outputs": [
    {
     "data": {
      "text/html": [
       "<div>\n",
       "<style scoped>\n",
       "    .dataframe tbody tr th:only-of-type {\n",
       "        vertical-align: middle;\n",
       "    }\n",
       "\n",
       "    .dataframe tbody tr th {\n",
       "        vertical-align: top;\n",
       "    }\n",
       "\n",
       "    .dataframe thead th {\n",
       "        text-align: right;\n",
       "    }\n",
       "</style>\n",
       "<table border=\"1\" class=\"dataframe\">\n",
       "  <thead>\n",
       "    <tr style=\"text-align: right;\">\n",
       "      <th></th>\n",
       "      <th>user_id</th>\n",
       "      <th>company</th>\n",
       "      <th>name</th>\n",
       "      <th>gender</th>\n",
       "      <th>age</th>\n",
       "    </tr>\n",
       "  </thead>\n",
       "  <tbody>\n",
       "    <tr>\n",
       "      <th>0</th>\n",
       "      <td>0</td>\n",
       "      <td>4You</td>\n",
       "      <td>Roy Braun</td>\n",
       "      <td>male</td>\n",
       "      <td>21</td>\n",
       "    </tr>\n",
       "    <tr>\n",
       "      <th>1</th>\n",
       "      <td>1</td>\n",
       "      <td>4You</td>\n",
       "      <td>Joseph Holsten</td>\n",
       "      <td>male</td>\n",
       "      <td>37</td>\n",
       "    </tr>\n",
       "    <tr>\n",
       "      <th>2</th>\n",
       "      <td>2</td>\n",
       "      <td>4You</td>\n",
       "      <td>Wilma Mcinnis</td>\n",
       "      <td>female</td>\n",
       "      <td>48</td>\n",
       "    </tr>\n",
       "    <tr>\n",
       "      <th>3</th>\n",
       "      <td>3</td>\n",
       "      <td>4You</td>\n",
       "      <td>Paula Daniel</td>\n",
       "      <td>female</td>\n",
       "      <td>23</td>\n",
       "    </tr>\n",
       "    <tr>\n",
       "      <th>4</th>\n",
       "      <td>4</td>\n",
       "      <td>4You</td>\n",
       "      <td>Patricia Carson</td>\n",
       "      <td>female</td>\n",
       "      <td>44</td>\n",
       "    </tr>\n",
       "  </tbody>\n",
       "</table>\n",
       "</div>"
      ],
      "text/plain": [
       "   user_id company             name  gender  age\n",
       "0        0    4You        Roy Braun    male   21\n",
       "1        1    4You   Joseph Holsten    male   37\n",
       "2        2    4You    Wilma Mcinnis  female   48\n",
       "3        3    4You     Paula Daniel  female   23\n",
       "4        4    4You  Patricia Carson  female   44"
      ]
     },
     "execution_count": 20,
     "metadata": {},
     "output_type": "execute_result"
    }
   ],
   "source": [
    "user.head()"
   ]
  },
  {
   "cell_type": "code",
   "execution_count": 21,
   "metadata": {},
   "outputs": [
    {
     "name": "stdout",
     "output_type": "stream",
     "text": [
      "gender\n",
      "male      452\n",
      "female    448\n",
      "none      440\n",
      "Name: count, dtype: int64\n"
     ]
    }
   ],
   "source": [
    "gender_value_counts = user['gender'].value_counts()\n",
    "print(gender_value_counts)"
   ]
  },
  {
   "cell_type": "code",
   "execution_count": 22,
   "metadata": {},
   "outputs": [
    {
     "data": {
      "text/plain": [
       "array(['male', 'female', 'none'], dtype=object)"
      ]
     },
     "execution_count": 22,
     "metadata": {},
     "output_type": "execute_result"
    }
   ],
   "source": [
    "unique_values = user['gender'].unique()\n",
    "unique_values"
   ]
  },
  {
   "cell_type": "code",
   "execution_count": 11,
   "metadata": {},
   "outputs": [],
   "source": [
    "# Clean and validate gender values\n",
    "def clean_gender(value):\n",
    "    value = str(value).strip()  # Remove spaces\n",
    "    valid_genders = {\"Male\", \"Female\", \"Other\"}\n",
    "    gender_map = {\"M\": \"Male\", \"F\": \"Female\", \"O\": \"Other\"}  # Mapping shorthand to full names\n",
    "    return gender_map.get(value, value) if value in valid_genders or value in gender_map else None\n",
    "\n",
    "user[\"gender\"] = user[\"gender\"].apply(clean_gender)"
   ]
  },
  {
   "cell_type": "code",
   "execution_count": 12,
   "metadata": {},
   "outputs": [
    {
     "data": {
      "text/plain": [
       "array([None], dtype=object)"
      ]
     },
     "execution_count": 12,
     "metadata": {},
     "output_type": "execute_result"
    }
   ],
   "source": [
    "unique_values = user['gender'].unique()\n",
    "unique_values"
   ]
  },
  {
   "cell_type": "code",
   "execution_count": 13,
   "metadata": {},
   "outputs": [
    {
     "data": {
      "text/html": [
       "<div>\n",
       "<style scoped>\n",
       "    .dataframe tbody tr th:only-of-type {\n",
       "        vertical-align: middle;\n",
       "    }\n",
       "\n",
       "    .dataframe tbody tr th {\n",
       "        vertical-align: top;\n",
       "    }\n",
       "\n",
       "    .dataframe thead th {\n",
       "        text-align: right;\n",
       "    }\n",
       "</style>\n",
       "<table border=\"1\" class=\"dataframe\">\n",
       "  <thead>\n",
       "    <tr style=\"text-align: right;\">\n",
       "      <th></th>\n",
       "      <th>user_id</th>\n",
       "      <th>company</th>\n",
       "      <th>name</th>\n",
       "      <th>gender</th>\n",
       "      <th>age</th>\n",
       "    </tr>\n",
       "  </thead>\n",
       "  <tbody>\n",
       "    <tr>\n",
       "      <th>0</th>\n",
       "      <td>0</td>\n",
       "      <td>4You</td>\n",
       "      <td>Roy Braun</td>\n",
       "      <td>None</td>\n",
       "      <td>21</td>\n",
       "    </tr>\n",
       "    <tr>\n",
       "      <th>1</th>\n",
       "      <td>1</td>\n",
       "      <td>4You</td>\n",
       "      <td>Joseph Holsten</td>\n",
       "      <td>None</td>\n",
       "      <td>37</td>\n",
       "    </tr>\n",
       "    <tr>\n",
       "      <th>2</th>\n",
       "      <td>2</td>\n",
       "      <td>4You</td>\n",
       "      <td>Wilma Mcinnis</td>\n",
       "      <td>None</td>\n",
       "      <td>48</td>\n",
       "    </tr>\n",
       "    <tr>\n",
       "      <th>3</th>\n",
       "      <td>3</td>\n",
       "      <td>4You</td>\n",
       "      <td>Paula Daniel</td>\n",
       "      <td>None</td>\n",
       "      <td>23</td>\n",
       "    </tr>\n",
       "    <tr>\n",
       "      <th>4</th>\n",
       "      <td>4</td>\n",
       "      <td>4You</td>\n",
       "      <td>Patricia Carson</td>\n",
       "      <td>None</td>\n",
       "      <td>44</td>\n",
       "    </tr>\n",
       "  </tbody>\n",
       "</table>\n",
       "</div>"
      ],
      "text/plain": [
       "   user_id company             name gender  age\n",
       "0        0    4You        Roy Braun   None   21\n",
       "1        1    4You   Joseph Holsten   None   37\n",
       "2        2    4You    Wilma Mcinnis   None   48\n",
       "3        3    4You     Paula Daniel   None   23\n",
       "4        4    4You  Patricia Carson   None   44"
      ]
     },
     "execution_count": 13,
     "metadata": {},
     "output_type": "execute_result"
    }
   ],
   "source": [
    "user.head()"
   ]
  },
  {
   "cell_type": "code",
   "execution_count": null,
   "metadata": {},
   "outputs": [],
   "source": []
  }
 ],
 "metadata": {
  "kernelspec": {
   "display_name": "recomm",
   "language": "python",
   "name": "python3"
  },
  "language_info": {
   "codemirror_mode": {
    "name": "ipython",
    "version": 3
   },
   "file_extension": ".py",
   "mimetype": "text/x-python",
   "name": "python",
   "nbconvert_exporter": "python",
   "pygments_lexer": "ipython3",
   "version": "3.12.1"
  }
 },
 "nbformat": 4,
 "nbformat_minor": 2
}
